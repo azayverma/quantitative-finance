{
  "nbformat": 4,
  "nbformat_minor": 0,
  "metadata": {
    "colab": {
      "name": "Option PnL Explained - Bivariate Taylor's Series.ipynb",
      "provenance": [],
      "collapsed_sections": []
    },
    "kernelspec": {
      "name": "python3",
      "display_name": "Python 3"
    }
  },
  "cells": [
    {
      "cell_type": "markdown",
      "metadata": {
        "id": "I3j92xLmq62e",
        "colab_type": "text"
      },
      "source": [
        "# **Option PnL Explained using Finite Difference and MultiVariate Taylor's Series**"
      ]
    },
    {
      "cell_type": "code",
      "metadata": {
        "id": "YwL3kZJksCJO",
        "colab_type": "code",
        "colab": {}
      },
      "source": [
        "import numpy as np\n",
        "import scipy.stats as si"
      ],
      "execution_count": null,
      "outputs": []
    },
    {
      "cell_type": "markdown",
      "metadata": {
        "id": "oUbvVeTCuHS6",
        "colab_type": "text"
      },
      "source": [
        "### Fair value of  European Vanilla Call with Dividend "
      ]
    },
    {
      "cell_type": "code",
      "metadata": {
        "id": "Mkpbu9Rtq2uv",
        "colab_type": "code",
        "colab": {}
      },
      "source": [
        "def European_call_val(St, K, T, t, r, vol):\n",
        "  \n",
        "  d1 = (np.log(St / K) + (r + 0.5 * vol*vol) * (T-t)) / (vol * np.sqrt((T-t)))\n",
        "  d2 = (np.log(St / K) + (r - 0.5 * vol*vol) * (T-t)) / (vol * np.sqrt((T-t)))\n",
        "    \n",
        "  fair_val = (St * si.norm.cdf(d1, 0.0, 1.0) - K * np.exp(-r * (T-t)) * si.norm.cdf(d2, 0.0, 1.0))\n",
        "    \n",
        "  return fair_val"
      ],
      "execution_count": null,
      "outputs": []
    },
    {
      "cell_type": "code",
      "metadata": {
        "id": "upv385o9slAU",
        "colab_type": "code",
        "colab": {
          "base_uri": "https://localhost:8080/",
          "height": 34
        },
        "outputId": "c8dff6dd-8c36-46fb-a55d-9ad5ded8ddf6"
      },
      "source": [
        "European_call_val(100,100,0.25,0,0.05,0.30)"
      ],
      "execution_count": null,
      "outputs": [
        {
          "output_type": "execute_result",
          "data": {
            "text/plain": [
              "6.583084497992466"
            ]
          },
          "metadata": {
            "tags": []
          },
          "execution_count": 77
        }
      ]
    },
    {
      "cell_type": "markdown",
      "metadata": {
        "id": "xAWm-RrIwKBf",
        "colab_type": "text"
      },
      "source": [
        "###Option Greeks using Finite Difference and Closed Form Solution (a.k.a Analytical Solution)"
      ]
    },
    {
      "cell_type": "markdown",
      "metadata": {
        "id": "ucnz4Al4wUmb",
        "colab_type": "text"
      },
      "source": [
        "#### **1. Using Finite Difference**\n",
        "\n",
        "Note: Shock size on stock price is taken as $0.01 and shock size on vol is taken as 0.1% absolute"
      ]
    },
    {
      "cell_type": "code",
      "metadata": {
        "id": "5OGsE5JnwI3d",
        "colab_type": "code",
        "colab": {}
      },
      "source": [
        "#Only forward delta is shown. Backward and Central can be easily implemented based on the below code. FD stands for Finite Difference\n",
        "def European_call_delta_FD(shock_size, St, K, T, t, r, vol):\n",
        "  \n",
        "  base_price = European_call_val(St, K, T, t, r, vol)\n",
        "  shocked_price_up = European_call_val(St+shock_size, K, T, t, r, vol)\n",
        "  \n",
        "  delta = (shocked_price_up - base_price)/(shock_size)\n",
        "  \n",
        "  return delta"
      ],
      "execution_count": null,
      "outputs": []
    },
    {
      "cell_type": "code",
      "metadata": {
        "id": "QSpwXot6x-0e",
        "colab_type": "code",
        "colab": {
          "base_uri": "https://localhost:8080/",
          "height": 34
        },
        "outputId": "b7112b3b-324e-46ce-b033-96befc847885"
      },
      "source": [
        "European_call_delta_FD(0.01,100,100,0.25,0,0.05,0.30)"
      ],
      "execution_count": null,
      "outputs": [
        {
          "output_type": "execute_result",
          "data": {
            "text/plain": [
              "0.5630342436781177"
            ]
          },
          "metadata": {
            "tags": []
          },
          "execution_count": 79
        }
      ]
    },
    {
      "cell_type": "code",
      "metadata": {
        "id": "JPk-hZ07um5K",
        "colab_type": "code",
        "colab": {}
      },
      "source": [
        "def European_call_gamma_FD(shock_size, St, K, T, t, r, vol):\n",
        "  \n",
        "  base_price = European_call_val(St, K, T, t, r, vol)\n",
        "  shocked_price_up = European_call_val(St+shock_size, K, T, t, r, vol)\n",
        "  shocked_price_down = European_call_val(St-shock_size, K, T, t, r, vol)\n",
        "  \n",
        "  gamma = (shocked_price_up + shocked_price_down - 2* base_price)/(shock_size*shock_size)\n",
        "  \n",
        "  return gamma"
      ],
      "execution_count": null,
      "outputs": []
    },
    {
      "cell_type": "code",
      "metadata": {
        "id": "PTxp8rt2uncI",
        "colab_type": "code",
        "colab": {
          "base_uri": "https://localhost:8080/",
          "height": 34
        },
        "outputId": "ff5db0c4-cd46-4baf-d605-d65662717083"
      },
      "source": [
        "European_call_gamma_FD(0.01,100,100,0.25,0,0.05,0.30)"
      ],
      "execution_count": null,
      "outputs": [
        {
          "output_type": "execute_result",
          "data": {
            "text/plain": [
              "0.02626485667178713"
            ]
          },
          "metadata": {
            "tags": []
          },
          "execution_count": 81
        }
      ]
    },
    {
      "cell_type": "code",
      "metadata": {
        "id": "mmmE1dGCuoeG",
        "colab_type": "code",
        "colab": {}
      },
      "source": [
        "def European_call_vega_FD(shock_size, St, K, T, t, r, vol):\n",
        "  \n",
        "  base_price = European_call_val(St, K, T, t, r, vol)\n",
        "  shocked_price_up = European_call_val(St, K, T, t, r, vol+shock_size)\n",
        "\n",
        "  vega = (shocked_price_up - base_price)/(shock_size)\n",
        "  \n",
        "  return vega"
      ],
      "execution_count": null,
      "outputs": []
    },
    {
      "cell_type": "code",
      "metadata": {
        "id": "1T4wqBw8uoha",
        "colab_type": "code",
        "colab": {
          "base_uri": "https://localhost:8080/",
          "height": 34
        },
        "outputId": "f284bb3b-7176-41d5-eb90-62d3899f238e"
      },
      "source": [
        "European_call_vega_FD(0.001,100,100,0.25,0,0.05,0.30)"
      ],
      "execution_count": null,
      "outputs": [
        {
          "output_type": "execute_result",
          "data": {
            "text/plain": [
              "19.698685353795042"
            ]
          },
          "metadata": {
            "tags": []
          },
          "execution_count": 83
        }
      ]
    },
    {
      "cell_type": "code",
      "metadata": {
        "id": "6F4V1DdFupG0",
        "colab_type": "code",
        "colab": {}
      },
      "source": [
        "def European_call_vomma_FD(shock_size, St, K, T, t, r, vol):\n",
        "  \n",
        "  base_price = European_call_val(St, K, T, t, r, vol)\n",
        "  shocked_price_up = European_call_val(St, K, T, t, r, vol+shock_size)\n",
        "  shocked_price_down = European_call_val(St, K, T, t, r, vol-shock_size)\n",
        "\n",
        "  vomma = (shocked_price_up + shocked_price_down - 2* base_price)/(shock_size*shock_size)\n",
        "  \n",
        "  return vomma"
      ],
      "execution_count": null,
      "outputs": []
    },
    {
      "cell_type": "code",
      "metadata": {
        "id": "JDWO9WN7upKm",
        "colab_type": "code",
        "colab": {
          "base_uri": "https://localhost:8080/",
          "height": 34
        },
        "outputId": "1b742d48-6117-4f71-a0d0-c6db16e1d2ec"
      },
      "source": [
        "European_call_vomma_FD(0.001,100,100,0.25,0,0.05,0.30)"
      ],
      "execution_count": null,
      "outputs": [
        {
          "output_type": "execute_result",
          "data": {
            "text/plain": [
              "0.08664261486046598"
            ]
          },
          "metadata": {
            "tags": []
          },
          "execution_count": 85
        }
      ]
    },
    {
      "cell_type": "code",
      "metadata": {
        "id": "MV974XgXupmM",
        "colab_type": "code",
        "colab": {}
      },
      "source": [
        "def European_call_vanna_FD(shock_size_stock, shock_size_vol, St, K, T, t, r, vol):\n",
        "  \n",
        "  base_price = European_call_val(St, K, T, t, r, vol)\n",
        "  shocked_price_upstock_upvol = European_call_val(St+shock_size_stock, K, T, t, r, vol+shock_size_vol)\n",
        "  shocked_price_upstock_downvol = European_call_val(St+shock_size_stock, K, T, t, r, vol-shock_size_vol)\n",
        "  shocked_price_downstock_upvol = European_call_val(St-shock_size_stock, K, T, t, r, vol+shock_size_vol)\n",
        "  shocked_price_downstock_downvol = European_call_val(St-shock_size_stock, K, T, t, r, vol-shock_size_vol)\n",
        "  \n",
        "  vanna = (shocked_price_upstock_upvol - shocked_price_upstock_downvol - shocked_price_downstock_upvol + shocked_price_downstock_downvol)/(4*shock_size_stock*shock_size_vol)\n",
        "  \n",
        "  return vanna"
      ],
      "execution_count": null,
      "outputs": []
    },
    {
      "cell_type": "code",
      "metadata": {
        "id": "FW7m--jDuqCZ",
        "colab_type": "code",
        "colab": {
          "base_uri": "https://localhost:8080/",
          "height": 34
        },
        "outputId": "b228cad4-aec2-4cca-8aa9-e031fae0e8b9"
      },
      "source": [
        "European_call_vanna_FD(0.01,0.001,100,100,0.25,0,0.05,0.30)"
      ],
      "execution_count": null,
      "outputs": [
        {
          "output_type": "execute_result",
          "data": {
            "text/plain": [
              "-0.010944858530592681"
            ]
          },
          "metadata": {
            "tags": []
          },
          "execution_count": 87
        }
      ]
    },
    {
      "cell_type": "markdown",
      "metadata": {
        "id": "ysXBRfYtzWoL",
        "colab_type": "text"
      },
      "source": [
        "#### **2. Closed Form**\n",
        "**Note: This can be better implemented using a class.**\n",
        "Same inputs are going to each function. d1 and d2 calculated multiple times, vega recalculated in vomma, etc are all inefficiencies that can be addressed by creating a Closed_Form_Greeks_Class. This will be covered in subsequent lectures. Class is not included here to make the understanding of the topic simple"
      ]
    },
    {
      "cell_type": "code",
      "metadata": {
        "id": "kYgYQsvgyXtI",
        "colab_type": "code",
        "colab": {}
      },
      "source": [
        "#CF stands for Closed Form\n",
        "\n",
        "def European_call_delta_CF(St, K, T, t, r, vol):\n",
        "  \n",
        "  d1 = (np.log(St / K) + (r + 0.5 * vol*vol) * (T-t)) / (vol * np.sqrt((T-t)))\n",
        "    \n",
        "  delta = si.norm.cdf(d1, 0.0, 1.0)\n",
        "\n",
        "  return delta"
      ],
      "execution_count": null,
      "outputs": []
    },
    {
      "cell_type": "code",
      "metadata": {
        "id": "FU54aUe0yhR3",
        "colab_type": "code",
        "colab": {
          "base_uri": "https://localhost:8080/",
          "height": 34
        },
        "outputId": "fff33e58-5ddf-42c1-f582-5ef82fef32b3"
      },
      "source": [
        "opt_delta = European_call_delta_CF(100,100,0.25,0,0.05,0.30)\n",
        "print(opt_delta)"
      ],
      "execution_count": null,
      "outputs": [
        {
          "output_type": "stream",
          "text": [
            "0.5629029283920401\n"
          ],
          "name": "stdout"
        }
      ]
    },
    {
      "cell_type": "code",
      "metadata": {
        "id": "AZNflJeQsXAO",
        "colab_type": "code",
        "colab": {}
      },
      "source": [
        "def European_call_gamma_CF(St, K, T, t, r, vol):\n",
        "  \n",
        "  d1 = (np.log(St / K) + (r + 0.5 * vol*vol) * (T-t)) / (vol * np.sqrt((T-t)))\n",
        "    \n",
        "  gamma = (si.norm.pdf(d1, 0.0, 1.0)) / (St * vol * np.sqrt(T-t))\n",
        "\n",
        "  return gamma"
      ],
      "execution_count": null,
      "outputs": []
    },
    {
      "cell_type": "code",
      "metadata": {
        "id": "_zoO2UHe4va7",
        "colab_type": "code",
        "colab": {
          "base_uri": "https://localhost:8080/",
          "height": 34
        },
        "outputId": "baaa2922-1998-49a5-ea21-4bb31385502a"
      },
      "source": [
        "opt_gamma = European_call_gamma_CF(100,100,0.25,0,0.05,0.30)\n",
        "print(opt_gamma)"
      ],
      "execution_count": null,
      "outputs": [
        {
          "output_type": "stream",
          "text": [
            "0.02626485733014476\n"
          ],
          "name": "stdout"
        }
      ]
    },
    {
      "cell_type": "code",
      "metadata": {
        "id": "0dreN3VusXN7",
        "colab_type": "code",
        "colab": {}
      },
      "source": [
        "def European_call_vega_CF(St, K, T, t, r, vol):\n",
        "  \n",
        "  d1 = (np.log(St / K) + (r + 0.5 * vol*vol) * (T-t)) / (vol * np.sqrt((T-t)))\n",
        "    \n",
        "  vega = St * si.norm.pdf(d1, 0.0, 1.0) * np.sqrt(T-t) \n",
        "\n",
        "  return vega"
      ],
      "execution_count": null,
      "outputs": []
    },
    {
      "cell_type": "code",
      "metadata": {
        "id": "xun6BqRu4-Kn",
        "colab_type": "code",
        "colab": {
          "base_uri": "https://localhost:8080/",
          "height": 34
        },
        "outputId": "e5118a72-a4ff-4d89-a091-05d81635fb95"
      },
      "source": [
        "opt_vega = European_call_vega_CF(100,100,0.25,0,0.05,0.30)\n",
        "print(opt_vega)"
      ],
      "execution_count": null,
      "outputs": [
        {
          "output_type": "stream",
          "text": [
            "19.69864299760857\n"
          ],
          "name": "stdout"
        }
      ]
    },
    {
      "cell_type": "code",
      "metadata": {
        "id": "fG25K35esXT2",
        "colab_type": "code",
        "colab": {}
      },
      "source": [
        "def European_call_vomma_CF(St, K, T, t, r, vol):\n",
        "  \n",
        "  d1 = (np.log(St / K) + (r + 0.5 * vol*vol) * (T-t)) / (vol * np.sqrt((T-t)))\n",
        "  d2 = d1 - vol*np.sqrt(T-t)  \n",
        "  vega = St*si.norm.pdf(d1, 0.0, 1.0)*np.sqrt(T-t)\n",
        "  \n",
        "  vomma = vega*d1*d2/vol\n",
        "\n",
        "  return vomma"
      ],
      "execution_count": null,
      "outputs": []
    },
    {
      "cell_type": "code",
      "metadata": {
        "id": "NeRdHOrm5DnO",
        "colab_type": "code",
        "colab": {
          "base_uri": "https://localhost:8080/",
          "height": 34
        },
        "outputId": "978cdcd5-25d0-4d4b-ad16-097a7ff23d32"
      },
      "source": [
        "opt_vomma = European_call_vomma_CF(100,100,0.25,0,0.05,0.30)\n",
        "print(opt_vomma)"
      ],
      "execution_count": null,
      "outputs": [
        {
          "output_type": "stream",
          "text": [
            "0.08663755022096391\n"
          ],
          "name": "stdout"
        }
      ]
    },
    {
      "cell_type": "code",
      "metadata": {
        "id": "t_qT8PxVsXYm",
        "colab_type": "code",
        "colab": {}
      },
      "source": [
        "def European_call_vanna_CF(St, K, T, t, r, vol):\n",
        "  \n",
        "  d1 = (np.log(St / K) + (r + 0.5 * vol*vol) * (T-t)) / (vol * np.sqrt((T-t)))\n",
        "  d2 = d1 - vol*np.sqrt(T-t)\n",
        "    \n",
        "  vanna = -si.norm.pdf(d1, 0.0, 1.0)*d2/vol\n",
        "\n",
        "  return vanna"
      ],
      "execution_count": null,
      "outputs": []
    },
    {
      "cell_type": "code",
      "metadata": {
        "id": "G8MpIYO15Inm",
        "colab_type": "code",
        "colab": {
          "base_uri": "https://localhost:8080/",
          "height": 34
        },
        "outputId": "120ef5e0-f8b7-43f5-ce56-c7084d73e98e"
      },
      "source": [
        "opt_vanna = European_call_vanna_CF(100,100,0.25,0,0.05,0.30)\n",
        "print(opt_vanna)"
      ],
      "execution_count": null,
      "outputs": [
        {
          "output_type": "stream",
          "text": [
            "-0.010943690554227017\n"
          ],
          "name": "stdout"
        }
      ]
    },
    {
      "cell_type": "markdown",
      "metadata": {
        "id": "SVYgBZSNojdF",
        "colab_type": "text"
      },
      "source": [
        "# Explained PnL Attribution using MultiVariate Taylor's Series\n",
        "The unexplained PnL is captured via risk not in VaR through stress testing"
      ]
    },
    {
      "cell_type": "code",
      "metadata": {
        "id": "za5Pbv5ToiqF",
        "colab_type": "code",
        "colab": {
          "base_uri": "https://localhost:8080/",
          "height": 238
        },
        "outputId": "1b0010d3-6d31-4ce6-be88-cfe1e19f6cd3"
      },
      "source": [
        "chg_stock_price = 0.05\n",
        "chg_vol = 0.004\n",
        "\n",
        "#This is the exposure that you need to hedge in order to hedge the greek. \n",
        "#Typically, in equities, traders hedge stock price and volatility based greeks and not theta and rho\n",
        "Delta_PnL = opt_delta * chg_stock_price\n",
        "Gamma_PnL = 0.5 * opt_gamma * chg_stock_price * chg_stock_price\n",
        "Vega_PnL = opt_vega * chg_vol\n",
        "Vomma_PnL = 0.5 * opt_vomma * chg_vol * chg_vol\n",
        "Vanna_PnL = opt_vanna * chg_stock_price * chg_vol\n",
        "\n",
        "Total_Explained_PnL = Delta_PnL +  Gamma_PnL + Vega_PnL + Vomma_PnL + Vanna_PnL\n",
        "\n",
        "print(\"Delta PnL: \", Delta_PnL)\n",
        "print(\"Gamma PnL: \", Gamma_PnL)\n",
        "print(\"Vega PnL: \", Vega_PnL)\n",
        "print(\"Vomma PnL: \", Vomma_PnL)\n",
        "print(\"Vanna PnL: \", Vanna_PnL)\n",
        "print(\"Total Explained PnL: \", Total_Explained_PnL)\n",
        "print(\"\\n\")\n",
        "\n",
        "#Attribution Analysis\n",
        "print(\"Delta PnL Attribution: \", Delta_PnL/Total_Explained_PnL)\n",
        "print(\"Gamma PnL Attribution: \", Gamma_PnL/Total_Explained_PnL)\n",
        "print(\"Vega PnL Attribution: \", Vega_PnL/Total_Explained_PnL)\n",
        "print(\"Vomma PnL Attribution: \", Vomma_PnL/Total_Explained_PnL)\n",
        "print(\"Vanna PnL Attribution: \", Vanna_PnL/Total_Explained_PnL)"
      ],
      "execution_count": null,
      "outputs": [
        {
          "output_type": "stream",
          "text": [
            "Delta PnL:  0.02814514641960201\n",
            "Gamma PnL:  3.2831071662680955e-05\n",
            "Vega PnL:  0.07879457199043428\n",
            "Vomma PnL:  6.931004017677113e-07\n",
            "Vanna PnL:  -2.1887381108454035e-06\n",
            "Total Explained PnL:  0.10697105384398989\n",
            "\n",
            "\n",
            "Delta PnL Attribution:  0.2631099293520079\n",
            "Gamma PnL Attribution:  0.000306915473699669\n",
            "Vega PnL Attribution:  0.7365971368792055\n",
            "Vomma PnL Attribution:  6.479326666993033e-06\n",
            "Vanna PnL Attribution:  -2.0461031579977995e-05\n"
          ],
          "name": "stdout"
        }
      ]
    },
    {
      "cell_type": "markdown",
      "metadata": {
        "id": "ENlY1rIyBM30",
        "colab_type": "text"
      },
      "source": [
        "# PnL Explained using Analytical solution (Full Reval)"
      ]
    },
    {
      "cell_type": "code",
      "metadata": {
        "id": "OndtwlRhBD6a",
        "colab_type": "code",
        "colab": {
          "base_uri": "https://localhost:8080/",
          "height": 68
        },
        "outputId": "f824978f-12e0-4f11-81c0-be6c69f9d5df"
      },
      "source": [
        "Total_PnL = European_call_val((100 + chg_stock_price),100,0.25,0,0.05,(0.30 + chg_vol)) - European_call_val(100,100,0.25,0,0.05,0.30)\n",
        "print(\"Total PnL:\", Total_PnL)\n",
        "print(\"Total Explained PnL:\", Total_Explained_PnL)\n",
        "print(\"Total Unexplained PnL:\", Total_PnL - Total_Explained_PnL)"
      ],
      "execution_count": null,
      "outputs": [
        {
          "output_type": "stream",
          "text": [
            "Total PnL: 0.10697083815418296\n",
            "Total Explained PnL: 0.10697105384398989\n",
            "Total Unexplained PnL: -2.1568980693165152e-07\n"
          ],
          "name": "stdout"
        }
      ]
    }
  ]
}