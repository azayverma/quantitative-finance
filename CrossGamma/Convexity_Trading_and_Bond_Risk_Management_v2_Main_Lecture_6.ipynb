{
  "nbformat": 4,
  "nbformat_minor": 0,
  "metadata": {
    "colab": {
      "name": "Convexity_Trading_and_Bond_Risk_Management_v2_Main - Lecture 6.ipynb",
      "provenance": [],
      "collapsed_sections": []
    },
    "kernelspec": {
      "name": "python3",
      "display_name": "Python 3"
    }
  },
  "cells": [
    {
      "cell_type": "markdown",
      "metadata": {
        "id": "ZS_zqu4wJQpO",
        "colab_type": "text"
      },
      "source": [
        "#**Convexity Trading and Bond Portfolio Risk Management**"
      ]
    },
    {
      "cell_type": "markdown",
      "metadata": {
        "id": "CtIyRz-jJaBO",
        "colab_type": "text"
      },
      "source": [
        "##**Function for discount factors from spot rates**"
      ]
    },
    {
      "cell_type": "code",
      "metadata": {
        "id": "YpqhPYgKE31X",
        "colab_type": "code",
        "colab": {}
      },
      "source": [
        "def disc_fact(spot):\n",
        "  discount_factors=[]\n",
        "  for i in range(len(spot)):\n",
        "    discount_factors.append(1/(1+spot[i])**(i+1))\n",
        "  return discount_factors"
      ],
      "execution_count": 1,
      "outputs": []
    },
    {
      "cell_type": "code",
      "metadata": {
        "id": "622XWJGCxYOM",
        "colab_type": "code",
        "colab": {
          "base_uri": "https://localhost:8080/",
          "height": 187
        },
        "outputId": "b6047706-31d5-4ebd-fa4c-5f79f47bb311"
      },
      "source": [
        "#Execute the above function with an example\n",
        "spot_rates = [0.007, 0.015, 0.023, 0.030, 0.037, 0.043, 0.048, 0.052, 0.056, 0.06]\n",
        "spot_rates\n",
        "\n",
        "disc_fact(spot_rates)"
      ],
      "execution_count": 2,
      "outputs": [
        {
          "output_type": "execute_result",
          "data": {
            "text/plain": [
              "[0.99304865938431,\n",
              " 0.9706617486471405,\n",
              " 0.934056396477656,\n",
              " 0.8884870479156888,\n",
              " 0.8338851080567814,\n",
              " 0.7767730500853498,\n",
              " 0.7202296919196319,\n",
              " 0.666613464512311,\n",
              " 0.612385270513089,\n",
              " 0.5583947769151179]"
            ]
          },
          "metadata": {
            "tags": []
          },
          "execution_count": 2
        }
      ]
    },
    {
      "cell_type": "markdown",
      "metadata": {
        "id": "Z8SdMSdBJi9B",
        "colab_type": "text"
      },
      "source": [
        "##**Function for bond price from spot rates**"
      ]
    },
    {
      "cell_type": "code",
      "metadata": {
        "id": "PZV2_38kE81J",
        "colab_type": "code",
        "colab": {}
      },
      "source": [
        "def bond_price_spot(cpn, spot, tenor, principal):\n",
        "  price = 0\n",
        "  z = disc_fact(spot)\n",
        "  for i in range(tenor):\n",
        "    if(i == tenor-1):\n",
        "      price = price +  principal*(1+cpn)*z[i]\n",
        "    else:\n",
        "      price = price +  principal*cpn*z[i]\n",
        "  return price"
      ],
      "execution_count": 3,
      "outputs": []
    },
    {
      "cell_type": "code",
      "metadata": {
        "id": "pDgthvPgy7oH",
        "colab_type": "code",
        "colab": {
          "base_uri": "https://localhost:8080/",
          "height": 34
        },
        "outputId": "4398b59b-bfb2-4c71-fe6a-6e1818bd3a73"
      },
      "source": [
        "bond_price_spot(0.1,spot_rates,5,100)"
      ],
      "execution_count": 4,
      "outputs": [
        {
          "output_type": "execute_result",
          "data": {
            "text/plain": [
              "129.58990041049393"
            ]
          },
          "metadata": {
            "tags": []
          },
          "execution_count": 4
        }
      ]
    },
    {
      "cell_type": "markdown",
      "metadata": {
        "id": "LXXl8dbhJu0H",
        "colab_type": "text"
      },
      "source": [
        "##**Function for bond prices from YTM**"
      ]
    },
    {
      "cell_type": "code",
      "metadata": {
        "id": "VTW1obAH2SGo",
        "colab_type": "code",
        "colab": {}
      },
      "source": [
        "def bond_price_ytm(cpn, ytm, tenor, principal):\n",
        "  return ((1-(1+ytm)**(-1*tenor))*(cpn*principal/ytm)) + (principal*((1+ytm)**(-1*tenor)))"
      ],
      "execution_count": 5,
      "outputs": []
    },
    {
      "cell_type": "code",
      "metadata": {
        "id": "d08z2e136Ke_",
        "colab_type": "code",
        "colab": {
          "base_uri": "https://localhost:8080/",
          "height": 34
        },
        "outputId": "73252112-0342-45ab-e157-67338fc03608"
      },
      "source": [
        "bond_price_ytm(0.05, 0.05, 5, 100)"
      ],
      "execution_count": 6,
      "outputs": [
        {
          "output_type": "execute_result",
          "data": {
            "text/plain": [
              "100.0"
            ]
          },
          "metadata": {
            "tags": []
          },
          "execution_count": 6
        }
      ]
    },
    {
      "cell_type": "markdown",
      "metadata": {
        "id": "NbUdmeI3J5OT",
        "colab_type": "text"
      },
      "source": [
        "##**YTM Calculation using Newton Raphson**"
      ]
    },
    {
      "cell_type": "markdown",
      "metadata": {
        "id": "8sflj_V-n1_O",
        "colab_type": "text"
      },
      "source": [
        "### 1. Finite difference for first derivative calculation for Newton Raphson"
      ]
    },
    {
      "cell_type": "code",
      "metadata": {
        "id": "w3wjFD3O8TXC",
        "colab_type": "code",
        "colab": {}
      },
      "source": [
        "def func_val(cpn, ytm, tenor, principal, fair_price):\n",
        "  return bond_price_ytm(cpn, ytm, tenor, principal) - fair_price\n",
        "\n",
        "def func_deriv(cpn, ytm, tenor, principal, fair_price, shock_size):\n",
        "  up_shock_output = func_val(cpn, ytm+shock_size, tenor, principal, fair_price)\n",
        "  down_shock_output = func_val(cpn, ytm-shock_size, tenor, principal, fair_price)\n",
        "  return ((up_shock_output - down_shock_output)/(2*shock_size))"
      ],
      "execution_count": 7,
      "outputs": []
    },
    {
      "cell_type": "markdown",
      "metadata": {
        "id": "b9ChVgp8oMCP",
        "colab_type": "text"
      },
      "source": [
        "###Python function for Newton Raphson for YTM calculation"
      ]
    },
    {
      "cell_type": "code",
      "metadata": {
        "id": "Es2t2TM8zKH0",
        "colab_type": "code",
        "colab": {}
      },
      "source": [
        "def newtonRaphson_ytm(guess_ytm, max_iter, tol_val, cpn, tenor, principal, shock_size, fair_price):\n",
        "  nb_iter = 0\n",
        "  diff = func_val(cpn, guess_ytm, tenor, principal, fair_price)/func_deriv(cpn, guess_ytm, tenor, principal, fair_price, shock_size)\n",
        "  if(abs(diff)>tol_val):\n",
        "    for i in range(max_iter):\n",
        "      if(abs(diff)>tol_val):\n",
        "        guess_ytm = guess_ytm - diff\n",
        "        diff = func_val(cpn, guess_ytm, tenor, principal, fair_price)/func_deriv(cpn, guess_ytm, tenor, principal, fair_price, shock_size)\n",
        "        nb_iter+=1 #nb_iter = nb_iter +1\n",
        "      else:\n",
        "        exit\n",
        "    #else:\n",
        "      #print(\"The value of the root is : \", \"%.5f\"% guess_ytm)\n",
        "      #return \n",
        "    \n",
        "    #print(\"The value of the root is : \", \"%.5f\"% guess_ytm)\n",
        "  return guess_ytm "
      ],
      "execution_count": 8,
      "outputs": []
    },
    {
      "cell_type": "code",
      "metadata": {
        "id": "7gLe0kWZ-G2Q",
        "colab_type": "code",
        "colab": {
          "base_uri": "https://localhost:8080/",
          "height": 34
        },
        "outputId": "10e31aad-c6e9-40af-c2fc-35bbc47a3088"
      },
      "source": [
        "newtonRaphson_ytm(0.1165, 1000, 0.000001, 0.09, 8, 100, 0.001, 111.94259701242748)"
      ],
      "execution_count": 9,
      "outputs": [
        {
          "output_type": "execute_result",
          "data": {
            "text/plain": [
              "0.06999965735529554"
            ]
          },
          "metadata": {
            "tags": []
          },
          "execution_count": 9
        }
      ]
    },
    {
      "cell_type": "markdown",
      "metadata": {
        "id": "6Pmdg0nlKNJN",
        "colab_type": "text"
      },
      "source": [
        "##**Functions for modified duration and modified convexity**"
      ]
    },
    {
      "cell_type": "markdown",
      "metadata": {
        "id": "XRoXPfiDKSFo",
        "colab_type": "text"
      },
      "source": [
        "### 1. Modified Duration"
      ]
    },
    {
      "cell_type": "code",
      "metadata": {
        "id": "ebO_-7fiEbWb",
        "colab_type": "code",
        "colab": {}
      },
      "source": [
        "def bond_modified_duration(cpn, ytm, tenor, principal, shock_size):\n",
        "  base_price = bond_price_ytm(cpn, ytm, tenor, principal)\n",
        "  up_shock_output = bond_price_ytm(cpn, ytm+shock_size, tenor, principal)\n",
        "  down_shock_output = bond_price_ytm(cpn, ytm-shock_size, tenor, principal)\n",
        "  return ((down_shock_output-up_shock_output)/(2*base_price*shock_size))"
      ],
      "execution_count": 10,
      "outputs": []
    },
    {
      "cell_type": "code",
      "metadata": {
        "id": "fAKYmQdCGqkk",
        "colab_type": "code",
        "colab": {
          "base_uri": "https://localhost:8080/",
          "height": 34
        },
        "outputId": "acb8d88e-baac-46a1-98a2-fe7d1320f1a6"
      },
      "source": [
        "bond_modified_duration(0.09, 0.15, 5, 100, 0.001)"
      ],
      "execution_count": 11,
      "outputs": [
        {
          "output_type": "execute_result",
          "data": {
            "text/plain": [
              "3.600034447830464"
            ]
          },
          "metadata": {
            "tags": []
          },
          "execution_count": 11
        }
      ]
    },
    {
      "cell_type": "markdown",
      "metadata": {
        "id": "XLA7HDNwKU9c",
        "colab_type": "text"
      },
      "source": [
        "### 2. Modified Convexity "
      ]
    },
    {
      "cell_type": "code",
      "metadata": {
        "id": "Si1Q69_nG6ZN",
        "colab_type": "code",
        "colab": {}
      },
      "source": [
        "def bond_modified_convexity(cpn, ytm, tenor, principal, shock_size):\n",
        "  up_shock_output = bond_price_ytm(cpn, ytm+shock_size, tenor, principal)\n",
        "  down_shock_output = bond_price_ytm(cpn, ytm-shock_size, tenor, principal)\n",
        "  base_price = bond_price_ytm(cpn, ytm, tenor, principal)\n",
        "  return ((down_shock_output+up_shock_output-2*base_price)/(base_price*shock_size*shock_size))"
      ],
      "execution_count": 12,
      "outputs": []
    },
    {
      "cell_type": "code",
      "metadata": {
        "id": "XJTc-93wG_l1",
        "colab_type": "code",
        "colab": {
          "base_uri": "https://localhost:8080/",
          "height": 34
        },
        "outputId": "0dd18893-cc72-40af-febc-2c3fc894e288"
      },
      "source": [
        "bond_modified_convexity(0.09, 0.07, 5, 100, 0.001)"
      ],
      "execution_count": 13,
      "outputs": [
        {
          "output_type": "execute_result",
          "data": {
            "text/plain": [
              "21.15735693606324"
            ]
          },
          "metadata": {
            "tags": []
          },
          "execution_count": 13
        }
      ]
    },
    {
      "cell_type": "markdown",
      "metadata": {
        "id": "dofK2LpUKiMw",
        "colab_type": "text"
      },
      "source": [
        "##**Portfolio Construction for convexity trade**"
      ]
    },
    {
      "cell_type": "markdown",
      "metadata": {
        "id": "bc64IqjMKn97",
        "colab_type": "text"
      },
      "source": [
        "### 1. Calculation of bond price and bond YTM for all the bonds in the portfolio"
      ]
    },
    {
      "cell_type": "code",
      "metadata": {
        "id": "TpsR7Ke9HOeQ",
        "colab_type": "code",
        "colab": {
          "base_uri": "https://localhost:8080/",
          "height": 119
        },
        "outputId": "d15d134b-dd9c-488e-a72c-734f79ae3155"
      },
      "source": [
        "cpn_5Y = float(input(\"Enter Coupon for 5Y bond: \"))\n",
        "cpn_2Y = float(input(\"Enter Coupon for 2Y bond: \"))\n",
        "cpn_8Y = float(input(\"Enter Coupon for 8Y bond: \"))\n",
        "\n",
        "#Note, the total principal for the bond = number of bonds * principal of 1 bond\n",
        "prin_5Y = float(input(\"Enter Total Princpal for 5Y bond: \"))\n",
        "prin_2Y = float(input(\"Enter Total Princpal for 2Y bond: \"))\n",
        "prin_8Y = float(input(\"Enter Total Princpal for 8Y bond: \"))\n",
        "\n",
        "#cpn_5Y = 0.1\n",
        "#cpn_2Y = 0.07\n",
        "#cpn_8Y = 0.14\n",
        "\n",
        "#prin_5Y = 100\n",
        "#prin_2Y = 100\n",
        "#prin_8Y = 100\n",
        "\n",
        "bond_price_5Y = bond_price_spot(cpn_5Y,spot_rates,5,prin_5Y)\n",
        "bond_price_2Y = bond_price_spot(cpn_2Y,spot_rates,2,prin_2Y)\n",
        "bond_price_8Y = bond_price_spot(cpn_8Y,spot_rates,8,prin_8Y)"
      ],
      "execution_count": 14,
      "outputs": [
        {
          "output_type": "stream",
          "text": [
            "Enter Coupon for 5Y bond: 0.1\n",
            "Enter Coupon for 2Y bond: 0.07\n",
            "Enter Coupon for 8Y bond: 0.14\n",
            "Enter Total Princpal for 5Y bond: 100\n",
            "Enter Total Princpal for 2Y bond: 100\n",
            "Enter Total Princpal for 8Y bond: 100\n"
          ],
          "name": "stdout"
        }
      ]
    },
    {
      "cell_type": "code",
      "metadata": {
        "id": "K4JeBkYQJ7BM",
        "colab_type": "code",
        "colab": {
          "base_uri": "https://localhost:8080/",
          "height": 68
        },
        "outputId": "b302d708-ab80-4da3-b5e0-10d89a2b75b6"
      },
      "source": [
        "print(bond_price_5Y)\n",
        "print(bond_price_2Y)\n",
        "print(bond_price_8Y)"
      ],
      "execution_count": 15,
      "outputs": [
        {
          "output_type": "stream",
          "text": [
            "129.58990041049393\n",
            "110.8121477209342\n",
            "161.63391878921527\n"
          ],
          "name": "stdout"
        }
      ]
    },
    {
      "cell_type": "code",
      "metadata": {
        "id": "X4Cj64RsJr8-",
        "colab_type": "code",
        "colab": {}
      },
      "source": [
        "bond_ytm_5Y = newtonRaphson_ytm(0.2, 1000, 0.000001, cpn_5Y, 5, prin_5Y, 0.001, 129.58990041049393)\n",
        "bond_ytm_2Y = newtonRaphson_ytm(0.2, 1000, 0.000001, cpn_2Y, 2, prin_2Y, 0.001, 110.8121477209342)\n",
        "bond_ytm_8Y = newtonRaphson_ytm(0.2, 1000, 0.000001, cpn_8Y, 8, prin_8Y, 0.001, 161.63391878921527)"
      ],
      "execution_count": 16,
      "outputs": []
    },
    {
      "cell_type": "code",
      "metadata": {
        "id": "qUEmORpnKmI9",
        "colab_type": "code",
        "colab": {
          "base_uri": "https://localhost:8080/",
          "height": 68
        },
        "outputId": "23eaec54-b181-45fd-bb64-99cfc356b5f9"
      },
      "source": [
        "print(bond_ytm_5Y)\n",
        "print(bond_ytm_2Y)\n",
        "print(bond_ytm_8Y)"
      ],
      "execution_count": 17,
      "outputs": [
        {
          "output_type": "stream",
          "text": [
            "0.034547791599101124\n",
            "0.014740982517686735\n",
            "0.04612642118374499\n"
          ],
          "name": "stdout"
        }
      ]
    },
    {
      "cell_type": "markdown",
      "metadata": {
        "id": "HboXx2nHG-E4",
        "colab_type": "text"
      },
      "source": [
        "### 2.Calculation of dollar duration and dollar convexity of all the bonds in the portfolio\n",
        "\n",
        "Modified Duration = %change in portfolio value due 1% change in yield corresponding to first order sensitivity\n",
        "Duration = -(1/P)*(dP/dY)\n",
        "\n",
        "Dollar Duration = Dollar change in the value of portfolio for 1% change in yield based on first order sensitivity\n",
        "Dollar Duration = Duration * Portfolio Value\n",
        "\n",
        "Modified Convexity = %change in portfolio value due 1% change in yield corresponding to second order sensitivity\n",
        "Duration = (1/P)*(d2P/dY2)\n",
        "\n",
        "Dollar Convexity = Dollar change in the value of portfolio for 1% change in yield  based on second order sensitivity\n",
        "Dollar Duration = Convexity * Portfolio Value"
      ]
    },
    {
      "cell_type": "code",
      "metadata": {
        "id": "WXxP6TaZLUMY",
        "colab_type": "code",
        "colab": {}
      },
      "source": [
        "dollar_duration_5Y = bond_modified_duration(cpn_5Y, bond_ytm_5Y, 5, prin_5Y, 0.001)*bond_price_5Y\n",
        "dollar_duration_2Y = bond_modified_duration(cpn_2Y, bond_ytm_2Y, 2, prin_2Y, 0.001)*bond_price_2Y\n",
        "dollar_duration_8Y = bond_modified_duration(cpn_8Y, bond_ytm_8Y, 8, prin_8Y, 0.001)*bond_price_8Y"
      ],
      "execution_count": 18,
      "outputs": []
    },
    {
      "cell_type": "code",
      "metadata": {
        "id": "ACIFv28wMPhH",
        "colab_type": "code",
        "colab": {
          "base_uri": "https://localhost:8080/",
          "height": 68
        },
        "outputId": "4a892629-dc82-4b7b-b287-7223f94c84c2"
      },
      "source": [
        "print(dollar_duration_5Y)\n",
        "print(dollar_duration_2Y)\n",
        "print(dollar_duration_8Y)"
      ],
      "execution_count": 19,
      "outputs": [
        {
          "output_type": "stream",
          "text": [
            "535.9506832881415\n",
            "211.60709719788346\n",
            "907.7798910829376\n"
          ],
          "name": "stdout"
        }
      ]
    },
    {
      "cell_type": "code",
      "metadata": {
        "id": "BPGeyIMVRnyS",
        "colab_type": "code",
        "colab": {}
      },
      "source": [
        "dollar_convexity_5Y = bond_modified_convexity(cpn_5Y, bond_ytm_5Y, 5, prin_5Y, 0.001)*bond_price_5Y\n",
        "dollar_convexity_2Y = bond_modified_convexity(cpn_2Y, bond_ytm_2Y, 2, prin_2Y, 0.001)*bond_price_2Y\n",
        "dollar_convexity_8Y = bond_modified_convexity(cpn_8Y, bond_ytm_8Y, 8, prin_8Y, 0.001)*bond_price_8Y"
      ],
      "execution_count": 20,
      "outputs": []
    },
    {
      "cell_type": "code",
      "metadata": {
        "id": "_XGEeZhsRoD-",
        "colab_type": "code",
        "colab": {
          "base_uri": "https://localhost:8080/",
          "height": 68
        },
        "outputId": "c9e88a54-e773-4f0f-8800-0d795bf79b8d"
      },
      "source": [
        "print(dollar_convexity_5Y)\n",
        "print(dollar_convexity_2Y)\n",
        "print(dollar_convexity_8Y)"
      ],
      "execution_count": 21,
      "outputs": [
        {
          "output_type": "stream",
          "text": [
            "2936.5547129816155\n",
            "618.8997934422958\n",
            "6909.778941967457\n"
          ],
          "name": "stdout"
        }
      ]
    },
    {
      "cell_type": "markdown",
      "metadata": {
        "id": "VbVd2KepZk7X",
        "colab_type": "text"
      },
      "source": [
        "### 3. Determination of quantities required for replicating duration neutral and cost neutral portfolio\n",
        "\n",
        "Assume n1 and n2 are the units to trade, then, for the replicating portfolio:\n",
        "\n",
        "n1*P_2Y + n2*P_8Y = P_5Y ------------(1)\n",
        "\n",
        "n1*DD_2Y + n2*DD_8Y = DD_5Y -----------(2)\n",
        "\n",
        "Matrix Multiplication can be used to solve these:\n",
        "\n"
      ]
    },
    {
      "cell_type": "code",
      "metadata": {
        "id": "slsSs2cIUb62",
        "colab_type": "code",
        "colab": {}
      },
      "source": [
        "import numpy as np"
      ],
      "execution_count": 22,
      "outputs": []
    },
    {
      "cell_type": "code",
      "metadata": {
        "id": "AeC7GxpsdyJb",
        "colab_type": "code",
        "colab": {
          "base_uri": "https://localhost:8080/",
          "height": 68
        },
        "outputId": "3b784308-ed46-46b7-c8a1-dd6fe5501022"
      },
      "source": [
        "matrix_1 = np.array([[bond_price_2Y, bond_price_8Y],[dollar_duration_2Y, dollar_duration_8Y]])\n",
        "print(matrix_1)\n",
        "print(type(matrix_1))"
      ],
      "execution_count": 48,
      "outputs": [
        {
          "output_type": "stream",
          "text": [
            "[[110.81214772 161.63391879]\n",
            " [211.6070972  907.77989108]]\n",
            "<class 'numpy.ndarray'>\n"
          ],
          "name": "stdout"
        }
      ]
    },
    {
      "cell_type": "code",
      "metadata": {
        "id": "0uLAaTnwbRSa",
        "colab_type": "code",
        "colab": {
          "base_uri": "https://localhost:8080/",
          "height": 51
        },
        "outputId": "f46151d3-10e1-4957-ebef-598c01f965cd"
      },
      "source": [
        "matrix_2 = np.array([bond_price_5Y, dollar_duration_5Y])\n",
        "print(matrix_2)\n",
        "print(type(matrix_2))"
      ],
      "execution_count": 49,
      "outputs": [
        {
          "output_type": "stream",
          "text": [
            "[129.58990041 535.95068329]\n",
            "<class 'numpy.ndarray'>\n"
          ],
          "name": "stdout"
        }
      ]
    },
    {
      "cell_type": "code",
      "metadata": {
        "id": "9vC1S9ENcThQ",
        "colab_type": "code",
        "colab": {
          "base_uri": "https://localhost:8080/",
          "height": 68
        },
        "outputId": "4620e7d4-2a48-414b-af1b-dbb79dec34ae"
      },
      "source": [
        "matrix_3 = np.linalg.inv(matrix_1)\n",
        "print(matrix_3)\n",
        "type(matrix_3)"
      ],
      "execution_count": 25,
      "outputs": [
        {
          "output_type": "stream",
          "text": [
            "[[ 0.01367341 -0.00243461]\n",
            " [-0.00318733  0.00166911]]\n"
          ],
          "name": "stdout"
        },
        {
          "output_type": "execute_result",
          "data": {
            "text/plain": [
              "numpy.ndarray"
            ]
          },
          "metadata": {
            "tags": []
          },
          "execution_count": 25
        }
      ]
    },
    {
      "cell_type": "code",
      "metadata": {
        "id": "wxAty4vEbmXo",
        "colab_type": "code",
        "colab": {}
      },
      "source": [
        "nb_units = np.matmul(matrix_3,matrix_2)"
      ],
      "execution_count": 26,
      "outputs": []
    },
    {
      "cell_type": "code",
      "metadata": {
        "id": "s55CpROfcDw6",
        "colab_type": "code",
        "colab": {
          "base_uri": "https://localhost:8080/",
          "height": 51
        },
        "outputId": "85328bb8-dd34-4282-f5c6-456063c4912b"
      },
      "source": [
        "n1 = nb_units[0]\n",
        "n2 = nb_units[1]\n",
        "\n",
        "print(\"The quantity of 2Y bond for replicating portfolio should be: \",\"%.10f\"% n1)\n",
        "print(\"The quantity of 8Y bond for replicating portfolio should be: \",\"%.10f\"% n2)"
      ],
      "execution_count": 27,
      "outputs": [
        {
          "output_type": "stream",
          "text": [
            "The quantity of 2Y bond for replicating portfolio should be:  0.4671068542\n",
            "The quantity of 8Y bond for replicating portfolio should be:  0.4815127126\n"
          ],
          "name": "stdout"
        }
      ]
    },
    {
      "cell_type": "markdown",
      "metadata": {
        "id": "IE5l8-JiTw97",
        "colab_type": "text"
      },
      "source": [
        "##**PnL Analysis for the Portfolio based on Partial Reval (using TAYLOR'S APPROXIMATION)**\n",
        "\n",
        "\n"
      ]
    },
    {
      "cell_type": "markdown",
      "metadata": {
        "id": "V1xKvS6lT5Fa",
        "colab_type": "text"
      },
      "source": [
        "###1. Duration based PnL\n",
        "\n",
        "**Duration based PnL (Taylors Approximation first order term)\n",
        "= - nb_of_units * Dollar Duration * change in yield**"
      ]
    },
    {
      "cell_type": "code",
      "metadata": {
        "id": "7oF86aoARAnX",
        "colab_type": "code",
        "colab": {
          "base_uri": "https://localhost:8080/",
          "height": 119
        },
        "outputId": "8645613d-c8d2-444c-e3ae-af952617aae1"
      },
      "source": [
        "#Note: Duration_PnL_5Y is roughly equal to Duration_PnL_Portfolio with only parallel shift i.e. same change in yield across all tenors\n",
        "# If the change in yields are applied across 2Y, 5Y, and 8Y, then Duration PnL don't offset with each other\n",
        "chg_yield_2Y = float(input(\"Enter yield change for 5Y tenor: \"))\n",
        "chg_yield_5Y = float(input(\"Enter yield change for 2Y tenor: \"))\n",
        "chg_yield_8Y = float(input(\"Enter yield change for 8Y tenor: \"))\n",
        "\n",
        "#Short 1 unit of 5Y bond, and long n1 and n2 units of 2Y and 8Y bonds respective \n",
        "#Duration_PnL = - nb_units * Duration * Price * chg_yield = - nb_units * Dollar Duration * chg_yield\n",
        "Duration_PnL_5Y = (- (-1) * dollar_duration_5Y * chg_yield_5Y)\n",
        "Duration_PnL_2Y_8Y = (- (n1) * dollar_duration_2Y * chg_yield_2Y) + (- (n2) * dollar_duration_8Y * chg_yield_8Y)\n",
        "Duration_PnL_Portfolio = Duration_PnL_5Y + Duration_PnL_2Y_8Y\n",
        "\n",
        "print(\"Duration PnL for short leg of the portfolio is: \", \"%.2f\"% Duration_PnL_5Y)\n",
        "print(\"Duration PnL for long leg of the portfolio is: \", \"%.2f\"% Duration_PnL_2Y_8Y)\n",
        "print(\"Duration PnL for the total portfolio is: \", \"%.2f\"% Duration_PnL_Portfolio)"
      ],
      "execution_count": 59,
      "outputs": [
        {
          "output_type": "stream",
          "text": [
            "Enter yield change for 5Y tenor: -0.1\n",
            "Enter yield change for 2Y tenor: -0.1\n",
            "Enter yield change for 8Y tenor: -0.1\n",
            "Duration PnL for short leg of the portfolio is:  -53.60\n",
            "Duration PnL for long leg of the portfolio is:  53.60\n",
            "Duration PnL for the total portfolio is:  0.00\n"
          ],
          "name": "stdout"
        }
      ]
    },
    {
      "cell_type": "markdown",
      "metadata": {
        "id": "yJWajlQFWtxh",
        "colab_type": "text"
      },
      "source": [
        "Duration PnL for the total portfolio = 0 implies fully hedged portfolio based on duration measure. \n",
        "\n",
        "**Note: Duration PnL will not be 0 if the yield are shocked in non-parallel fashion**"
      ]
    },
    {
      "cell_type": "markdown",
      "metadata": {
        "id": "JErqlrAhT8Zi",
        "colab_type": "text"
      },
      "source": [
        "###2. Convexity based PnL\n",
        "\n",
        "**Convexity based PnL (Taylors Approximation second order term)\n",
        "= 0.5* nb_of_units * Dollar Convexity * (change in yield)^2** "
      ]
    },
    {
      "cell_type": "code",
      "metadata": {
        "id": "iVSdiUMgRcBX",
        "colab_type": "code",
        "colab": {
          "base_uri": "https://localhost:8080/",
          "height": 68
        },
        "outputId": "ea9d0f9f-6103-4042-fb96-8dc3999616ec"
      },
      "source": [
        "#Based on Taylor's Approximation: Convexity_PnL = (0.5) * nb_units * Convexity * Price * chg_yield * chg_yield = 0.5* nb_units * Dollar Duration * chg_yield * chg_yield\n",
        "#Convexity PnLs are linearly additive in a portfolio\n",
        "\n",
        "Convexity_PnL_5Y = (0.5* (-1) * dollar_convexity_5Y * chg_yield_5Y * chg_yield_5Y)\n",
        "Convexity_PnL_2Y_8Y = (0.5* (n1) * dollar_convexity_2Y * chg_yield_2Y * chg_yield_2Y) + (0.5 * (n2) * dollar_convexity_8Y * chg_yield_8Y * chg_yield_8Y)\n",
        "Convexity_PnL_Portfolio = Convexity_PnL_5Y + Convexity_PnL_2Y_8Y\n",
        "\n",
        "print(\"Convexity PnL for short leg of the portfolio is: \", \"%.2f\"% Convexity_PnL_5Y)\n",
        "print(\"Convexity PnL for long leg of the portfolio is: \", \"%.2f\"% Convexity_PnL_2Y_8Y)\n",
        "print(\"Convexity PnL for the total portfolio is: \", \"%.2f\"% Convexity_PnL_Portfolio)"
      ],
      "execution_count": 60,
      "outputs": [
        {
          "output_type": "stream",
          "text": [
            "Convexity PnL for short leg of the portfolio is:  -14.68\n",
            "Convexity PnL for long leg of the portfolio is:  18.08\n",
            "Convexity PnL for the total portfolio is:  3.40\n"
          ],
          "name": "stdout"
        }
      ]
    },
    {
      "cell_type": "markdown",
      "metadata": {
        "id": "pzalYC1GXnLI",
        "colab_type": "text"
      },
      "source": [
        "###3. Total PnL (Duration and Convexity based)"
      ]
    },
    {
      "cell_type": "code",
      "metadata": {
        "id": "NxGc8-ozXmR5",
        "colab_type": "code",
        "colab": {
          "base_uri": "https://localhost:8080/",
          "height": 68
        },
        "outputId": "7e957a42-9e97-44bf-aa05-ed36c980f37a"
      },
      "source": [
        "Total_PnL_5Y = Duration_PnL_5Y + Convexity_PnL_5Y\n",
        "Total_PnL_2Y_8Y = Duration_PnL_2Y_8Y + Convexity_PnL_2Y_8Y\n",
        "Total_PnL_Portfolio = Total_PnL_5Y + Total_PnL_2Y_8Y\n",
        "\n",
        "print(\"Total PnL for short leg of the portfolio is: \", \"%.2f\"% Total_PnL_5Y)\n",
        "print(\"Total PnL for long leg of the portfolio is: \", \"%.2f\"% Total_PnL_2Y_8Y)\n",
        "print(\"Total PnL for the entire portfolio is: \", \"%.2f\"% Total_PnL_Portfolio)"
      ],
      "execution_count": 61,
      "outputs": [
        {
          "output_type": "stream",
          "text": [
            "Total PnL for short leg of the portfolio is:  -68.28\n",
            "Total PnL for long leg of the portfolio is:  71.68\n",
            "Total PnL for the entire portfolio is:  3.40\n"
          ],
          "name": "stdout"
        }
      ]
    },
    {
      "cell_type": "markdown",
      "metadata": {
        "id": "SEKu8EoFQToW",
        "colab_type": "text"
      },
      "source": [
        "###**Exercise**: Partial Reval PnL for variety of shocks (Scenario Analysis):\n",
        " \n",
        "Perform the PnL Scenario analysis on change in yields with positive shock scenarios of [0.001, 0.002, 0.005, 0.01, 0.02, 0.03, 0.04, 0.05] and with negative shock scenarios of [- 0.001, - 0.002, - 0.005, - 0.01, - 0.02, - 0.03, - 0.04, - 0.05]. \n",
        "\n",
        "Store the results in two different lists\n"
      ]
    },
    {
      "cell_type": "markdown",
      "metadata": {
        "id": "n38H5IlJat4E",
        "colab_type": "text"
      },
      "source": [
        "##**PnL Analysis for the portfolio based on Full Revaluation**"
      ]
    },
    {
      "cell_type": "markdown",
      "metadata": {
        "id": "4vuxly1FdHP5",
        "colab_type": "text"
      },
      "source": [
        "###1. Change in prices of individual bonds"
      ]
    },
    {
      "cell_type": "code",
      "metadata": {
        "id": "0klNamg0a6uN",
        "colab_type": "code",
        "colab": {
          "base_uri": "https://localhost:8080/",
          "height": 170
        },
        "outputId": "445b17d2-093a-4642-ac94-fee369089678"
      },
      "source": [
        "new_price_5Y = bond_price_ytm(cpn_5Y, bond_ytm_5Y + chg_yield_5Y, 5, prin_5Y)\n",
        "new_price_2Y = bond_price_ytm(cpn_2Y, bond_ytm_2Y + chg_yield_2Y, 2, prin_2Y)\n",
        "new_price_8Y = bond_price_ytm(cpn_8Y, bond_ytm_8Y + chg_yield_8Y, 8, prin_8Y)\n",
        "\n",
        "chg_price_5Y = new_price_5Y - bond_price_5Y\n",
        "chg_price_2Y = new_price_2Y - bond_price_2Y\n",
        "chg_price_8Y = new_price_8Y - bond_price_8Y\n",
        "\n",
        "print(\"New prices\")\n",
        "print(new_price_5Y)\n",
        "print(new_price_2Y)\n",
        "print(new_price_8Y)\n",
        "\n",
        "print(\"\\nChange in prices\")\n",
        "print(chg_price_5Y)\n",
        "print(chg_price_2Y)\n",
        "print(chg_price_8Y)"
      ],
      "execution_count": 62,
      "outputs": [
        {
          "output_type": "stream",
          "text": [
            "New prices\n",
            "201.81836317982646\n",
            "135.52798628875394\n",
            "300.5985676780385\n",
            "\n",
            "Change in prices\n",
            "72.22846276933254\n",
            "24.71583856781973\n",
            "138.9646488888232\n"
          ],
          "name": "stdout"
        }
      ]
    },
    {
      "cell_type": "markdown",
      "metadata": {
        "id": "Ep1dmqhydRiI",
        "colab_type": "text"
      },
      "source": [
        "###2. Change in portfolio value"
      ]
    },
    {
      "cell_type": "code",
      "metadata": {
        "id": "tN9b4gzlcVXI",
        "colab_type": "code",
        "colab": {
          "base_uri": "https://localhost:8080/",
          "height": 170
        },
        "outputId": "da32a25a-494f-457a-a389-442af999517e"
      },
      "source": [
        "original_value_short_leg = 1*bond_price_5Y\n",
        "original_value_long_leg = n1*bond_price_2Y + n2*bond_price_8Y\n",
        "original_value_Portfolio = original_value_long_leg - original_value_short_leg\n",
        "\n",
        "new_value_short_leg = 1* new_price_5Y\n",
        "new_value_long_leg = n1*new_price_2Y + n2*new_price_8Y\n",
        "new_value_Portfolio = new_value_long_leg - new_value_short_leg\n",
        "\n",
        "chg_value_short_leg = new_value_short_leg - original_value_short_leg\n",
        "chg_value_long_leg = new_value_long_leg - original_value_long_leg\n",
        "chg_value_Portfolio = new_value_Portfolio - original_value_Portfolio\n",
        "\n",
        "#Note that in first print function, it is -1*chg_value_short_leg as for the short leg, a positive change means loss and negative change means profit\n",
        "print(\"Original Leg and Portfolio Values:\")\n",
        "print(\"Original_Portfolio_short_leg: \", original_value_short_leg)\n",
        "print(\"Original_Portfolio_long_leg: \", original_value_long_leg)\n",
        "print(\"Initial Cost to fund the portfolio: \",\"%.4f\"% original_value_Portfolio)\n",
        "\n",
        "print(\"\\nLeg and Portfolio PnL:\")\n",
        "print(\"Total PnL for short leg of the portfolio is: \", \"%.2f\"% -chg_value_short_leg)\n",
        "print(\"Total PnL for long leg of the portfolio is: \", \"%.2f\"% chg_value_long_leg)\n",
        "print(\"Total PnL for the entire portfolio is: \", \"%.2f\"% chg_value_Portfolio)"
      ],
      "execution_count": 63,
      "outputs": [
        {
          "output_type": "stream",
          "text": [
            "Original Leg and Portfolio Values:\n",
            "Original_Portfolio_short_leg:  129.58990041049393\n",
            "Original_Portfolio_long_leg:  129.58990041049398\n",
            "Initial Cost to fund the portfolio:  0.0000\n",
            "\n",
            "Leg and Portfolio PnL:\n",
            "Total PnL for short leg of the portfolio is:  -72.23\n",
            "Total PnL for long leg of the portfolio is:  78.46\n",
            "Total PnL for the entire portfolio is:  6.23\n"
          ],
          "name": "stdout"
        }
      ]
    },
    {
      "cell_type": "markdown",
      "metadata": {
        "id": "D5NUM4d6v2X7",
        "colab_type": "text"
      },
      "source": [
        "####Note: If the units are based on matrix equation used above, then its a price and duration replication strategy, which results in same original price and original duration of long and short leg. Thus, its a duration neutral zero cost portfolio. \n",
        "\n",
        "This is speculation example, as the trader is betting that his expectations on the volatility (and thus the yield shocks) will be realized and the profit here will be more than the reduction in portfolio value with passage of time and other changes. Also, this strategy will work only with parallel shifts in the yield at tenor points."
      ]
    },
    {
      "cell_type": "markdown",
      "metadata": {
        "id": "DQ4rGxihru9f",
        "colab_type": "text"
      },
      "source": [
        "##**Generation of Spot discount factors at t = 0, and forward rates, single period forward discount factors, spot discount factors, and spot rate curves at t = 0, t = 1, and t = 2**\n",
        "\n",
        "Note: The long route here has been taken to demonstrate the logical connection between different rates and discount factors today and at different points in time in the future\n",
        "\n"
      ]
    },
    {
      "cell_type": "markdown",
      "metadata": {
        "id": "UeILWvDt_78d",
        "colab_type": "text"
      },
      "source": [
        "###**1.** Calculation of Spot discount factors at t=0 based on spot rates "
      ]
    },
    {
      "cell_type": "code",
      "metadata": {
        "id": "oz-UOenldGN1",
        "colab_type": "code",
        "colab": {
          "base_uri": "https://localhost:8080/",
          "height": 187
        },
        "outputId": "bc9b34ad-19f5-47ae-f967-b873cc21f565"
      },
      "source": [
        "spot_rate_0Y = spot_rates\n",
        "nb_of_term_points = len(spot_rates)\n",
        "\n",
        "disc_fact_0Y_list = disc_fact(spot_rate_0Y)\n",
        "disc_fact_0Y_list_orig = list.copy(disc_fact_0Y_list)\n",
        "disc_fact_0Y_list_orig"
      ],
      "execution_count": 33,
      "outputs": [
        {
          "output_type": "execute_result",
          "data": {
            "text/plain": [
              "[0.99304865938431,\n",
              " 0.9706617486471405,\n",
              " 0.934056396477656,\n",
              " 0.8884870479156888,\n",
              " 0.8338851080567814,\n",
              " 0.7767730500853498,\n",
              " 0.7202296919196319,\n",
              " 0.666613464512311,\n",
              " 0.612385270513089,\n",
              " 0.5583947769151179]"
            ]
          },
          "metadata": {
            "tags": []
          },
          "execution_count": 33
        }
      ]
    },
    {
      "cell_type": "markdown",
      "metadata": {
        "id": "n0HZwfFSALae",
        "colab_type": "text"
      },
      "source": [
        "1. Doing 1/disc_fact_0Y_list to generate compounding factors a.k.a (1+spot)^n will give error as list don't support that function. This can be dealt by converting it to array and then applying inverse. \n",
        "\n",
        "2. Alternatively, it can be done using lists which uses for loop (condensed in a list comprehension) - See https://www.geeksforgeeks.org/python-dividing-two-lists/\n",
        "\n",
        "3. **For details on python lists**, refer https://www.programiz.com/python-programming/list"
      ]
    },
    {
      "cell_type": "markdown",
      "metadata": {
        "id": "7nJu2BzX1xEv",
        "colab_type": "text"
      },
      "source": [
        "###**2.** Calculation of single period forward rates at t = 0 based on spot discount factors"
      ]
    },
    {
      "cell_type": "code",
      "metadata": {
        "id": "tUk4H9_fg13j",
        "colab_type": "code",
        "colab": {
          "base_uri": "https://localhost:8080/",
          "height": 71
        },
        "outputId": "493f8518-69ff-4f52-96ae-4b96e7533f29"
      },
      "source": [
        "#Inserting a '1' in the beginning and dropping the last element. \n",
        "#Note that running this multiple times will keep on inserting everytime. For that reason, this is being initialized to original list (disc_fact_0Y_list_orig) in the first line\n",
        "#Note that there are more efficient ways to do it but it is explained in this way for simplicity of explanation in multiple steps\n",
        "disc_fact_0Y_list_shift = list.copy(disc_fact_0Y_list_orig)\n",
        "disc_fact_0Y_list_shift.insert(0,1)\n",
        "print(\"Added 1 as the first element in the list: \", disc_fact_0Y_list_shift)\n",
        "disc_fact_0Y_list_shift.pop(nb_of_term_points)\n",
        "print(\"Removed last element from the list: \", disc_fact_0Y_list_shift)"
      ],
      "execution_count": 34,
      "outputs": [
        {
          "output_type": "stream",
          "text": [
            "Added 1 as the first element in the list:  [1, 0.99304865938431, 0.9706617486471405, 0.934056396477656, 0.8884870479156888, 0.8338851080567814, 0.7767730500853498, 0.7202296919196319, 0.666613464512311, 0.612385270513089, 0.5583947769151179]\n",
            "Removed last element from the list:  [1, 0.99304865938431, 0.9706617486471405, 0.934056396477656, 0.8884870479156888, 0.8338851080567814, 0.7767730500853498, 0.7202296919196319, 0.666613464512311, 0.612385270513089]\n"
          ],
          "name": "stdout"
        }
      ]
    },
    {
      "cell_type": "code",
      "metadata": {
        "id": "QOTL09ytw_SR",
        "colab_type": "code",
        "colab": {
          "base_uri": "https://localhost:8080/",
          "height": 119
        },
        "outputId": "ed10b430-3dd4-40c2-a917-cc2f9e42c29b"
      },
      "source": [
        "# As list does not support element to element operations directly by using disc_fact_0Y_list_shift/disc_fact_0Y_list_orig, _\n",
        "# both lists are converted to array to perform that operation\n",
        "disc_fact_0Y_array_orig = np.array(disc_fact_0Y_list_orig)\n",
        "disc_fact_0Y_array_shift = np.array(disc_fact_0Y_list_shift)\n",
        "\n",
        "print(disc_fact_0Y_array_orig)\n",
        "print(disc_fact_0Y_array_shift)\n",
        "\n",
        "forward_rates_0Y_array = disc_fact_0Y_array_shift/disc_fact_0Y_array_orig-1\n",
        "print(forward_rates_0Y_array)"
      ],
      "execution_count": 35,
      "outputs": [
        {
          "output_type": "stream",
          "text": [
            "[0.99304866 0.97066175 0.9340564  0.88848705 0.83388511 0.77677305\n",
            " 0.72022969 0.66661346 0.61238527 0.55839478]\n",
            "[1.         0.99304866 0.97066175 0.9340564  0.88848705 0.83388511\n",
            " 0.77677305 0.72022969 0.66661346 0.61238527]\n",
            "[0.007      0.02306356 0.03918966 0.0512887  0.06547897 0.07352477\n",
            " 0.0785074  0.08043076 0.08855241 0.09668875]\n"
          ],
          "name": "stdout"
        }
      ]
    },
    {
      "cell_type": "markdown",
      "metadata": {
        "id": "b6gXJ6FlwWV0",
        "colab_type": "text"
      },
      "source": [
        "For details on numpy arrays, refer to https://www.w3schools.com/python/numpy_intro.asp"
      ]
    },
    {
      "cell_type": "markdown",
      "metadata": {
        "id": "RgIqFd5Cx4po",
        "colab_type": "text"
      },
      "source": [
        "###**3.** Calculation of single period forward rates at t = 1 and t = 2 based on forward rates at t = 0\n",
        "\n",
        "**Future Scenario and calculation of expected spot curve from forward curve**\n",
        "\n",
        "If the economy does not change, then forward rates as of today will be realized in the future.  \n",
        "\n",
        "In such scenario, the forward rate curve in 1 year from now (containing n-1 term points) can be created by dropping the rate at index 0 in forward_rates_0Y_array. Therefore, forward_rates_1Y_array can be determined by applying forward_rates_0Y_array.pop(0) and would have n-1 term points. \n",
        "\n",
        "Similarly, forward_rates_2Y_array can be determined by applying forward_rates_1Y_array.pop(0) and would have n-2 term points, AND SO ON...."
      ]
    },
    {
      "cell_type": "code",
      "metadata": {
        "id": "K5yvMxFbuKcE",
        "colab_type": "code",
        "colab": {
          "base_uri": "https://localhost:8080/",
          "height": 85
        },
        "outputId": "4a1e610d-95a5-4ecb-c1ff-76da3734c94f"
      },
      "source": [
        "#Note that while an existing array can be assigned directly to a new variable, the lists need to be copied using list.copy(my_list) as shown above \n",
        "forward_rates_1Y_array = np.delete(forward_rates_0Y_array,0)\n",
        "forward_rates_2Y_array = np.delete(forward_rates_1Y_array,0)\n",
        "print(\"The expected forward rates in 1 year from now are: \",forward_rates_1Y_array)\n",
        "print(\"The expected forward rates in 2 years from now are: \", forward_rates_2Y_array)"
      ],
      "execution_count": 36,
      "outputs": [
        {
          "output_type": "stream",
          "text": [
            "The expected forward rates in 1 year from now are:  [0.02306356 0.03918966 0.0512887  0.06547897 0.07352477 0.0785074\n",
            " 0.08043076 0.08855241 0.09668875]\n",
            "The expected forward rates in 2 years from now are:  [0.03918966 0.0512887  0.06547897 0.07352477 0.0785074  0.08043076\n",
            " 0.08855241 0.09668875]\n"
          ],
          "name": "stdout"
        }
      ]
    },
    {
      "cell_type": "markdown",
      "metadata": {
        "id": "r97JOc5AjVO3",
        "colab_type": "text"
      },
      "source": [
        "###**4.** Generation of single period forward discount factors at t = 0, t = 1, and t = 2\n",
        "\n",
        "Note: Here also, the assumption is that the economy unfolds as it was expected as t = 0"
      ]
    },
    {
      "cell_type": "code",
      "metadata": {
        "id": "ZH7yv7bFqNrm",
        "colab_type": "code",
        "colab": {
          "base_uri": "https://localhost:8080/",
          "height": 119
        },
        "outputId": "80349f0c-95e5-40fa-b93b-31582f01fd51"
      },
      "source": [
        "single_period_disc_fact_0Y = 1/(1+ forward_rates_0Y_array)\n",
        "single_period_disc_fact_1Y = 1/(1+ forward_rates_1Y_array)\n",
        "single_period_disc_fact_2Y = 1/(1+ forward_rates_2Y_array)\n",
        "\n",
        "print(single_period_disc_fact_0Y)\n",
        "print(single_period_disc_fact_1Y)\n",
        "print(single_period_disc_fact_2Y)\n",
        "\n",
        "#The single period discount factors for t =1 and t = 2 can be created by popping out first element from t=0 one at a time."
      ],
      "execution_count": 37,
      "outputs": [
        {
          "output_type": "stream",
          "text": [
            "[0.99304866 0.97745638 0.96228825 0.95121349 0.93854504 0.93151088\n",
            " 0.92720736 0.92555677 0.91865122 0.91183574]\n",
            "[0.97745638 0.96228825 0.95121349 0.93854504 0.93151088 0.92720736\n",
            " 0.92555677 0.91865122 0.91183574]\n",
            "[0.96228825 0.95121349 0.93854504 0.93151088 0.92720736 0.92555677\n",
            " 0.91865122 0.91183574]\n"
          ],
          "name": "stdout"
        }
      ]
    },
    {
      "cell_type": "markdown",
      "metadata": {
        "id": "Cvv9jMlMCYmU",
        "colab_type": "text"
      },
      "source": [
        "###**5.** Generation of spot discount factors at t = 1, and t = 2"
      ]
    },
    {
      "cell_type": "code",
      "metadata": {
        "id": "pr3Y07njlu6h",
        "colab_type": "code",
        "colab": {}
      },
      "source": [
        "#Creating a function to calculate spot curve at a forward date based on single period discount factors\n",
        "def disc_fact_spot(single_period_disc_fact, forward_period_from_today):\n",
        "  disc_fact = []\n",
        "  cnt = 0\n",
        "  spot_disc_factor = 1\n",
        "\n",
        "  for i in range(nb_of_term_points-forward_period_from_today):\n",
        "    spot_disc_factor = spot_disc_factor * single_period_disc_fact[i]\n",
        "    disc_fact.append(spot_disc_factor)\n",
        "  return disc_fact"
      ],
      "execution_count": 38,
      "outputs": []
    },
    {
      "cell_type": "code",
      "metadata": {
        "id": "JlvdF2QTzrkF",
        "colab_type": "code",
        "colab": {
          "base_uri": "https://localhost:8080/",
          "height": 187
        },
        "outputId": "3e4d0f83-2f61-44d7-96b3-8301dafe71a5"
      },
      "source": [
        "disc_fact_spot_0Y = disc_fact_spot(single_period_disc_fact_0Y,0)\n",
        "disc_fact_spot_0Y"
      ],
      "execution_count": 39,
      "outputs": [
        {
          "output_type": "execute_result",
          "data": {
            "text/plain": [
              "[0.99304865938431,\n",
              " 0.9706617486471404,\n",
              " 0.9340563964776558,\n",
              " 0.8884870479156886,\n",
              " 0.8338851080567812,\n",
              " 0.7767730500853496,\n",
              " 0.7202296919196318,\n",
              " 0.6666134645123108,\n",
              " 0.612385270513089,\n",
              " 0.5583947769151179]"
            ]
          },
          "metadata": {
            "tags": []
          },
          "execution_count": 39
        }
      ]
    },
    {
      "cell_type": "code",
      "metadata": {
        "id": "xIEZrn6smyyW",
        "colab_type": "code",
        "colab": {
          "base_uri": "https://localhost:8080/",
          "height": 170
        },
        "outputId": "41c8a4cd-4822-472f-f3ed-08c759649cce"
      },
      "source": [
        "disc_fact_spot_1Y = disc_fact_spot(single_period_disc_fact_1Y,1)\n",
        "disc_fact_spot_1Y"
      ],
      "execution_count": 40,
      "outputs": [
        {
          "output_type": "execute_result",
          "data": {
            "text/plain": [
              "[0.9774563808876703,\n",
              " 0.9405947912529993,\n",
              " 0.8947064572510982,\n",
              " 0.8397223038131785,\n",
              " 0.7822104614359469,\n",
              " 0.7252712997630691,\n",
              " 0.671279758763897,\n",
              " 0.6166719674066806,\n",
              " 0.5623035403535237]"
            ]
          },
          "metadata": {
            "tags": []
          },
          "execution_count": 40
        }
      ]
    },
    {
      "cell_type": "code",
      "metadata": {
        "id": "pi9-QGuMnFn-",
        "colab_type": "code",
        "colab": {
          "base_uri": "https://localhost:8080/",
          "height": 153
        },
        "outputId": "9a26807e-e752-49c5-b29a-fdadbe8bf872"
      },
      "source": [
        "disc_fact_spot_2Y = disc_fact_spot(single_period_disc_fact_2Y,2)\n",
        "disc_fact_spot_2Y"
      ],
      "execution_count": 41,
      "outputs": [
        {
          "output_type": "execute_result",
          "data": {
            "text/plain": [
              "[0.9622882510611928,\n",
              " 0.91534156893894,\n",
              " 0.8590892854477972,\n",
              " 0.8002510155241791,\n",
              " 0.7419986343579026,\n",
              " 0.6867618564771953,\n",
              " 0.630894615314347,\n",
              " 0.5752722590473772]"
            ]
          },
          "metadata": {
            "tags": []
          },
          "execution_count": 41
        }
      ]
    },
    {
      "cell_type": "markdown",
      "metadata": {
        "id": "w0ne2VFw2Szo",
        "colab_type": "text"
      },
      "source": [
        "###**6.**Generation of expected Spot rate curve at t = 0, t = 1, and t = 2 based on expected discount factor curve. \n",
        "\n",
        "Note: There are short cut methods to do this, but it is explained in detail to make things simple and logically connected"
      ]
    },
    {
      "cell_type": "code",
      "metadata": {
        "id": "Pb-_wNx32R0-",
        "colab_type": "code",
        "colab": {}
      },
      "source": [
        "# 1 is added to start the tenors from 1 and not 0\n",
        "def spot_disc_fact_to_spot_rate(nb_of_term_points, disc_fact_spot, forward_period_from_today):\n",
        "  tenors = np.array(range(nb_of_term_points- forward_period_from_today))+1\n",
        "  disc_fact_spot = np.array(disc_fact_spot)\n",
        "  spot_rate_curve = (1/disc_fact_spot)**(1/tenors)-1\n",
        "  return spot_rate_curve"
      ],
      "execution_count": 42,
      "outputs": []
    },
    {
      "cell_type": "code",
      "metadata": {
        "id": "kRHKWlL-MQFY",
        "colab_type": "code",
        "colab": {
          "base_uri": "https://localhost:8080/",
          "height": 136
        },
        "outputId": "7f6dbb40-6605-45fe-f244-5bf3f29c3500"
      },
      "source": [
        "spot_rate_curve_0Y = spot_disc_fact_to_spot_rate(nb_of_term_points, disc_fact_spot_0Y, 0)\n",
        "spot_rate_curve_1Y = spot_disc_fact_to_spot_rate(nb_of_term_points, disc_fact_spot_1Y, 1)\n",
        "spot_rate_curve_2Y = spot_disc_fact_to_spot_rate(nb_of_term_points, disc_fact_spot_2Y, 2)\n",
        "\n",
        "print(\"Spot Curve Today: \", spot_rate_curve_0Y)\n",
        "print(\"\\nExpected Spot Curve after 1Y: \",spot_rate_curve_1Y)\n",
        "print(\"\\nExpected Spot Curve after 2Y: \",spot_rate_curve_2Y)"
      ],
      "execution_count": 43,
      "outputs": [
        {
          "output_type": "stream",
          "text": [
            "Spot Curve Today:  [0.007 0.015 0.023 0.03  0.037 0.043 0.048 0.052 0.056 0.06 ]\n",
            "\n",
            "Expected Spot Curve after 1Y:  [0.02306356 0.03109508 0.03778282 0.04463862 0.05035299 0.05499383\n",
            " 0.05859067 0.06229032 0.06605846]\n",
            "\n",
            "Expected Spot Curve after 2Y:  [0.03918966 0.04522167 0.05193095 0.05728834 0.06149849 0.06463067\n",
            " 0.0680156  0.07155834]\n"
          ],
          "name": "stdout"
        }
      ]
    },
    {
      "cell_type": "markdown",
      "metadata": {
        "id": "xUSBAjjaw3Px",
        "colab_type": "text"
      },
      "source": [
        "##**Forward time Price dynamics of bond in 1 year interval**\n",
        "\n",
        "Here we analyze the impact of price assuming the interest rate rates are realized as per the expectations.\n",
        "\n",
        "**For example: **\n",
        "\n",
        "(1) 1f2 in year 0 becomes 0f1 (or spot rate 0S1) in year 1\n",
        "\n",
        "(2) 2f3 in year 0 becomes 1f2 in year 1\n",
        "\n",
        "(3) 2f3 in year 0 becomes 0f1 (or spot rate 0S1) in year 2, etc.\n",
        "\n",
        "This is to show that typically in a duration neutral zero value portfolio, the leg with higher convexity will usually underperform the leg with lower convexity (for this reason, choosing the higher convexity by the trader may not result in overall profit in due course of time, especially, if the market does not change much)\n",
        "\n",
        "Note: Here, the holding period for performance analysis is considered to be only 1 year, just to avoid the complexities of having a coupon payment that needs to be reinvested in the holding period and incorporated in the analysis. Incorporating that is easy though."
      ]
    },
    {
      "cell_type": "markdown",
      "metadata": {
        "id": "qidRSTVfD8Ef",
        "colab_type": "text"
      },
      "source": [
        "###**1.**Calculation of Individual bond prices at t = 0 and t = 1\n",
        "\n",
        "Note: While the prices are already calculated at t = 0, this is done just for demonstration purposes with t = 1"
      ]
    },
    {
      "cell_type": "code",
      "metadata": {
        "id": "GmDwkjiBnKU6",
        "colab_type": "code",
        "colab": {
          "base_uri": "https://localhost:8080/",
          "height": 204
        },
        "outputId": "b5613bf8-b02a-4080-b6bb-92af3598c1fc"
      },
      "source": [
        "bond_price_t0_5Y = bond_price_spot(cpn_5Y, spot_rate_curve_0Y, 5, prin_5Y)\n",
        "bond_price_t1_5Y = bond_price_spot(cpn_5Y, spot_rate_curve_1Y, 4, prin_5Y)\n",
        "\n",
        "print(\"5Y bond:\")\n",
        "print(bond_price_t0_5Y)\n",
        "print(bond_price_t1_5Y)\n",
        "\n",
        "bond_price_t0_2Y = bond_price_spot(cpn_2Y, spot_rate_curve_0Y, 2, prin_2Y)\n",
        "bond_price_t1_2Y = bond_price_spot(cpn_2Y, spot_rate_curve_1Y, 1, prin_2Y)\n",
        "\n",
        "print(\"\\n2Y bond:\")\n",
        "print(bond_price_t0_2Y)\n",
        "print(bond_price_t1_2Y)\n",
        "\n",
        "bond_price_t0_8Y = bond_price_spot(cpn_8Y, spot_rate_curve_0Y, 8, prin_8Y)\n",
        "bond_price_t1_8Y = bond_price_spot(cpn_8Y, spot_rate_curve_1Y, 7, prin_8Y)\n",
        "\n",
        "print(\"\\n8Y bond:\")\n",
        "print(bond_price_t0_8Y)\n",
        "print(bond_price_t1_8Y)"
      ],
      "execution_count": 44,
      "outputs": [
        {
          "output_type": "stream",
          "text": [
            "5Y bond:\n",
            "129.58990041049393\n",
            "120.49702971336728\n",
            "\n",
            "2Y bond:\n",
            "110.8121477209342\n",
            "104.58783275498072\n",
            "\n",
            "8Y bond:\n",
            "161.63391878921527\n",
            "148.7653562207397\n"
          ],
          "name": "stdout"
        }
      ]
    },
    {
      "cell_type": "markdown",
      "metadata": {
        "id": "awbybkAZEY7N",
        "colab_type": "text"
      },
      "source": [
        "###**2.**Calculation of change in portfolio value due to time lapse between t = 0 and t = 1, assuming the rates are realized based on the forward expectations at t = 0\n",
        "\n",
        "Note: Typically, the net portfolio change will be negative here. Thus, while the trader generates profit by going long on higher convexity and short on lower convexity based on the expectation of high volatility in interest rates (and thus high interest rate moves), if that expectation does not hold true, the loss from the passage of time might be higher than the profits generated by increased convexity.\n",
        "\n",
        "Also, the assumption of parallel rate moves typically does not hold true. For quantifying PnLs based on parallel rate moves, the key rate duration and rope bucket techniques are used."
      ]
    },
    {
      "cell_type": "code",
      "metadata": {
        "id": "NkkMZzm4hGtD",
        "colab_type": "code",
        "colab": {
          "base_uri": "https://localhost:8080/",
          "height": 68
        },
        "outputId": "54ac9fe0-8b54-4ca9-807f-2ddfe3384ddb"
      },
      "source": [
        "Price_chg_short = bond_price_t1_5Y - bond_price_t0_5Y\n",
        "Price_chg_long =  n1* (bond_price_t1_2Y - bond_price_t0_2Y) + n2* (bond_price_t1_8Y - bond_price_t0_8Y)\n",
        "\n",
        "Portfolio_Value_Chg = Price_chg_long - Price_chg_short\n",
        "print(\"Change in short leg value: \",\"%.2f\"% Price_chg_short)\n",
        "print(\"Change in long leg value: \",\"%.2f\"% Price_chg_long)\n",
        "print(\"Change in Portfolio value: \",\"%.2f\"% Portfolio_Value_Chg)"
      ],
      "execution_count": 45,
      "outputs": [
        {
          "output_type": "stream",
          "text": [
            "Change in short leg value:  -9.09\n",
            "Change in long leg value:  -9.10\n",
            "Change in Portfolio value:  -0.01\n"
          ],
          "name": "stdout"
        }
      ]
    },
    {
      "cell_type": "markdown",
      "metadata": {
        "id": "ep3aN-OwI_ZP",
        "colab_type": "text"
      },
      "source": [
        "##**Calculation of forward YTM at t = 1 using Newton Raphson**"
      ]
    },
    {
      "cell_type": "code",
      "metadata": {
        "id": "VNgbiYxOiJhM",
        "colab_type": "code",
        "colab": {
          "base_uri": "https://localhost:8080/",
          "height": 68
        },
        "outputId": "88410ca8-eaef-4483-973c-66d66667302f"
      },
      "source": [
        "bond_ytm_5Y_t1 = newtonRaphson_ytm(0.2, 1000, 0.000001, cpn_5Y, 4, prin_5Y, 0.001, bond_price_t1_5Y)\n",
        "bond_ytm_2Y_t1 = newtonRaphson_ytm(0.2, 1000, 0.000001, cpn_2Y, 1, prin_2Y, 0.001, bond_price_t1_2Y)\n",
        "bond_ytm_8Y_t1 = newtonRaphson_ytm(0.2, 1000, 0.000001, cpn_8Y, 7, prin_8Y, 0.001, bond_price_t1_8Y)\n",
        "\n",
        "print(\"The forward YTM at t = 1 for 5Y bond is: \",\"%.5f\"% bond_ytm_5Y_t1)\n",
        "print(\"The forward YTM at t = 1 for 2Y bond is: \",\"%.5f\"% bond_ytm_2Y_t1)\n",
        "print(\"The forward YTM at t = 1 for 8Y bond is: \",\"%.5f\"% bond_ytm_8Y_t1)"
      ],
      "execution_count": 46,
      "outputs": [
        {
          "output_type": "stream",
          "text": [
            "The forward YTM at t = 1 for 5Y bond is:  0.04312\n",
            "The forward YTM at t = 1 for 2Y bond is:  0.02306\n",
            "The forward YTM at t = 1 for 8Y bond is:  0.05438\n"
          ],
          "name": "stdout"
        }
      ]
    },
    {
      "cell_type": "code",
      "metadata": {
        "id": "uWfqnp88DvuV",
        "colab_type": "code",
        "colab": {}
      },
      "source": [
        ""
      ],
      "execution_count": null,
      "outputs": []
    }
  ]
}