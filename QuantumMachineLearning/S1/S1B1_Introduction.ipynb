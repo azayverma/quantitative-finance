{
 "cells": [
  {
   "cell_type": "markdown",
   "metadata": {},
   "source": [
    "# Quantum Machine Learning\n",
    "\n",
    "What is our objective? Prepare you for the onset of the quantum era, where the computational paradigm will change. \n",
    "\n",
    "* Language of quantum computing and quantum algorithms\n",
    "* Implementation in Python (very much hands on)\n",
    "* Quantum machine learning methods using simulator and real quantum computer\n",
    "* Quantum Monte Carlo\n",
    "* Presentation by Amazon Braket (?)\n",
    "* Quantum computational complexity\n",
    "\n",
    "... those terms are vague, we will give it content. \n"
   ]
  },
  {
   "cell_type": "markdown",
   "metadata": {},
   "source": [
    "."
   ]
  },
  {
   "cell_type": "markdown",
   "metadata": {},
   "source": [
    "."
   ]
  },
  {
   "cell_type": "markdown",
   "metadata": {},
   "source": [
    "## Presenters\n",
    "\n",
    "### Jan Novotny \n",
    "\n",
    "* Nomura \n",
    "* Centre for Econometric Analysis, Bayes Business School\n",
    "\n",
    "\n",
    "Contact: jan@novotny.one\n",
    "\n",
    "### Zhikuan Zhao\n",
    "\n",
    "* ETH Zurich\n",
    "* SpinUP \n",
    "\n",
    "Contact: zhikuan.zhao@inf.ethz.ch \n",
    "\n",
    "Do not hesitate to contact us!\n"
   ]
  },
  {
   "cell_type": "markdown",
   "metadata": {},
   "source": [
    "."
   ]
  },
  {
   "cell_type": "markdown",
   "metadata": {},
   "source": [
    "."
   ]
  },
  {
   "cell_type": "markdown",
   "metadata": {},
   "source": [
    "# \"How much this change my work?\"\n",
    "\n",
    "\n",
    "Heisenberg uncertainty principle:\n",
    "    \n",
    "    \"The position and the velocity of an object cannot both be measured exactly, at the same time. We know where the object is but we do not know how fast it is going, or, we know how fast the object is going but we do not where it is.\"\n",
    "    \n",
    "The parallel statement applies on Quantum Machine Learning:\n",
    "\n",
    "    \"We can have a technique now, but we cannot promise it will outperform the classical techniques, or, we can promise a superior technique, but not now (yet).\"\n",
    "\n",
    "The field is rapidly evolving. \n",
    "\n",
    "\n"
   ]
  },
  {
   "cell_type": "markdown",
   "metadata": {},
   "source": [
    "# Data, Information, Knowledge, and Understanding of Data\n",
    "\n",
    "* John Naisbitt, 1982: We are drowning in information but starved for knowledge.\n",
    "\n",
    "\n",
    "* Eric D. Brown, 2014: Today, we are drowning in data and starved for information.\n",
    "\n",
    "\n",
    "* The terms data analysis and data science are used as equivalent.\n",
    "\n",
    "\n",
    "    * According to Google Trends, “data analysis” was more popular until about mid-2017, when “data science” overtook it.\n",
    "\n",
    "\n",
    "    * Data science is the extension of the process of data analysis incorporating synthesis.\n",
    "\n",
    "\n",
    "    * Going beyond data, information, and knowledge, towards understanding and (hopefully) wisdom.\n",
    "\n",
    "\n",
    "    * The end result should include helpful know-hows."
   ]
  },
  {
   "cell_type": "markdown",
   "metadata": {},
   "source": [
    "."
   ]
  },
  {
   "cell_type": "markdown",
   "metadata": {},
   "source": [
    "."
   ]
  },
  {
   "cell_type": "markdown",
   "metadata": {},
   "source": [
    "# The Machine Learning Workflow\n",
    "\n",
    "## Pre-processing data\n",
    "\n",
    "* Checking the quality of the data\n",
    "\n",
    "* Descriptive statistics\n",
    "\n",
    "* Converting data into computable format (cardinal variables) \n",
    "\n",
    "* Feature engineering and curse of dimensionality trade-off\n",
    "\n",
    "## Learning the model\n",
    "\n",
    "* Choosing the right model\n",
    "\n",
    "* Choosing the utility function\n",
    "\n",
    "* Optimizing the model parameters and hyperparameters \n",
    "\n",
    "* Bias-variance trade-off\n",
    "\n",
    "## Prediction\n",
    "\n",
    "* Using the model out of the training sample in production and realizing its value\n",
    "\n",
    "* Comparing expected outcome to the one obtained during training\n",
    "\n",
    "## Feedback\n",
    "\n",
    "* Onboard the feedback from production into the development of the next generation\n",
    "\n",
    "## Where is Quantum? \n",
    "\n",
    "* It aims to improve the blocks within the workflow\n"
   ]
  },
  {
   "cell_type": "markdown",
   "metadata": {},
   "source": [
    "."
   ]
  },
  {
   "cell_type": "markdown",
   "metadata": {},
   "source": [
    "."
   ]
  },
  {
   "cell_type": "markdown",
   "metadata": {},
   "source": [
    "# Our Road Map\n",
    "\n",
    "The course will follow the path outlined below. We can make turns, adjustments and accommodate your questions. \n",
    "\n",
    "The course is composed of 8 blocks, 2 hours each. We aim to split it in half, please use breaks for questions and discussions. \n",
    "\n",
    "\n",
    "## 1) What, Why and How?\n",
    "\n",
    "* Introduction to the course and organisational matter\n",
    "* Why quantum computers? What is the landscape of quantum computers these days\n",
    "* Bit vs qubit\n",
    "* Setting the toolset -- Python, Jupyter, Anaconda and Qiskit \n",
    "\n",
    "\n",
    "## 2) First steps in the Quantum Computing\n",
    "\n",
    "* Theoretical Concepts -- brackets, spin\n",
    "* How is the quantum world different: No-clone theorem\n",
    "* Gates (concepts, basic types -- can be introduced in the second block)\n",
    "* Step by step introduction to working with qubits in Qiskit\n",
    "* Creating circuit, visualising, simulating\n",
    "* Gates and measurements\n",
    "* Using real quantum resource\n",
    "\n",
    "\n",
    "## 3) Quantum Algorithms\n",
    "\n",
    "* The main quantum algorithms -- the building blocks of practical tools\n",
    "* Schor algorithm\n",
    "* Quantum Fourier transform\n",
    "\n",
    "\n",
    "## 4) Classical and Quantum Support Vector Machine \n",
    "\n",
    "* Machine Learning in a nutshell\n",
    "* Introducing the classical SVM\n",
    "* Quantum SVM\n",
    "* How to make QSVM usefull: Regularisation and ensemble methods\n",
    "\n",
    "\n",
    "##  5) Classical and Quantum Neural Network\n",
    "\n",
    "* Introduction to the Classical Neural Network\n",
    "* Keras and neural networks\n",
    "* Quantum Neural Networks\n",
    "* Using Qiskit library\n",
    "* Linking Qiskit with standard Python libraries\n",
    "\n",
    "## 6) Quantum Monte Carlo\n",
    "\n",
    "* Classical Monte Carlo, its purpose and numerical cost\n",
    "* Quantum Monte Carlo\n",
    "* Example on bond pricing \n",
    "\n",
    "## 7) Gaussian Processes\n",
    "\n",
    "* Gaussian processes\n",
    "\n",
    "## 8) Amazon Braket\n",
    "\n",
    "* Guest Introduction by Amazon Scientist\n",
    "\n",
    "\n",
    "## 9) Summary, Review and Beyond\n",
    "\n",
    "* Review of the covered topics\n",
    "* Computational complexity for quantum era\n",
    "\n",
    "\n",
    "\n"
   ]
  },
  {
   "cell_type": "markdown",
   "metadata": {},
   "source": [
    "# Materials\n",
    "\n",
    "We will use:\n",
    "\n",
    "* Slides\n",
    "\n",
    "* Jupyter notebooks (slides and workbooks)\n",
    "\n",
    "* References \n",
    "\n",
    "You do not need additional textbook or study material, though we encourage you to explore around the topics we will talk about. \n",
    "\n",
    "Supplementary Dropbox folder:\n",
    "\n",
    "* We will add some useful links, materials, papers...\n",
    "\n",
    "Good sources to start search (popular but rigorous):\n",
    "\n",
    "* Quanta Magazine (https://www.quantamagazine.org)\n",
    "\n",
    "* Nature review papers\n"
   ]
  },
  {
   "cell_type": "markdown",
   "metadata": {},
   "source": [
    "."
   ]
  },
  {
   "cell_type": "markdown",
   "metadata": {},
   "source": [
    "."
   ]
  },
  {
   "cell_type": "markdown",
   "metadata": {},
   "source": [
    "# Toolbox\n",
    "\n",
    "We will use Qiskit, an open-source development platform by IBM. It allows users to work with quantum computers using pulses, circuits, or application modules.\n",
    "\n",
    "The Python library is very easy to use and allows to touch the real quantum computer (with our code) in very short time. \n",
    "\n",
    "\n",
    "\n"
   ]
  },
  {
   "cell_type": "code",
   "execution_count": null,
   "metadata": {},
   "outputs": [],
   "source": []
  }
 ],
 "metadata": {
  "kernelspec": {
   "display_name": "Python 3",
   "language": "python",
   "name": "python3"
  },
  "language_info": {
   "codemirror_mode": {
    "name": "ipython",
    "version": 3
   },
   "file_extension": ".py",
   "mimetype": "text/x-python",
   "name": "python",
   "nbconvert_exporter": "python",
   "pygments_lexer": "ipython3",
   "version": "3.7.4"
  }
 },
 "nbformat": 4,
 "nbformat_minor": 2
}
