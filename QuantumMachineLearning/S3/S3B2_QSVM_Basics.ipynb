{
 "cells": [
  {
   "cell_type": "markdown",
   "id": "741be28c",
   "metadata": {},
   "source": [
    "# Quantum Support Vector Machine\n",
    "\n",
    "In this notebook, we introduce the Quantum Support Vector Machine in the qiskit framework.\n",
    "\n",
    "Let us start with warning:\n",
    "\n",
    "* If you will search for some examples over the internet, you may come over many examples (sadly, even on qiskit webpage) which are based on deprecated libraries\n",
    "\n",
    "* Previously, the ML utilities have been under \"aqua\"\n",
    "\n",
    "        * from qiskit.aqua.algorithms import QSVM\n",
    "            vs\n",
    "        * from qiskit_machine_learning.algorithms import QSVC\n",
    "\n",
    "    * The first call is not valid anymore (you can always downgrade the version of the library you are running)\n",
    "        \n",
    "***"
   ]
  },
  {
   "cell_type": "markdown",
   "id": "8e113cb3",
   "metadata": {},
   "source": [
    "***\n",
    "## Objective\n",
    "\n",
    "* The QSVM -- the Quantum Support Vector Machine\n",
    "    * The Quantum-enhanced Support Vector Machine\n",
    "    * The quantum part is the kernel -- the quantum kernel is then used as a part of the kernel trick\n",
    "    \n",
    "* The quantum kernel can be used with other methods as well:\n",
    "    * Kernel PCA with Quantum Kernel\n",
    "    * Kernel Ridge Regression with Quantum Kernel\n",
    "    * ... and few others\n",
    "    \n",
    "* The quantum know-how is in building the kernel, the classical algorithm around is using it\n",
    "    * Objective the next block\n",
    "\n",
    "\n",
    "***"
   ]
  },
  {
   "cell_type": "markdown",
   "id": "ff875254",
   "metadata": {},
   "source": [
    "***\n",
    "## Setting Qiskit Workbench\n",
    "\n",
    "* Let us first setup the usual qiskit stuff...\n",
    "\n",
    "***"
   ]
  },
  {
   "cell_type": "code",
   "execution_count": 1,
   "id": "4e9140a4",
   "metadata": {},
   "outputs": [],
   "source": [
    "# Import numpy\n",
    "import numpy as np"
   ]
  },
  {
   "cell_type": "code",
   "execution_count": 2,
   "id": "581303ec",
   "metadata": {},
   "outputs": [],
   "source": [
    "# Import basic object from the Qiskit\n",
    "from qiskit import QuantumCircuit\n",
    "from qiskit import Aer,BasicAer\n",
    "from qiskit import execute\n",
    "\n",
    "# We will need these two\n",
    "from qiskit.utils import QuantumInstance\n",
    "from qiskit_machine_learning.kernels import QuantumKernel\n",
    "\n",
    "# Load account from the disk\n",
    "from qiskit import IBMQ\n",
    "IBMQ.load_account() \n",
    "\n",
    "# We will need this for plots\n",
    "from qiskit.visualization import plot_histogram,plot_bloch_multivector"
   ]
  },
  {
   "cell_type": "code",
   "execution_count": 3,
   "id": "bd561475",
   "metadata": {},
   "outputs": [
    {
     "data": {
      "text/html": [
       "<h3>Version Information</h3><table><tr><th>Qiskit Software</th><th>Version</th></tr><tr><td><code>qiskit-terra</code></td><td>0.19.2</td></tr><tr><td><code>qiskit-aer</code></td><td>0.10.3</td></tr><tr><td><code>qiskit-ignis</code></td><td>0.7.0</td></tr><tr><td><code>qiskit-ibmq-provider</code></td><td>0.18.3</td></tr><tr><td><code>qiskit</code></td><td>0.34.2</td></tr><tr><td><code>qiskit-machine-learning</code></td><td>0.3.1</td></tr><tr><th>System information</th></tr><tr><td>Python version</td><td>3.8.12</td></tr><tr><td>Python compiler</td><td>Clang 10.0.0 </td></tr><tr><td>Python build</td><td>default, Oct 12 2021 06:23:56</td></tr><tr><td>OS</td><td>Darwin</td></tr><tr><td>CPUs</td><td>4</td></tr><tr><td>Memory (Gb)</td><td>8.0</td></tr><tr><td colspan='2'>Mon Mar 07 20:28:07 2022 GMT</td></tr></table>"
      ],
      "text/plain": [
       "<IPython.core.display.HTML object>"
      ]
     },
     "metadata": {},
     "output_type": "display_data"
    },
    {
     "data": {
      "text/html": [
       "<div style='width: 100%; background-color:#d5d9e0;padding-left: 10px; padding-bottom: 10px; padding-right: 10px; padding-top: 5px'><h3>This code is a part of Qiskit</h3><p>&copy; Copyright IBM 2017, 2022.</p><p>This code is licensed under the Apache License, Version 2.0. You may<br>obtain a copy of this license in the LICENSE.txt file in the root directory<br> of this source tree or at http://www.apache.org/licenses/LICENSE-2.0.<p>Any modifications or derivative works of this code must retain this<br>copyright notice, and modified files need to carry a notice indicating<br>that they have been altered from the originals.</p></div>"
      ],
      "text/plain": [
       "<IPython.core.display.HTML object>"
      ]
     },
     "metadata": {},
     "output_type": "display_data"
    }
   ],
   "source": [
    "# Check the version of the qiskit you use\n",
    "\n",
    "# Compared to previous class, I have installed the up-to-date version\n",
    "import qiskit.tools.jupyter\n",
    "%qiskit_version_table\n",
    "%qiskit_copyright"
   ]
  },
  {
   "cell_type": "code",
   "execution_count": null,
   "id": "f584175a",
   "metadata": {},
   "outputs": [],
   "source": []
  },
  {
   "cell_type": "markdown",
   "id": "cfdcfc08",
   "metadata": {},
   "source": [
    "## Reminder: Simulators\n",
    "\n",
    "We will define ideal and noise simulator."
   ]
  },
  {
   "cell_type": "code",
   "execution_count": 4,
   "id": "1a7ce52b",
   "metadata": {},
   "outputs": [],
   "source": [
    "# Ideal simulator\n",
    "simulator = Aer.get_backend('qasm_simulator')"
   ]
  },
  {
   "cell_type": "code",
   "execution_count": 5,
   "id": "404a0cc4",
   "metadata": {},
   "outputs": [
    {
     "name": "stderr",
     "output_type": "stream",
     "text": [
      "ibmqfactory.load_account:WARNING:2022-03-07 20:28:08,023: Credentials are already in use. The existing account in the session will be replaced.\n"
     ]
    }
   ],
   "source": [
    "# Real-like simulator\n",
    "from qiskit.providers.aer.noise import NoiseModel\n",
    "\n",
    "# Choose a particuler quantum computer \n",
    "provider = IBMQ.load_account()\n",
    "backend = provider.get_backend('ibmq_belem')\n",
    "\n",
    "# We derive the noise model from the chosen quantum computer\n",
    "noise_model = NoiseModel.from_backend(backend)\n",
    "\n",
    "# Further, we assume the specific qauntum computer:\n",
    "# Get coupling map from backend\n",
    "coupling_map = backend.configuration().coupling_map\n",
    "\n",
    "# Get basis gates from noise model\n",
    "basis_gates = noise_model.basis_gates"
   ]
  },
  {
   "cell_type": "code",
   "execution_count": 6,
   "id": "fa77d867",
   "metadata": {},
   "outputs": [],
   "source": [
    "# Run the simulator with noise -- wrap it up\n",
    "def executeWithNoise(crt):\n",
    "    return execute(crt, Aer.get_backend('qasm_simulator'),\n",
    "                 coupling_map=coupling_map,\n",
    "                 basis_gates=basis_gates,\n",
    "                 noise_model=noise_model, shots=1024)\n",
    "\n",
    "def executeWithoutNoise(crt):\n",
    "    return execute(crt, Aer.get_backend('qasm_simulator'), shots=1024)\n",
    "\n",
    "# We may not need exactly this, but let us see..."
   ]
  },
  {
   "cell_type": "markdown",
   "id": "9ad50625",
   "metadata": {},
   "source": [
    "## Quantum Kernel\n",
    "\n",
    "* Let us get the quantum kernel\n",
    "\n",
    "* We do not split data into training/testing for now\n"
   ]
  },
  {
   "cell_type": "code",
   "execution_count": 7,
   "id": "36a8f86d",
   "metadata": {},
   "outputs": [],
   "source": [
    "# Data set\n",
    "from sklearn.datasets import make_moons\n",
    "X, y = make_moons(n_samples=30, noise=0.3, random_state=0)"
   ]
  },
  {
   "cell_type": "code",
   "execution_count": 8,
   "id": "6b7bf196",
   "metadata": {},
   "outputs": [
    {
     "data": {
      "text/plain": [
       "<matplotlib.collections.PathCollection at 0x7f9a483b4640>"
      ]
     },
     "execution_count": 8,
     "metadata": {},
     "output_type": "execute_result"
    },
    {
     "data": {
      "image/png": "[encoded data removed]",
      "text/plain": [
       "<Figure size 432x288 with 1 Axes>"
      ]
     },
     "metadata": {
      "needs_background": "light"
     },
     "output_type": "display_data"
    }
   ],
   "source": [
    "import matplotlib.pyplot as plt\n",
    "plt.scatter(X[:, 0], X[:, 1], c=y, s=50, cmap=plt.cm.Paired)"
   ]
  },
  {
   "cell_type": "markdown",
   "id": "02beaaa7",
   "metadata": {},
   "source": [
    "***\n",
    "Kernel generation step by step.\n",
    "\n",
    "***"
   ]
  },
  {
   "cell_type": "markdown",
   "id": "3d4e8e3c",
   "metadata": {},
   "source": [
    "***\n",
    "### The second order Pauli Z-evolution circuit\n",
    "***"
   ]
  },
  {
   "cell_type": "code",
   "execution_count": 9,
   "id": "f23b3706",
   "metadata": {},
   "outputs": [],
   "source": [
    "# Define Feature map, Pauli-Z evolution circuit \n",
    "from qiskit.circuit.library import ZZFeatureMap\n"
   ]
  },
  {
   "cell_type": "code",
   "execution_count": 10,
   "id": "645f42fa",
   "metadata": {},
   "outputs": [
    {
     "data": {
      "image/png": "[encoded data removed]",
      "text/plain": [
       "<Figure size 507.852x144.48 with 1 Axes>"
      ]
     },
     "execution_count": 10,
     "metadata": {},
     "output_type": "execute_result"
    }
   ],
   "source": [
    "# 2-qubits, 1 repetition\n",
    "prep = ZZFeatureMap(2, reps=1)\n",
    "prep.decompose().draw(output='mpl')"
   ]
  },
  {
   "cell_type": "markdown",
   "id": "6c020d55",
   "metadata": {},
   "source": [
    "***\n",
    "P-gate: Single qubit rotationa round Z-axis. \n",
    "\n",
    "* .p(phase) -- gate with phase\n",
    "\n",
    "The matrix representation:\n",
    "\n",
    "$$\n",
    "P=\n",
    "\\begin{pmatrix}\n",
    "1 & 0\\\\\n",
    "0 & e^{i\\lambda}\n",
    "\\end{pmatrix}\n",
    "$$\n",
    "\n",
    "***"
   ]
  },
  {
   "cell_type": "code",
   "execution_count": 11,
   "id": "92500f02",
   "metadata": {},
   "outputs": [
    {
     "data": {
      "image/png": "[encoded data removed]",
      "text/plain": [
       "<Figure size 929.252x144.48 with 1 Axes>"
      ]
     },
     "execution_count": 11,
     "metadata": {},
     "output_type": "execute_result"
    }
   ],
   "source": [
    "# 2-qubits, 2 repetition\n",
    "prep = ZZFeatureMap(2, reps=2)\n",
    "prep.decompose().draw(output='mpl')"
   ]
  },
  {
   "cell_type": "markdown",
   "id": "f4d848ae",
   "metadata": {},
   "source": [
    "***\n",
    "We can change the entaglement:\n",
    "\n",
    "* Default: entanglement='full'\n",
    "\n",
    "* Option: entanglement='linear'\n",
    "\n",
    "***"
   ]
  },
  {
   "cell_type": "code",
   "execution_count": 12,
   "id": "37ac513a",
   "metadata": {},
   "outputs": [
    {
     "data": {
      "image/png": "[encoded data removed]",
      "text/plain": [
       "<Figure size 507.852x144.48 with 1 Axes>"
      ]
     },
     "execution_count": 12,
     "metadata": {},
     "output_type": "execute_result"
    }
   ],
   "source": [
    "# 2-qubits, 1 repetition, linear entaglement\n",
    "prep = ZZFeatureMap(2, reps=1,entanglement='linear')\n",
    "prep.decompose().draw(output='mpl')"
   ]
  },
  {
   "cell_type": "markdown",
   "id": "c0acee30",
   "metadata": {},
   "source": [
    "***\n",
    "What entaglement mean?\n",
    "\n",
    "* \"full\" -- each qubit is entangled with all the others.\n",
    "* \"linear\" -- the i-th qubit is entangled with qubit i+1\n",
    "* \"circular\" -- linear entanglement but with an additional entanglement of the first and last qubit.\n",
    "\n",
    "***"
   ]
  },
  {
   "cell_type": "code",
   "execution_count": 13,
   "id": "2ad8167a",
   "metadata": {},
   "outputs": [
    {
     "data": {
      "image/png": "[encoded data removed]",
      "text/plain": [
       "<Figure size 1110x264.88 with 1 Axes>"
      ]
     },
     "execution_count": 13,
     "metadata": {},
     "output_type": "execute_result"
    }
   ],
   "source": [
    "# 4-qubits, 1 repetition, linear entaglement\n",
    "prep = ZZFeatureMap(4, reps=1,entanglement='linear')\n",
    "prep.decompose().draw(output='mpl')"
   ]
  },
  {
   "cell_type": "code",
   "execution_count": 14,
   "id": "cd796c76",
   "metadata": {},
   "outputs": [
    {
     "data": {
      "image/png": "[encoded data removed]",
      "text/plain": [
       "<Figure size 1591.6x565.88 with 1 Axes>"
      ]
     },
     "execution_count": 14,
     "metadata": {},
     "output_type": "execute_result"
    }
   ],
   "source": [
    "# 4-qubits, 1 repetition, linear entaglement\n",
    "prep = ZZFeatureMap(4, reps=1,entanglement='full')\n",
    "prep.decompose().draw(output='mpl')"
   ]
  },
  {
   "cell_type": "code",
   "execution_count": 15,
   "id": "5f993a3d",
   "metadata": {},
   "outputs": [
    {
     "data": {
      "image/png": "[encoded data removed]",
      "text/plain": [
       "<Figure size 1411x264.88 with 1 Axes>"
      ]
     },
     "execution_count": 15,
     "metadata": {},
     "output_type": "execute_result"
    }
   ],
   "source": [
    "# 4-qubits, 1 repetition, linear entaglement\n",
    "prep = ZZFeatureMap(4, reps=1,entanglement='circular')\n",
    "prep.decompose().draw(output='mpl')"
   ]
  },
  {
   "cell_type": "markdown",
   "id": "22743e98",
   "metadata": {},
   "source": [
    "## Other feature maps\n",
    "\n",
    "* We have started with ZZFeatureMap (hard to simulate classically)\n",
    "\n",
    "* There are other feature maps available to us\n",
    "    * We can use predefined feature maps\n",
    "    * We can create our own feature maps from templates\n",
    "    "
   ]
  },
  {
   "cell_type": "markdown",
   "id": "aa672f96",
   "metadata": {},
   "source": [
    "***\n",
    "### The Pauli Expansion circuit\n",
    "\n",
    "***"
   ]
  },
  {
   "cell_type": "code",
   "execution_count": 16,
   "id": "ebf089fa",
   "metadata": {},
   "outputs": [],
   "source": [
    "# Pauli feature map\n",
    "from qiskit.circuit.library import PauliFeatureMap"
   ]
  },
  {
   "cell_type": "code",
   "execution_count": 27,
   "id": "1da9cd8e",
   "metadata": {},
   "outputs": [
    {
     "data": {
      "image/png": "[encoded data removed]",
      "text/plain": [
       "<Figure size 1591.6x866.88 with 1 Axes>"
      ]
     },
     "execution_count": 27,
     "metadata": {},
     "output_type": "execute_result"
    }
   ],
   "source": [
    "prep = PauliFeatureMap(feature_dimension=4, reps=2, entanglement='full', alpha=2.0, \n",
    "                       paulis=None, data_map_func=None, parameter_prefix='x',\n",
    "                       insert_barriers=False, name='PauliFeatureMap')\n",
    "\n",
    "prep.decompose().draw(output='mpl')"
   ]
  },
  {
   "cell_type": "markdown",
   "id": "3c700948",
   "metadata": {},
   "source": [
    "***\n",
    "The option to choose our own Pauli matrices give us full flexibility and we can define very different feature maps. \n",
    "\n",
    "$$ paulis= ['Z', 'YY', 'ZXZ']$$\n",
    "\n",
    "***"
   ]
  },
  {
   "cell_type": "markdown",
   "id": "bbeb637d",
   "metadata": {},
   "source": [
    "***\n",
    "### The first order Pauli Z-evolution circuit\n",
    "***"
   ]
  },
  {
   "cell_type": "code",
   "execution_count": 29,
   "id": "51995c25",
   "metadata": {},
   "outputs": [],
   "source": [
    "# Pauli feature map\n",
    "from qiskit.circuit.library import ZFeatureMap"
   ]
  },
  {
   "cell_type": "code",
   "execution_count": 30,
   "id": "35d86dc7",
   "metadata": {},
   "outputs": [
    {
     "data": {
      "image/png": "[encoded data removed]",
      "text/plain": [
       "<Figure size 327.397x264.88 with 1 Axes>"
      ]
     },
     "execution_count": 30,
     "metadata": {},
     "output_type": "execute_result"
    }
   ],
   "source": [
    "prep = ZFeatureMap(feature_dimension=4, reps=2, data_map_func=None, insert_barriers=False, name='ZFeatureMap')\n",
    "\n",
    "prep.decompose().draw(output='mpl')"
   ]
  },
  {
   "cell_type": "markdown",
   "id": "f6bfda90",
   "metadata": {},
   "source": [
    "***\n",
    "Only single-qubit gates, this is rather trivial feature expansion. \n",
    "***"
   ]
  },
  {
   "cell_type": "markdown",
   "id": "065effcd",
   "metadata": {},
   "source": [
    "***\n",
    "To do: Try to explore and visualise the other combinations (more reps...)\n",
    "***"
   ]
  },
  {
   "cell_type": "markdown",
   "id": "571d4bc8",
   "metadata": {},
   "source": [
    "***\n",
    "Back to our dataset: \n",
    "\n",
    "***"
   ]
  },
  {
   "cell_type": "code",
   "execution_count": 31,
   "id": "b68567d5",
   "metadata": {},
   "outputs": [],
   "source": [
    "X, y = make_moons(n_samples=30, noise=0.3, random_state=0)\n",
    "\n",
    "# dimension of problem (number of qubits)\n",
    "nQubits = X.shape[1]\n",
    "# number of repetitions\n",
    "nReps = 1\n",
    "\n",
    "featureMap = ZZFeatureMap(feature_dimension=nQubits, reps=nReps, entanglement=\"linear\")"
   ]
  },
  {
   "cell_type": "code",
   "execution_count": 32,
   "id": "2436b8fc",
   "metadata": {},
   "outputs": [],
   "source": [
    "# define backend (simulator)\n",
    "backendSim = QuantumInstance(\n",
    "    BasicAer.get_backend(\"qasm_simulator\"), shots=1024\n",
    ")"
   ]
  },
  {
   "cell_type": "code",
   "execution_count": 33,
   "id": "f000076c",
   "metadata": {},
   "outputs": [],
   "source": [
    "# define Quantum kernel using the above feature map\n",
    "kernelQuantum = QuantumKernel(feature_map=featureMap, quantum_instance=backendSim)"
   ]
  },
  {
   "cell_type": "markdown",
   "id": "8e728445",
   "metadata": {},
   "source": [
    "***\n",
    "## SVM with Quantum Kernel Trick\n",
    "\n",
    "* We use the SVM we have covered so far\n",
    "\n",
    "* We use the kernel trick \n",
    "\n",
    "    * In the Classical SVM, we have used \"rbf\" kernel, which is defined in the sklearn library\n",
    "    * The sklearn implementation allows us to use a user-defined kernel \n",
    "        * kernel = callable \n",
    "        * we can provide our own kernel \n",
    "        * QuantumKernel returns the suitable format\n",
    "        \n",
    "***"
   ]
  },
  {
   "cell_type": "code",
   "execution_count": 34,
   "id": "121095cc",
   "metadata": {},
   "outputs": [],
   "source": [
    "# Import SVC from sklearn\n",
    "from sklearn.svm import SVC"
   ]
  },
  {
   "cell_type": "code",
   "execution_count": 35,
   "id": "fbf220ca",
   "metadata": {},
   "outputs": [],
   "source": [
    "# Initialise the SCV with our quantum kernel\n",
    "svcQuantum = SVC(kernel=kernelQuantum.evaluate)"
   ]
  },
  {
   "cell_type": "code",
   "execution_count": 36,
   "id": "14ba7aeb",
   "metadata": {},
   "outputs": [
    {
     "data": {
      "text/plain": [
       "SVC(kernel=<bound method QuantumKernel.evaluate of <qiskit_machine_learning.kernels.quantum_kernel.QuantumKernel object at 0x7f9a4d36bbb0>>)"
      ]
     },
     "execution_count": 36,
     "metadata": {},
     "output_type": "execute_result"
    }
   ],
   "source": [
    "# We fit the SVM\n",
    "svcQuantum.fit(X, y)"
   ]
  },
  {
   "cell_type": "code",
   "execution_count": 37,
   "id": "1fd30670",
   "metadata": {},
   "outputs": [
    {
     "data": {
      "text/plain": [
       "0.7"
      ]
     },
     "execution_count": 37,
     "metadata": {},
     "output_type": "execute_result"
    }
   ],
   "source": [
    "# Accuracy of the fit (in-sample!)\n",
    "svcQuantum.score(X, y)"
   ]
  },
  {
   "cell_type": "code",
   "execution_count": 38,
   "id": "a0282062",
   "metadata": {},
   "outputs": [],
   "source": [
    "# Prediction\n",
    "yPredict = svcQuantum.predict(X)"
   ]
  },
  {
   "cell_type": "code",
   "execution_count": 39,
   "id": "eebe8b93",
   "metadata": {},
   "outputs": [
    {
     "data": {
      "text/plain": [
       "<matplotlib.collections.PathCollection at 0x7f9a2d9a3490>"
      ]
     },
     "execution_count": 39,
     "metadata": {},
     "output_type": "execute_result"
    },
    {
     "data": {
      "image/png": "[encoded data removed]",
      "text/plain": [
       "<Figure size 432x288 with 1 Axes>"
      ]
     },
     "metadata": {
      "needs_background": "light"
     },
     "output_type": "display_data"
    }
   ],
   "source": [
    "plt.scatter(X[:, 0], X[:, 1], c=y, s=50, cmap=plt.cm.Paired)"
   ]
  },
  {
   "cell_type": "code",
   "execution_count": 40,
   "id": "2c589973",
   "metadata": {},
   "outputs": [],
   "source": [
    "XWrong = []\n",
    "\n",
    "for Xi, yi,yPredicti in zip(X,y,yPredict):\n",
    "    if yi!=yPredicti:\n",
    "        XWrong.append([Xi[0],Xi[1]])\n",
    "\n",
    "XWrong=np.array(XWrong)"
   ]
  },
  {
   "cell_type": "code",
   "execution_count": 41,
   "id": "be9767e6",
   "metadata": {},
   "outputs": [
    {
     "data": {
      "image/png": "[encoded data removed]",
      "text/plain": [
       "<Figure size 432x288 with 1 Axes>"
      ]
     },
     "metadata": {
      "needs_background": "light"
     },
     "output_type": "display_data"
    }
   ],
   "source": [
    "# Plotting the worngly identified points\n",
    "plt.scatter(X[:, 0], X[:, 1], c=y, s=50, cmap=plt.cm.Paired)\n",
    "\n",
    "plt.scatter(\n",
    "    XWrong[:, 0],\n",
    "    XWrong[:, 1],\n",
    "    s=100,\n",
    "    linewidth=1,\n",
    "    facecolors=\"none\",\n",
    "    edgecolors=\"k\",\n",
    ")\n",
    "plt.show()"
   ]
  },
  {
   "cell_type": "markdown",
   "id": "f279c124",
   "metadata": {},
   "source": [
    "***\n",
    "Compare with SVC with rbf kernel:\n",
    "***"
   ]
  },
  {
   "cell_type": "code",
   "execution_count": 42,
   "id": "9a76f2ad",
   "metadata": {},
   "outputs": [
    {
     "data": {
      "text/plain": [
       "0.9"
      ]
     },
     "execution_count": 42,
     "metadata": {},
     "output_type": "execute_result"
    }
   ],
   "source": [
    "# Initialise the SCV with our quantum kernel\n",
    "svcRBF = SVC(kernel=\"rbf\")\n",
    "# We fit the SVM\n",
    "svcRBF.fit(X, y)\n",
    "# Accuracy of the fit (in-sample!)\n",
    "svcRBF.score(X, y)\n"
   ]
  },
  {
   "cell_type": "markdown",
   "id": "0d4f810f",
   "metadata": {},
   "source": [
    "***\n",
    "## First Observation:\n",
    "\n",
    "* __\"Quantum\" does not mean superiority!__\n",
    "\n",
    "* Using quantum kernel does not achieve the superior performance!\n",
    "\n",
    "***"
   ]
  },
  {
   "cell_type": "markdown",
   "id": "c6099176",
   "metadata": {},
   "source": [
    "***\n",
    "## Quantum SVM with Realistic Simulator\n",
    "\n",
    "***"
   ]
  },
  {
   "cell_type": "code",
   "execution_count": 43,
   "id": "97af8406",
   "metadata": {},
   "outputs": [],
   "source": [
    "# define backend (simulator with specific noise)\n",
    "backendSimWithNoise = QuantumInstance(\n",
    "    Aer.get_backend(\"qasm_simulator\"), \n",
    "    coupling_map=coupling_map,\n",
    "                 basis_gates=basis_gates,\n",
    "                 noise_model=noise_model,\n",
    "                shots=1024\n",
    ")"
   ]
  },
  {
   "cell_type": "code",
   "execution_count": 44,
   "id": "5caf55a4",
   "metadata": {},
   "outputs": [],
   "source": [
    "# define Quantum kernel using the above feature map with noise\n",
    "kernelQuantumWNoise = QuantumKernel(feature_map=featureMap, quantum_instance=backendSimWithNoise)"
   ]
  },
  {
   "cell_type": "code",
   "execution_count": 45,
   "id": "3380fb7f",
   "metadata": {},
   "outputs": [],
   "source": [
    "# Initialise the SCV with our quantum kernel\n",
    "svcQuantumWNoise = SVC(kernel=kernelQuantumWNoise.evaluate)"
   ]
  },
  {
   "cell_type": "code",
   "execution_count": 46,
   "id": "aa9dcf04",
   "metadata": {},
   "outputs": [
    {
     "data": {
      "text/plain": [
       "SVC(kernel=<bound method QuantumKernel.evaluate of <qiskit_machine_learning.kernels.quantum_kernel.QuantumKernel object at 0x7f9a2dc3deb0>>)"
      ]
     },
     "execution_count": 46,
     "metadata": {},
     "output_type": "execute_result"
    }
   ],
   "source": [
    "# We fit the SVM\n",
    "svcQuantumWNoise.fit(X, y)"
   ]
  },
  {
   "cell_type": "code",
   "execution_count": 47,
   "id": "aeb26a50",
   "metadata": {},
   "outputs": [
    {
     "data": {
      "text/plain": [
       "0.7666666666666667"
      ]
     },
     "execution_count": 47,
     "metadata": {},
     "output_type": "execute_result"
    }
   ],
   "source": [
    "# Accuracy of the fit (in-sample!)\n",
    "svcQuantumWNoise.score(X, y)"
   ]
  },
  {
   "cell_type": "markdown",
   "id": "5d7a15e3",
   "metadata": {},
   "source": [
    "***\n",
    "... I would not compare performance, the sample is small and we should not generalise!\n",
    "\n",
    "* The purpose is to show realistic estimation using Quantum Computer\n",
    "\n",
    "***"
   ]
  },
  {
   "cell_type": "markdown",
   "id": "c9ba6e41",
   "metadata": {},
   "source": [
    "***\n",
    "## Plot of the kernel\n",
    "\n",
    "***"
   ]
  },
  {
   "cell_type": "code",
   "execution_count": 48,
   "id": "74dc9fa4",
   "metadata": {},
   "outputs": [
    {
     "data": {
      "text/plain": [
       "array([[1.01225272e+00, 9.26285737e-02, 8.17172198e-02, 5.64502215e-02,\n",
       "        4.01937867e-01, 1.31075003e-01, 4.39312171e-01, 5.02290377e-01,\n",
       "        2.30022688e-02, 2.91668940e-01, 4.00839772e-01, 7.20616650e-04,\n",
       "        1.03086538e-01, 8.53059703e-02, 7.54334381e-02, 3.00070324e-01,\n",
       "        6.16299178e-02, 3.48630795e-02, 3.23917647e-02, 5.31688551e-01,\n",
       "        1.54305974e-01, 2.65536753e-01, 7.04399189e-02, 1.57974080e-01,\n",
       "        5.25436097e-01, 7.92824980e-01, 2.25230476e-01, 4.62792546e-01,\n",
       "        2.31264781e-02, 3.05706875e-02],\n",
       "       [9.26285737e-02, 1.01018905e+00, 3.05739074e-02, 5.69599139e-01,\n",
       "        2.40032356e-01, 3.86464385e-01, 3.71185547e-01, 7.51736566e-01,\n",
       "        4.57598942e-01, 8.39999083e-02, 1.67492591e-01, 1.30035101e-02,\n",
       "        2.86716762e-01, 1.09788901e-01, 3.52183662e-01, 2.33160801e-01,\n",
       "        1.05787694e-01, 8.79380962e-01, 5.93678672e-02, 3.19321245e-02,\n",
       "        1.03189983e-01, 1.99995370e-01, 3.50846818e-01, 3.35493996e-01,\n",
       "        2.32178142e-01, 1.01467287e-01, 1.47901990e-01, 4.97298091e-02,\n",
       "        2.10817523e-01, 4.53488571e-02],\n",
       "       [8.17172198e-02, 3.05739074e-02, 1.00874804e+00, 1.21925327e-01,\n",
       "        2.53214878e-01, 1.85175320e-01, 1.85707237e-01, 5.75040574e-03,\n",
       "        3.11672897e-01, 4.06782475e-01, 6.66930211e-02, 6.61526657e-01,\n",
       "        1.98105211e-01, 3.85364567e-01, 2.67451582e-01, 3.82261341e-01,\n",
       "        1.01510684e-01, 1.39287358e-01, 3.38858399e-02, 2.89140563e-02,\n",
       "        1.97571409e-01, 2.49955952e-01, 4.47469565e-01, 2.87359896e-01,\n",
       "        3.00671323e-01, 3.74579776e-02, 4.38827348e-01, 5.24920742e-01,\n",
       "        3.41718181e-01, 9.24348774e-01],\n",
       "       [5.64502215e-02, 5.69599139e-01, 1.21925327e-01, 1.01263634e+00,\n",
       "        2.00698619e-01, 9.16411468e-01, 3.46331501e-02, 2.98606905e-01,\n",
       "        1.08624157e-01, 6.64248749e-02, 1.46792739e-01, 4.35517934e-02,\n",
       "        7.46694453e-01, 1.24256993e-01, 2.10330103e-01, 3.58469717e-01,\n",
       "        1.89613342e-01, 7.02996173e-01, 1.00719002e-01, 7.41419288e-02,\n",
       "        9.26308651e-02, 1.88949588e-01, 7.68705085e-02, 8.18722388e-01,\n",
       "        4.05894888e-01, 1.15644552e-02, 4.68919663e-02, 1.21760928e-01,\n",
       "        3.88260710e-02, 1.99742137e-01],\n",
       "       [4.01937867e-01, 2.40032356e-01, 2.53214878e-01, 2.00698619e-01,\n",
       "        1.01499274e+00, 3.85695306e-01, 6.11006996e-01, 3.26226816e-01,\n",
       "        6.13852532e-02, 2.73499719e-01, 1.37171946e-01, 3.95577950e-01,\n",
       "        5.54888867e-01, 8.90017152e-02, 2.09621112e-01, 8.28928751e-02,\n",
       "        7.73365987e-01, 2.12881855e-01, 6.38230750e-01, 2.64071181e-01,\n",
       "        1.23367411e-01, 5.70436138e-02, 2.69985922e-01, 5.98958650e-01,\n",
       "        8.80982060e-01, 2.49474070e-01, 3.26077567e-01, 2.62211303e-01,\n",
       "        2.63064396e-01, 3.36374152e-01],\n",
       "       [1.31075003e-01, 3.86464385e-01, 1.85175320e-01, 9.16411468e-01,\n",
       "        3.85695306e-01, 1.00507360e+00, 2.24367207e-02, 1.55828358e-01,\n",
       "        5.58978754e-02, 4.75910331e-02, 1.21121701e-01, 1.26653460e-01,\n",
       "        8.90361011e-01, 8.22925900e-02, 8.67755971e-02, 2.38915686e-01,\n",
       "        3.64183409e-01, 5.23997278e-01, 2.23108049e-01, 8.82797230e-02,\n",
       "        3.33668902e-02, 8.86188257e-02, 3.08418893e-02, 9.30411717e-01,\n",
       "        5.77914768e-01, 5.57280283e-02, 1.16204485e-02, 1.46087641e-01,\n",
       "        4.90159563e-03, 2.79527519e-01],\n",
       "       [4.39312171e-01, 3.71185547e-01, 1.85707237e-01, 3.46331501e-02,\n",
       "        6.11006996e-01, 2.24367207e-02, 1.01259093e+00, 5.50645127e-01,\n",
       "        5.79824861e-02, 4.39413116e-01, 3.77486763e-01, 1.53033985e-01,\n",
       "        8.69057606e-02, 5.42333440e-01, 4.67041216e-01, 8.08145075e-02,\n",
       "        3.24511543e-01, 2.96193328e-01, 2.75841697e-01, 1.60793520e-01,\n",
       "        2.70857532e-03, 9.09740124e-03, 2.89913473e-01, 1.12703748e-01,\n",
       "        4.45274828e-01, 5.74224472e-01, 5.00189657e-01, 2.93734009e-01,\n",
       "        1.39096039e-01, 2.11876174e-01],\n",
       "       [5.02290377e-01, 7.51736566e-01, 5.75040574e-03, 2.98606905e-01,\n",
       "        3.26226816e-01, 1.55828358e-01, 5.50645127e-01, 1.01017480e+00,\n",
       "        1.45898724e-01, 1.75591704e-01, 7.95329330e-02, 1.89998442e-02,\n",
       "        9.43450225e-02, 1.79919885e-01, 3.04688100e-01, 2.58480242e-01,\n",
       "        4.20033518e-02, 5.64947553e-01, 1.09933276e-02, 7.57171053e-02,\n",
       "        1.80336085e-01, 6.71145173e-02, 3.16220797e-01, 1.75226044e-01,\n",
       "        3.79047191e-01, 5.18525708e-01, 2.31090605e-01, 4.87603090e-02,\n",
       "        1.21875890e-01, 1.94265028e-02],\n",
       "       [2.30022688e-02, 4.57598942e-01, 3.11672897e-01, 1.08624157e-01,\n",
       "        6.13852532e-02, 5.58978754e-02, 5.79824861e-02, 1.45898724e-01,\n",
       "        1.00678885e+00, 1.62673508e-01, 1.35095951e-01, 5.66525046e-02,\n",
       "        1.04317042e-01, 2.78001230e-01, 5.84230035e-02, 3.31403415e-01,\n",
       "        1.96924575e-01, 4.27733220e-01, 2.55549156e-01, 2.57556983e-01,\n",
       "        1.95571998e-01, 4.92799987e-01, 1.73125013e-01, 5.44556691e-02,\n",
       "        1.26702777e-02, 5.87995930e-02, 9.83900572e-02, 4.05448658e-01,\n",
       "        2.17790564e-01, 1.37632134e-01],\n",
       "       [2.91668940e-01, 8.39999083e-02, 4.06782475e-01, 6.64248749e-02,\n",
       "        2.73499719e-01, 4.75910331e-02, 4.39413116e-01, 1.75591704e-01,\n",
       "        1.62673508e-01, 1.00317512e+00, 8.31952083e-02, 3.02106098e-01,\n",
       "        1.40853623e-01, 3.63298196e-01, 7.36602720e-01, 2.98763810e-02,\n",
       "        1.95244861e-01, 3.29606048e-02, 1.47533873e-01, 7.02855275e-03,\n",
       "        2.94778783e-02, 8.84938387e-02, 6.12886111e-01, 7.32958318e-02,\n",
       "        1.70631234e-01, 3.57612916e-01, 9.26227488e-01, 8.04890318e-01,\n",
       "        2.40599177e-01, 2.80683006e-01],\n",
       "       [4.00839772e-01, 1.67492591e-01, 6.66930211e-02, 1.46792739e-01,\n",
       "        1.37171946e-01, 1.21121701e-01, 3.77486763e-01, 7.95329330e-02,\n",
       "        1.35095951e-01, 8.31952083e-02, 1.01632356e+00, 2.09881313e-01,\n",
       "        3.61642400e-02, 2.78370451e-01, 3.01262890e-01, 9.02124074e-02,\n",
       "        1.50714243e-01, 2.37938651e-01, 2.00620857e-01, 7.41311564e-01,\n",
       "        2.27409642e-01, 3.28486888e-01, 1.71429171e-01, 2.15232847e-02,\n",
       "        5.78967337e-02, 2.88286244e-01, 1.39594098e-01, 1.08961556e-01,\n",
       "        3.38099163e-01, 1.25583543e-01],\n",
       "       [7.20616650e-04, 1.30035101e-02, 6.61526657e-01, 4.35517934e-02,\n",
       "        3.95577950e-01, 1.26653460e-01, 1.53033985e-01, 1.89998442e-02,\n",
       "        5.66525046e-02, 3.02106098e-01, 2.09881313e-01, 1.00490757e+00,\n",
       "        2.73530754e-01, 6.86867275e-02, 4.00193156e-01, 2.25696085e-01,\n",
       "        4.61987593e-01, 3.92752076e-02, 3.57651814e-01, 8.15103738e-02,\n",
       "        5.64797404e-01, 3.07968480e-01, 6.27922011e-01, 2.81728794e-01,\n",
       "        2.67119240e-01, 2.26877427e-02, 4.28355493e-01, 2.42671114e-01,\n",
       "        7.74648948e-01, 7.66740560e-01],\n",
       "       [1.03086538e-01, 2.86716762e-01, 1.98105211e-01, 7.46694453e-01,\n",
       "        5.54888867e-01, 8.90361011e-01, 8.69057606e-02, 9.43450225e-02,\n",
       "        1.04317042e-01, 1.40853623e-01, 3.61642400e-02, 2.73530754e-01,\n",
       "        1.00979186e+00, 1.92768744e-02, 2.09802720e-02, 1.44063144e-01,\n",
       "        6.17007859e-01, 4.97400288e-01, 4.65943104e-01, 2.42252616e-02,\n",
       "        7.15704892e-02, 2.93520091e-02, 5.95057425e-03, 9.56059988e-01,\n",
       "        6.27380731e-01, 1.02166779e-01, 6.81659056e-02, 2.27843917e-01,\n",
       "        4.62617681e-02, 3.56093946e-01],\n",
       "       [8.53059703e-02, 1.09788901e-01, 3.85364567e-01, 1.24256993e-01,\n",
       "        8.90017152e-02, 8.22925900e-02, 5.42333440e-01, 1.79919885e-01,\n",
       "        2.78001230e-01, 3.63298196e-01, 2.78370451e-01, 6.86867275e-02,\n",
       "        1.92768744e-02, 1.00411320e+00, 3.26364435e-01, 2.30043041e-01,\n",
       "        1.12145246e-01, 1.83732285e-01, 1.85652226e-01, 1.05418309e-01,\n",
       "        7.61232299e-02, 6.64833247e-02, 1.11081940e-01, 2.25701126e-02,\n",
       "        1.23841398e-02, 3.74022896e-01, 3.56289146e-01, 2.01528483e-01,\n",
       "        1.63258743e-02, 3.32910037e-01],\n",
       "       [7.54334381e-02, 3.52183662e-01, 2.67451582e-01, 2.10330103e-01,\n",
       "        2.09621112e-01, 8.67755971e-02, 4.67041216e-01, 3.04688100e-01,\n",
       "        5.84230035e-02, 7.36602720e-01, 3.01262890e-01, 4.00193156e-01,\n",
       "        2.09802720e-02, 3.26364435e-01, 1.01752607e+00, 4.05116219e-02,\n",
       "        1.51781869e-01, 1.56982460e-01, 1.43703021e-01, 7.01710918e-02,\n",
       "        1.99626498e-01, 2.03772135e-01, 8.89514020e-01, 3.94442889e-03,\n",
       "        7.14338591e-02, 1.06037189e-01, 8.94616991e-01, 4.15824067e-01,\n",
       "        5.93853957e-01, 2.12563344e-01],\n",
       "       [3.00070324e-01, 2.33160801e-01, 3.82261341e-01, 3.58469717e-01,\n",
       "        8.28928751e-02, 2.38915686e-01, 8.08145075e-02, 2.58480242e-01,\n",
       "        3.31403415e-01, 2.98763810e-02, 9.02124074e-02, 2.25696085e-01,\n",
       "        1.44063144e-01, 2.30043041e-01, 4.05116219e-02, 1.01373237e+00,\n",
       "        1.06712150e-01, 2.71509587e-01, 1.78884831e-01, 3.52964899e-01,\n",
       "        7.19861995e-01, 8.21793916e-01, 7.00022232e-02, 2.77833823e-01,\n",
       "        2.27938752e-01, 2.81926362e-01, 1.70893956e-02, 2.81460369e-01,\n",
       "        3.76015479e-01, 3.45108647e-01],\n",
       "       [6.16299178e-02, 1.05787694e-01, 1.01510684e-01, 1.89613342e-01,\n",
       "        7.73365987e-01, 3.64183409e-01, 3.24511543e-01, 4.20033518e-02,\n",
       "        1.96924575e-01, 1.95244861e-01, 1.50714243e-01, 4.61987593e-01,\n",
       "        6.17007859e-01, 1.12145246e-01, 1.51781869e-01, 1.06712150e-01,\n",
       "        1.00952052e+00, 1.42723953e-01, 9.48746129e-01, 3.23737390e-01,\n",
       "        3.66299029e-01, 1.47599262e-01, 1.68448221e-01, 5.48402752e-01,\n",
       "        5.55974464e-01, 6.37741118e-02, 2.17083126e-01, 1.09278277e-01,\n",
       "        3.75760977e-01, 2.33747423e-01],\n",
       "       [3.48630795e-02, 8.79380962e-01, 1.39287358e-01, 7.02996173e-01,\n",
       "        2.12881855e-01, 5.23997278e-01, 2.96193328e-01, 5.64947553e-01,\n",
       "        4.27733220e-01, 3.29606048e-02, 2.37938651e-01, 3.92752076e-02,\n",
       "        4.97400288e-01, 1.83732285e-01, 1.56982460e-01, 2.71509587e-01,\n",
       "        1.42723953e-01, 1.01090776e+00, 8.84003198e-02, 5.30622743e-02,\n",
       "        6.09645092e-02, 1.54487774e-01, 9.33696456e-02, 5.24169067e-01,\n",
       "        2.17257713e-01, 6.30970853e-02, 2.98046582e-02, 9.00448256e-02,\n",
       "        4.74996380e-02, 2.39860914e-01],\n",
       "       [3.23917647e-02, 5.93678672e-02, 3.38858399e-02, 1.00719002e-01,\n",
       "        6.38230750e-01, 2.23108049e-01, 2.75841697e-01, 1.09933276e-02,\n",
       "        2.55549156e-01, 1.47533873e-01, 2.00620857e-01, 3.57651814e-01,\n",
       "        4.65943104e-01, 1.85652226e-01, 1.43703021e-01, 1.78884831e-01,\n",
       "        9.48746129e-01, 8.84003198e-02, 1.00556754e+00, 4.59490148e-01,\n",
       "        4.46447202e-01, 2.23499580e-01, 1.23395472e-01, 3.75642516e-01,\n",
       "        4.02974679e-01, 3.58699625e-02, 1.66420608e-01, 3.64832623e-02,\n",
       "        3.78959485e-01, 1.32799153e-01],\n",
       "       [5.31688551e-01, 3.19321245e-02, 2.89140563e-02, 7.41419288e-02,\n",
       "        2.64071181e-01, 8.82797230e-02, 1.60793520e-01, 7.57171053e-02,\n",
       "        2.57556983e-01, 7.02855275e-03, 7.41311564e-01, 8.15103738e-02,\n",
       "        2.42252616e-02, 1.05418309e-01, 7.01710918e-02, 3.52964899e-01,\n",
       "        3.23737390e-01, 5.30622743e-02, 4.59490148e-01, 1.00903003e+00,\n",
       "        4.03181506e-01, 4.95301030e-01, 3.37751764e-02, 7.14448000e-02,\n",
       "        2.51584789e-01, 1.98579390e-01, 1.81906510e-02, 1.44943753e-01,\n",
       "        2.60361678e-01, 2.00700923e-03],\n",
       "       [1.54305974e-01, 1.03189983e-01, 1.97571409e-01, 9.26308651e-02,\n",
       "        1.23367411e-01, 3.33668902e-02, 2.70857532e-03, 1.80336085e-01,\n",
       "        1.95571998e-01, 2.94778783e-02, 2.27409642e-01, 5.64797404e-01,\n",
       "        7.15704892e-02, 7.61232299e-02, 1.99626498e-01, 7.19861995e-01,\n",
       "        3.66299029e-01, 6.09645092e-02, 4.46447202e-01, 4.03181506e-01,\n",
       "        1.00954528e+00, 7.72118083e-01, 3.27309284e-01, 8.98132589e-02,\n",
       "        5.89506561e-02, 2.35603433e-01, 9.64493211e-02, 4.68554287e-02,\n",
       "        7.68446436e-01, 2.80431273e-01],\n",
       "       [2.65536753e-01, 1.99995370e-01, 2.49955952e-01, 1.88949588e-01,\n",
       "        5.70436138e-02, 8.86188257e-02, 9.09740124e-03, 6.71145173e-02,\n",
       "        4.92799987e-01, 8.84938387e-02, 3.28486888e-01, 3.07968480e-01,\n",
       "        2.93520091e-02, 6.64833247e-02, 2.03772135e-01, 8.21793916e-01,\n",
       "        1.47599262e-01, 1.54487774e-01, 2.23499580e-01, 4.95301030e-01,\n",
       "        7.72118083e-01, 1.00974986e+00, 2.84646533e-01, 8.55327835e-02,\n",
       "        9.58383316e-02, 2.12845904e-01, 1.13763161e-01, 3.74862619e-01,\n",
       "        6.49845754e-01, 1.94141832e-01],\n",
       "       [7.04399189e-02, 3.50846818e-01, 4.47469565e-01, 7.68705085e-02,\n",
       "        2.69985922e-01, 3.08418893e-02, 2.89913473e-01, 3.16220797e-01,\n",
       "        1.73125013e-01, 6.12886111e-01, 1.71429171e-01, 6.27922011e-01,\n",
       "        5.95057425e-03, 1.11081940e-01, 8.89514020e-01, 7.00022232e-02,\n",
       "        1.68448221e-01, 9.33696456e-02, 1.23395472e-01, 3.37751764e-02,\n",
       "        3.27309284e-01, 2.84646533e-01, 1.01747018e+00, 1.43826775e-02,\n",
       "        1.64476877e-01, 2.27006847e-02, 8.06818833e-01, 3.85959895e-01,\n",
       "        7.66891101e-01, 3.89028365e-01],\n",
       "       [1.57974080e-01, 3.35493996e-01, 2.87359896e-01, 8.18722388e-01,\n",
       "        5.98958650e-01, 9.30411717e-01, 1.12703748e-01, 1.75226044e-01,\n",
       "        5.44556691e-02, 7.32958318e-02, 2.15232847e-02, 2.81728794e-01,\n",
       "        9.56059988e-01, 2.25701126e-02, 3.94442889e-03, 2.77833823e-01,\n",
       "        5.48402752e-01, 5.24169067e-01, 3.75642516e-01, 7.14448000e-02,\n",
       "        8.98132589e-02, 8.55327835e-02, 1.43826775e-02, 1.01739373e+00,\n",
       "        7.46895343e-01, 5.92994425e-02, 4.03266972e-02, 2.00675703e-01,\n",
       "        3.59581072e-02, 4.37006476e-01],\n",
       "       [5.25436097e-01, 2.32178142e-01, 3.00671323e-01, 4.05894888e-01,\n",
       "        8.80982060e-01, 5.77914768e-01, 4.45274828e-01, 3.79047191e-01,\n",
       "        1.26702777e-02, 1.70631234e-01, 5.78967337e-02, 2.67119240e-01,\n",
       "        6.27380731e-01, 1.23841398e-02, 7.14338591e-02, 2.27938752e-01,\n",
       "        5.55974464e-01, 2.17257713e-01, 4.02974679e-01, 2.51584789e-01,\n",
       "        5.89506561e-02, 9.58383316e-02, 1.64476877e-01, 7.46895343e-01,\n",
       "        1.01013088e+00, 3.09425653e-01, 1.80829806e-01, 2.75068910e-01,\n",
       "        1.04765217e-01, 3.48763763e-01],\n",
       "       [7.92824980e-01, 1.01467287e-01, 3.74579776e-02, 1.15644552e-02,\n",
       "        2.49474070e-01, 5.57280283e-02, 5.74224472e-01, 5.18525708e-01,\n",
       "        5.87995930e-02, 3.57612916e-01, 2.88286244e-01, 2.26877427e-02,\n",
       "        1.02166779e-01, 3.74022896e-01, 1.06037189e-01, 2.81926362e-01,\n",
       "        6.37741118e-02, 6.30970853e-02, 3.58699625e-02, 1.98579390e-01,\n",
       "        2.35603433e-01, 2.12845904e-01, 2.27006847e-02, 5.92994425e-02,\n",
       "        3.09425653e-01, 1.00959555e+00, 2.26506030e-01, 3.98296312e-01,\n",
       "        3.13987619e-02, 2.55761833e-02],\n",
       "       [2.25230476e-01, 1.47901990e-01, 4.38827348e-01, 4.68919663e-02,\n",
       "        3.26077567e-01, 1.16204485e-02, 5.00189657e-01, 2.31090605e-01,\n",
       "        9.83900572e-02, 9.26227488e-01, 1.39594098e-01, 4.28355493e-01,\n",
       "        6.81659056e-02, 3.56289146e-01, 8.94616991e-01, 1.70893956e-02,\n",
       "        2.17083126e-01, 2.98046582e-02, 1.66420608e-01, 1.81906510e-02,\n",
       "        9.64493211e-02, 1.13763161e-01, 8.06818833e-01, 4.03266972e-02,\n",
       "        1.80829806e-01, 2.26506030e-01, 1.01446417e+00, 6.88942573e-01,\n",
       "        4.29730511e-01, 3.58361355e-01],\n",
       "       [4.62792546e-01, 4.97298091e-02, 5.24920742e-01, 1.21760928e-01,\n",
       "        2.62211303e-01, 1.46087641e-01, 2.93734009e-01, 4.87603090e-02,\n",
       "        4.05448658e-01, 8.04890318e-01, 1.08961556e-01, 2.42671114e-01,\n",
       "        2.27843917e-01, 2.01528483e-01, 4.15824067e-01, 2.81460369e-01,\n",
       "        1.09278277e-01, 9.00448256e-02, 3.64832623e-02, 1.44943753e-01,\n",
       "        4.68554287e-02, 3.74862619e-01, 3.85959895e-01, 2.00675703e-01,\n",
       "        2.75068910e-01, 3.98296312e-01, 6.88942573e-01, 1.01450962e+00,\n",
       "        1.58679664e-01, 3.57144880e-01],\n",
       "       [2.31264781e-02, 2.10817523e-01, 3.41718181e-01, 3.88260710e-02,\n",
       "        2.63064396e-01, 4.90159563e-03, 1.39096039e-01, 1.21875890e-01,\n",
       "        2.17790564e-01, 2.40599177e-01, 3.38099163e-01, 7.74648948e-01,\n",
       "        4.62617681e-02, 1.63258743e-02, 5.93853957e-01, 3.76015479e-01,\n",
       "        3.75760977e-01, 4.74996380e-02, 3.78959485e-01, 2.60361678e-01,\n",
       "        7.68446436e-01, 6.49845754e-01, 7.66891101e-01, 3.59581072e-02,\n",
       "        1.04765217e-01, 3.13987619e-02, 4.29730511e-01, 1.58679664e-01,\n",
       "        1.01507720e+00, 3.76178922e-01],\n",
       "       [3.05706875e-02, 4.53488571e-02, 9.24348774e-01, 1.99742137e-01,\n",
       "        3.36374152e-01, 2.79527519e-01, 2.11876174e-01, 1.94265028e-02,\n",
       "        1.37632134e-01, 2.80683006e-01, 1.25583543e-01, 7.66740560e-01,\n",
       "        3.56093946e-01, 3.32910037e-01, 2.12563344e-01, 3.45108647e-01,\n",
       "        2.33747423e-01, 2.39860914e-01, 1.32799153e-01, 2.00700923e-03,\n",
       "        2.80431273e-01, 1.94141832e-01, 3.89028365e-01, 4.37006476e-01,\n",
       "        3.48763763e-01, 2.55761833e-02, 3.58361355e-01, 3.57144880e-01,\n",
       "        3.76178922e-01, 1.00794457e+00]])"
      ]
     },
     "execution_count": 48,
     "metadata": {},
     "output_type": "execute_result"
    }
   ],
   "source": [
    "matrixQuantum = kernelQuantum.evaluate(x_vec=X)\n",
    "matrixQuantum"
   ]
  },
  {
   "cell_type": "code",
   "execution_count": 49,
   "id": "b42fe4a8",
   "metadata": {},
   "outputs": [
    {
     "data": {
      "text/plain": [
       "array([[ 1.32528202,  0.39666854],\n",
       "       [ 2.57737504,  0.34644503],\n",
       "       [-0.79345979,  0.71066888],\n",
       "       [-0.14512164,  0.85096173],\n",
       "       [ 1.76235838, -0.41418388],\n",
       "       [ 1.61125658, -0.63580152],\n",
       "       [ 1.76769902, -0.03743959],\n",
       "       [-1.04637165,  0.49069383],\n",
       "       [-0.06324376, -0.33085195],\n",
       "       [ 0.96616032, -0.22779622],\n",
       "       [ 0.67846471,  0.96969825],\n",
       "       [-0.28278155,  0.42073671],\n",
       "       [ 0.16528853,  0.75549044],\n",
       "       [-1.48162068,  0.29684285],\n",
       "       [ 1.25576532, -0.58920734],\n",
       "       [ 0.60060401, -0.29737508],\n",
       "       [ 0.45444028,  0.72002627],\n",
       "       [ 2.68993146,  0.35865942],\n",
       "       [ 0.60133558,  0.62377328],\n",
       "       [ 0.94322656,  0.57185027],\n",
       "       [ 0.26139225, -0.00392717],\n",
       "       [ 0.38457097,  0.03491966],\n",
       "       [-0.45583877,  0.70125267],\n",
       "       [-0.01323372,  0.89101989],\n",
       "       [ 1.61978636, -0.26919504],\n",
       "       [ 1.36962025,  0.56396209],\n",
       "       [ 1.09916032, -0.43074852],\n",
       "       [ 0.78573756, -0.13874652],\n",
       "       [-0.06721163,  0.37394498],\n",
       "       [-0.60101996,  0.56319398]])"
      ]
     },
     "execution_count": 49,
     "metadata": {},
     "output_type": "execute_result"
    }
   ],
   "source": [
    "X"
   ]
  },
  {
   "cell_type": "code",
   "execution_count": 50,
   "id": "5f9e22e2",
   "metadata": {},
   "outputs": [
    {
     "data": {
      "text/plain": [
       "<matplotlib.image.AxesImage at 0x7f9a4b7fe2e0>"
      ]
     },
     "execution_count": 50,
     "metadata": {},
     "output_type": "execute_result"
    },
    {
     "data": {
      "image/png": "[encoded data removed]",
      "text/plain": [
       "<Figure size 720x360 with 1 Axes>"
      ]
     },
     "metadata": {
      "needs_background": "light"
     },
     "output_type": "display_data"
    }
   ],
   "source": [
    "# The kernel is calculated for the X-points k(x_i,x_j)\n",
    "fig, axs = plt.subplots(figsize=(10, 5))\n",
    "axs.imshow(\n",
    "    np.asmatrix(matrixQuantum), interpolation=\"nearest\", origin=\"upper\", cmap=\"Blues\"\n",
    ")"
   ]
  },
  {
   "cell_type": "markdown",
   "id": "8b29248e",
   "metadata": {},
   "source": [
    "***\n",
    "### Remark\n",
    "\n",
    "If we need to evaluate the kernel on new data set (e.g., test data, we need to run below) \n",
    "\n",
    "        * kernelQuantum.evaluate(x_vec=Xtest, y_vec=Xtrain)\n",
    "        \n",
    "* This reveals the requirement of the kernel\n",
    "    * x_vec\n",
    "    * y_vec (if none, it is the same as x_vec)\n",
    "    \n",
    "***"
   ]
  },
  {
   "cell_type": "code",
   "execution_count": 51,
   "id": "ca511849",
   "metadata": {},
   "outputs": [
    {
     "data": {
      "text/plain": [
       "<matplotlib.image.AxesImage at 0x7f9a4d36bcd0>"
      ]
     },
     "execution_count": 51,
     "metadata": {},
     "output_type": "execute_result"
    },
    {
     "data": {
      "image/png": "[encoded data removed]",
      "text/plain": [
       "<Figure size 720x360 with 1 Axes>"
      ]
     },
     "metadata": {
      "needs_background": "light"
     },
     "output_type": "display_data"
    }
   ],
   "source": [
    "matrixQuantumWNoise = kernelQuantumWNoise.evaluate(x_vec=X)\n",
    "fig, axs = plt.subplots(figsize=(10, 5))\n",
    "axs.imshow(\n",
    "    np.asmatrix(matrixQuantumWNoise), interpolation=\"nearest\", origin=\"upper\", cmap=\"Blues\"\n",
    ")"
   ]
  },
  {
   "cell_type": "markdown",
   "id": "7bf4fdc7",
   "metadata": {},
   "source": [
    "***\n",
    "We can compare the kernels, but that is not objective for now. \n",
    "\n",
    "* Let us compare with RBF\n",
    "\n",
    "***"
   ]
  },
  {
   "cell_type": "code",
   "execution_count": 52,
   "id": "3de72940",
   "metadata": {},
   "outputs": [
    {
     "data": {
      "text/plain": [
       "<matplotlib.image.AxesImage at 0x7f9a2de3ef10>"
      ]
     },
     "execution_count": 52,
     "metadata": {},
     "output_type": "execute_result"
    },
    {
     "data": {
      "image/png": "[encoded data removed]",
      "text/plain": [
       "<Figure size 720x360 with 1 Axes>"
      ]
     },
     "metadata": {
      "needs_background": "light"
     },
     "output_type": "display_data"
    }
   ],
   "source": [
    "from sklearn.gaussian_process.kernels import RBF\n",
    "kernel = 1.0 * RBF(1.0)\n",
    "\n",
    "matrixRBF = kernel(X)\n",
    "fig, axs = plt.subplots(figsize=(10, 5))\n",
    "axs.imshow(\n",
    "    np.asmatrix(matrixRBF), interpolation=\"nearest\", origin=\"upper\", cmap=\"Blues\"\n",
    ")"
   ]
  },
  {
   "cell_type": "markdown",
   "id": "554e1825",
   "metadata": {},
   "source": [
    "***\n",
    "At first sight, the quantum kernel is more noisy. \n",
    "\n",
    "* In general, quantum kernel allows to explore more complex pattern (at risk of the overfit!)\n",
    "\n",
    "***"
   ]
  },
  {
   "cell_type": "markdown",
   "id": "7a422272",
   "metadata": {},
   "source": [
    "### More deep kernel\n",
    "\n",
    "Let us try another deep kernel."
   ]
  },
  {
   "cell_type": "code",
   "execution_count": 53,
   "id": "0ca322d9",
   "metadata": {},
   "outputs": [
    {
     "data": {
      "text/plain": [
       "<matplotlib.image.AxesImage at 0x7f9a2e2381f0>"
      ]
     },
     "execution_count": 53,
     "metadata": {},
     "output_type": "execute_result"
    },
    {
     "data": {
      "image/png": "[encoded data removed]",
      "text/plain": [
       "<Figure size 720x360 with 1 Axes>"
      ]
     },
     "metadata": {
      "needs_background": "light"
     },
     "output_type": "display_data"
    }
   ],
   "source": [
    "# dimension of problem (number of qubits)\n",
    "nQubits = X.shape[1]\n",
    "# number of repetitions\n",
    "nReps = 3\n",
    "\n",
    "featureMap3 = ZZFeatureMap(feature_dimension=nQubits, reps=nReps, entanglement=\"linear\")\n",
    "\n",
    "# define Quantum kernel using the above feature map\n",
    "kernelQuantum3 = QuantumKernel(feature_map=featureMap3, quantum_instance=backendSim)\n",
    "\n",
    "matrixQuantum3 = kernelQuantum3.evaluate(x_vec=X)\n",
    "fig, axs = plt.subplots(figsize=(10, 5))\n",
    "axs.imshow(\n",
    "    np.asmatrix(matrixQuantumWNoise), interpolation=\"nearest\", origin=\"upper\", cmap=\"Blues\"\n",
    ")"
   ]
  },
  {
   "cell_type": "markdown",
   "id": "7cad151a",
   "metadata": {},
   "source": [
    "***\n",
    "Plot the difference between kernels\n",
    "***"
   ]
  },
  {
   "cell_type": "code",
   "execution_count": 54,
   "id": "3a31da84",
   "metadata": {},
   "outputs": [
    {
     "data": {
      "text/plain": [
       "<matplotlib.image.AxesImage at 0x7f9a2e68b7c0>"
      ]
     },
     "execution_count": 54,
     "metadata": {},
     "output_type": "execute_result"
    },
    {
     "data": {
      "image/png": "[encoded data removed]",
      "text/plain": [
       "<Figure size 720x360 with 1 Axes>"
      ]
     },
     "metadata": {
      "needs_background": "light"
     },
     "output_type": "display_data"
    }
   ],
   "source": [
    "fig, axs = plt.subplots(figsize=(10, 5))\n",
    "axs.imshow(\n",
    "    np.asmatrix(matrixQuantum-matrixQuantum3), interpolation=\"nearest\", origin=\"upper\", cmap=\"Blues\"\n",
    ")"
   ]
  },
  {
   "cell_type": "markdown",
   "id": "d048e6a4",
   "metadata": {},
   "source": [
    "***\n",
    "Kernels are not the same, there are differences but we cannot interpret them visually. \n",
    "\n",
    "***"
   ]
  },
  {
   "cell_type": "code",
   "execution_count": 55,
   "id": "a45eebca",
   "metadata": {},
   "outputs": [
    {
     "data": {
      "text/plain": [
       "0.8333333333333334"
      ]
     },
     "execution_count": 55,
     "metadata": {},
     "output_type": "execute_result"
    }
   ],
   "source": [
    "# Initialise the SCV with our quantum kernel\n",
    "svcQuantum3 = SVC(kernel=kernelQuantum3.evaluate)\n",
    "# We fit the SVM\n",
    "svcQuantum3.fit(X, y)\n",
    "# Accuracy of the fit (in-sample!)\n",
    "svcQuantum3.score(X, y)"
   ]
  },
  {
   "cell_type": "markdown",
   "id": "cf6440ba",
   "metadata": {},
   "source": [
    "***\n",
    "Accuracy is improved!\n",
    "\n",
    "### Warning!\n",
    "\n",
    "It would be more accurate to say that accuracy changed. This means that parameters of the quantum kernel are hyperparameters of the model and they should be treated accordingly!\n",
    "\n",
    "* Cross-validation and search for the right hyper-parameter!\n",
    "\n",
    "* In the Classical SVM section, we have discussed parameter C, which have not discussed yet\n",
    "\n",
    "***"
   ]
  },
  {
   "cell_type": "markdown",
   "id": "aa6e5abf",
   "metadata": {},
   "source": [
    "***\n",
    "# Qiskit SVMC\n",
    "\n",
    "There is a built-in function within the qiskit for QSV. This is nothing but rather simpler wrapper. \n",
    "\n",
    "It takes all the parameters the regular SVC takes -- they are passed to the classical SVC constructor. \n",
    "\n",
    "Recommendation:\n",
    "\n",
    "* It may be worth sticking to the qiskit SVC function\n",
    "* We consider quantum kernel as extension (of our existing battery of the ML methods)\n",
    "* Unless there is strong prior, worth to keep options of available Ml methods open. \n",
    "\n",
    "\n",
    "***"
   ]
  },
  {
   "cell_type": "code",
   "execution_count": 56,
   "id": "3281fa84",
   "metadata": {},
   "outputs": [],
   "source": [
    "# Load the QSVC from qiskit\n",
    "from qiskit_machine_learning.algorithms import QSVC"
   ]
  },
  {
   "cell_type": "code",
   "execution_count": 57,
   "id": "cf5a7d63",
   "metadata": {},
   "outputs": [
    {
     "data": {
      "text/plain": [
       "0.8333333333333334"
      ]
     },
     "execution_count": 57,
     "metadata": {},
     "output_type": "execute_result"
    }
   ],
   "source": [
    "qsvc = QSVC(quantum_kernel=kernelQuantum3)\n",
    "qsvc.fit(X, y)\n",
    "qsvc.score(X, y)"
   ]
  },
  {
   "cell_type": "markdown",
   "id": "471df11b",
   "metadata": {},
   "source": [
    "***\n",
    "We get the same result as we have above with kernel3.\n",
    "***"
   ]
  },
  {
   "cell_type": "markdown",
   "id": "3ed7fab3",
   "metadata": {},
   "source": [
    "***\n",
    "# Another Example\n",
    "\n",
    "* The quantum kernel can capture very complex patterns\n",
    "\n",
    "* We try fully random data-set, in-sample \n",
    "\n",
    "***"
   ]
  },
  {
   "cell_type": "code",
   "execution_count": 58,
   "id": "803290ce",
   "metadata": {},
   "outputs": [
    {
     "data": {
      "text/plain": [
       "<matplotlib.collections.PathCollection at 0x7f9a2e9d8670>"
      ]
     },
     "execution_count": 58,
     "metadata": {},
     "output_type": "execute_result"
    },
    {
     "data": {
      "image/png": "[encoded data removed]",
      "text/plain": [
       "<Figure size 432x288 with 1 Axes>"
      ]
     },
     "metadata": {
      "needs_background": "light"
     },
     "output_type": "display_data"
    }
   ],
   "source": [
    "# Data\n",
    "from sklearn.datasets import make_classification\n",
    "X, y = make_classification(\n",
    "    n_features=2, n_redundant=0, n_informative=2, random_state=1, n_classes=2, n_clusters_per_class=2\n",
    ")\n",
    "# Make y fully random\n",
    "import random\n",
    "random.shuffle(y)\n",
    "\n",
    "import matplotlib.pyplot as plt\n",
    "plt.scatter(X[:, 0], X[:, 1], c=y, s=50, cmap=plt.cm.Paired)"
   ]
  },
  {
   "cell_type": "code",
   "execution_count": 59,
   "id": "332afc72",
   "metadata": {},
   "outputs": [
    {
     "data": {
      "text/plain": [
       "0.54"
      ]
     },
     "execution_count": 59,
     "metadata": {},
     "output_type": "execute_result"
    }
   ],
   "source": [
    "# Fit SVC with RBF\n",
    "svcClassic = SVC(kernel=\"linear\", C=0.025)\n",
    "svcClassic.fit(X,y)\n",
    "svcClassic.score(X,y)\n"
   ]
  },
  {
   "cell_type": "code",
   "execution_count": 60,
   "id": "49f3a430",
   "metadata": {},
   "outputs": [
    {
     "data": {
      "text/plain": [
       "0.64"
      ]
     },
     "execution_count": 60,
     "metadata": {},
     "output_type": "execute_result"
    }
   ],
   "source": [
    "# Fit SVC with Quantum Kernel\n",
    "nQubits = X.shape[1]\n",
    "# number of repetitions\n",
    "nReps = 1\n",
    "\n",
    "featureMap = ZZFeatureMap(feature_dimension=nQubits, reps=nReps, entanglement=\"linear\")\n",
    "\n",
    "# define Quantum kernel using the above feature map\n",
    "kernelQuantum = QuantumKernel(feature_map=featureMap, quantum_instance=backendSim)\n",
    "\n",
    "# kernel\n",
    "svcQuantum = SVC(kernel=kernelQuantum.evaluate)\n",
    "\n",
    "# We fit the SVM\n",
    "svcQuantum.fit(X, y)\n",
    "\n",
    "# Accuracy of the fit (in-sample!)\n",
    "svcQuantum.score(X, y)"
   ]
  },
  {
   "cell_type": "markdown",
   "id": "36d8208c",
   "metadata": {},
   "source": [
    "***\n",
    "* Better fit here means that the quantum kernel can overfit data more!\n",
    "\n",
    "* The kernel itself is \"non-linear\" (one would say very non-linear)\n",
    "\n",
    "    * Would you use it to fit the trend, or, to fit what remains once you fit the trend?\n",
    "\n",
    "***"
   ]
  },
  {
   "cell_type": "code",
   "execution_count": null,
   "id": "5f8d6cdd",
   "metadata": {},
   "outputs": [],
   "source": []
  },
  {
   "cell_type": "markdown",
   "id": "5955c5d6",
   "metadata": {},
   "source": [
    "***\n",
    "# Next Lesson:\n",
    "\n",
    "* We will focus on the workflow with QSVM\n",
    "\n",
    "* We explore how we can explore the quantum kernels\n",
    "\n",
    "***"
   ]
  },
  {
   "cell_type": "code",
   "execution_count": null,
   "id": "09a02640",
   "metadata": {},
   "outputs": [],
   "source": []
  },
  {
   "cell_type": "code",
   "execution_count": null,
   "id": "adc47b25",
   "metadata": {},
   "outputs": [],
   "source": []
  },
  {
   "cell_type": "code",
   "execution_count": null,
   "id": "77caae8c",
   "metadata": {},
   "outputs": [],
   "source": []
  },
  {
   "cell_type": "code",
   "execution_count": null,
   "id": "3e4d841d",
   "metadata": {},
   "outputs": [],
   "source": []
  }
 ],
 "metadata": {
  "kernelspec": {
   "display_name": "Python 3 (ipykernel)",
   "language": "python",
   "name": "python3"
  },
  "language_info": {
   "codemirror_mode": {
    "name": "ipython",
    "version": 3
   },
   "file_extension": ".py",
   "mimetype": "text/x-python",
   "name": "python",
   "nbconvert_exporter": "python",
   "pygments_lexer": "ipython3",
   "version": "3.8.12"
  }
 },
 "nbformat": 4,
 "nbformat_minor": 5
}
