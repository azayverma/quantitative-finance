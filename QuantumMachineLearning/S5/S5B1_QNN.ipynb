{
 "cells": [
  {
   "cell_type": "markdown",
   "id": "9033bbc2",
   "metadata": {},
   "source": [
    "# Quantum Neural Networks\n",
    "\n",
    "In this block we:\n",
    "\n",
    "    * ...briefly review the neural networks\n",
    "    * ...explore the quantum neural networks in qiskit\n",
    "\n",
    "***"
   ]
  },
  {
   "cell_type": "markdown",
   "id": "1a51ed46",
   "metadata": {},
   "source": [
    "# Time for Quantum Neural Networks\n",
    "\n",
    "... let us explore the quantum neural networks in qiskit.\n"
   ]
  },
  {
   "cell_type": "code",
   "execution_count": 1,
   "id": "7b393ea0",
   "metadata": {},
   "outputs": [],
   "source": [
    "# Import numpy & usual libraries, check the qiskit version etc.\n",
    "import numpy as np\n",
    "\n",
    "# Import basic object from the Qiskit\n",
    "from qiskit import QuantumCircuit\n",
    "from qiskit import Aer,BasicAer\n",
    "from qiskit import execute\n",
    "\n",
    "# We will need these two\n",
    "from qiskit.utils import QuantumInstance\n",
    "from qiskit_machine_learning.kernels import QuantumKernel\n",
    "\n",
    "# Load account from the disk\n",
    "from qiskit import IBMQ\n",
    "IBMQ.load_account() \n",
    "\n",
    "# We will need this for plots\n",
    "from qiskit.visualization import plot_histogram,plot_bloch_multivector"
   ]
  },
  {
   "cell_type": "code",
   "execution_count": 2,
   "id": "4284f46b",
   "metadata": {},
   "outputs": [
    {
     "data": {
      "text/html": [
       "<h3>Version Information</h3><table><tr><th>Qiskit Software</th><th>Version</th></tr><tr><td><code>qiskit-terra</code></td><td>0.19.2</td></tr><tr><td><code>qiskit-aer</code></td><td>0.10.3</td></tr><tr><td><code>qiskit-ignis</code></td><td>0.7.0</td></tr><tr><td><code>qiskit-ibmq-provider</code></td><td>0.18.3</td></tr><tr><td><code>qiskit</code></td><td>0.34.2</td></tr><tr><td><code>qiskit-machine-learning</code></td><td>0.3.1</td></tr><tr><th>System information</th></tr><tr><td>Python version</td><td>3.8.12</td></tr><tr><td>Python compiler</td><td>Clang 10.0.0 </td></tr><tr><td>Python build</td><td>default, Oct 12 2021 06:23:56</td></tr><tr><td>OS</td><td>Darwin</td></tr><tr><td>CPUs</td><td>4</td></tr><tr><td>Memory (Gb)</td><td>8.0</td></tr><tr><td colspan='2'>Mon Mar 21 21:11:00 2022 GMT</td></tr></table>"
      ],
      "text/plain": [
       "<IPython.core.display.HTML object>"
      ]
     },
     "metadata": {},
     "output_type": "display_data"
    },
    {
     "data": {
      "text/html": [
       "<div style='width: 100%; background-color:#d5d9e0;padding-left: 10px; padding-bottom: 10px; padding-right: 10px; padding-top: 5px'><h3>This code is a part of Qiskit</h3><p>&copy; Copyright IBM 2017, 2022.</p><p>This code is licensed under the Apache License, Version 2.0. You may<br>obtain a copy of this license in the LICENSE.txt file in the root directory<br> of this source tree or at http://www.apache.org/licenses/LICENSE-2.0.<p>Any modifications or derivative works of this code must retain this<br>copyright notice, and modified files need to carry a notice indicating<br>that they have been altered from the originals.</p></div>"
      ],
      "text/plain": [
       "<IPython.core.display.HTML object>"
      ]
     },
     "metadata": {},
     "output_type": "display_data"
    }
   ],
   "source": [
    "# Check the version of the qiskit you use\n",
    "\n",
    "# Compared to previous class, I have installed the up-to-date version\n",
    "import qiskit.tools.jupyter\n",
    "%qiskit_version_table\n",
    "%qiskit_copyright"
   ]
  },
  {
   "cell_type": "code",
   "execution_count": 3,
   "id": "8abc59fe",
   "metadata": {},
   "outputs": [
    {
     "name": "stderr",
     "output_type": "stream",
     "text": [
      "ibmqfactory.load_account:WARNING:2022-03-21 21:11:00,833: Credentials are already in use. The existing account in the session will be replaced.\n"
     ]
    }
   ],
   "source": [
    "# Ideal simulator\n",
    "simulator = Aer.get_backend('qasm_simulator')\n",
    "\n",
    "# Real-like simulator\n",
    "from qiskit.providers.aer.noise import NoiseModel\n",
    "\n",
    "# Choose a particuler quantum computer \n",
    "provider = IBMQ.load_account()\n",
    "backend = provider.get_backend('ibmq_belem')\n",
    "\n",
    "# We derive the noise model from the chosen quantum computer\n",
    "noise_model = NoiseModel.from_backend(backend)\n",
    "\n",
    "# Further, we assume the specific qauntum computer:\n",
    "# Get coupling map from backend\n",
    "coupling_map = backend.configuration().coupling_map\n",
    "\n",
    "# Get basis gates from noise model\n",
    "basis_gates = noise_model.basis_gates\n",
    "\n",
    "# define backend (simulator)\n",
    "backendSim = QuantumInstance(\n",
    "    BasicAer.get_backend(\"qasm_simulator\"), shots=1024\n",
    ")\n",
    "\n",
    "# define backend (simulator with specific noise)\n",
    "backendSimWithNoise = QuantumInstance(\n",
    "    Aer.get_backend(\"qasm_simulator\"), \n",
    "    coupling_map=coupling_map,\n",
    "                 basis_gates=basis_gates,\n",
    "                 noise_model=noise_model,\n",
    "                shots=1024\n",
    ")"
   ]
  },
  {
   "cell_type": "markdown",
   "id": "049fbfc9",
   "metadata": {},
   "source": [
    "## Classification using QNN\n",
    "\n",
    "* We start with classification problem.\n",
    "\n",
    "* We use implemented library.\n",
    "\n",
    "\n"
   ]
  },
  {
   "cell_type": "code",
   "execution_count": 4,
   "id": "2f887cdb",
   "metadata": {},
   "outputs": [
    {
     "data": {
      "text/plain": [
       "Text(0.5, 0, 'x #0')"
      ]
     },
     "execution_count": 4,
     "metadata": {},
     "output_type": "execute_result"
    },
    {
     "data": {
      "image/png": "[encoded data removed]",
      "text/plain": [
       "<Figure size 576x288 with 1 Axes>"
      ]
     },
     "metadata": {
      "needs_background": "light"
     },
     "output_type": "display_data"
    }
   ],
   "source": [
    "# Prepare random data, using moons\n",
    "import matplotlib.pyplot as plt\n",
    "from sklearn.datasets import make_moons\n",
    "from sklearn.model_selection import train_test_split\n",
    "\n",
    "\n",
    "X, y = make_moons(n_samples=40, noise=0.3, random_state=0)\n",
    "X_train, X_test, y_train, y_test = train_test_split(X, y, stratify=y, random_state=0)\n",
    "\n",
    "\n",
    "fig, ax = plt.subplots(figsize=(8, 4))\n",
    "\n",
    "ax.scatter(X[:, 0], X[:, 1], c=y)\n",
    "ax.set_ylabel(\"x #1\")\n",
    "ax.set_xlabel(\"x #0\")\n"
   ]
  },
  {
   "cell_type": "code",
   "execution_count": 5,
   "id": "b304e6c3",
   "metadata": {},
   "outputs": [],
   "source": [
    "# We use implemented function from the qiskit library\n",
    "from qiskit_machine_learning.neural_networks import TwoLayerQNN\n",
    "\n",
    "# define the two-layer QNN\n",
    "qnn = TwoLayerQNN(X.shape[1], quantum_instance=backendSim)"
   ]
  },
  {
   "cell_type": "markdown",
   "id": "f5895db4",
   "metadata": {},
   "source": [
    "## Under the hood...\n",
    "\n",
    "The TwoLayerQNN -- Two Layer Quantum Neural Network consists of:\n",
    "\n",
    "* Feature map\n",
    "* Ansatz\n",
    "* Observable\n",
    "\n",
    "Let us explore it in more details"
   ]
  },
  {
   "cell_type": "code",
   "execution_count": 6,
   "id": "6236b853",
   "metadata": {},
   "outputs": [
    {
     "data": {
      "image/png": "[encoded data removed]",
      "text/plain": [
       "<Figure size 507.852x144.48 with 1 Axes>"
      ]
     },
     "execution_count": 6,
     "metadata": {},
     "output_type": "execute_result"
    }
   ],
   "source": [
    "# The 2-layer qnn is an object, we exploire its content\n",
    "\n",
    "# Drawing the circuit\n",
    "qnn.circuit.draw(output='mpl')"
   ]
  },
  {
   "cell_type": "markdown",
   "id": "e06e00a7",
   "metadata": {},
   "source": [
    "## Ferature map\n",
    "\n",
    "We know this element very well, we have explored this in more details already.\n",
    "\n",
    "The default is ZZFeatureMap, we redefine the feature map using feature_map="
   ]
  },
  {
   "cell_type": "code",
   "execution_count": 7,
   "id": "4b29ddf3",
   "metadata": {},
   "outputs": [
    {
     "data": {
      "image/png": "[encoded data removed]",
      "text/plain": [
       "<Figure size 267.052x144.48 with 1 Axes>"
      ]
     },
     "execution_count": 7,
     "metadata": {},
     "output_type": "execute_result"
    }
   ],
   "source": [
    "qnn.feature_map.draw(output='mpl')"
   ]
  },
  {
   "cell_type": "code",
   "execution_count": 8,
   "id": "b568609e",
   "metadata": {},
   "outputs": [
    {
     "data": {
      "image/png": "[encoded data removed]",
      "text/plain": [
       "<Figure size 929.252x144.48 with 1 Axes>"
      ]
     },
     "execution_count": 8,
     "metadata": {},
     "output_type": "execute_result"
    }
   ],
   "source": [
    "# View in terms of elementary objects...\n",
    "qnn.feature_map.decompose().draw(output='mpl')"
   ]
  },
  {
   "cell_type": "markdown",
   "id": "8839e8dd",
   "metadata": {},
   "source": [
    "## The Ansatz\n",
    "\n",
    "The second element of the Neural Network is Ansatz, let explore what this stands for:"
   ]
  },
  {
   "cell_type": "code",
   "execution_count": 9,
   "id": "3acdddee",
   "metadata": {},
   "outputs": [
    {
     "name": "stdout",
     "output_type": "stream",
     "text": [
      "     ┌──────────────────────────────────────────────────────────┐\n",
      "q_0: ┤0                                                         ├\n",
      "     │  RealAmplitudes(θ[0],θ[1],θ[2],θ[3],θ[4],θ[5],θ[6],θ[7]) │\n",
      "q_1: ┤1                                                         ├\n",
      "     └──────────────────────────────────────────────────────────┘\n"
     ]
    }
   ],
   "source": [
    "# One way to visualise the circuit\n",
    "print(qnn.ansatz)"
   ]
  },
  {
   "cell_type": "code",
   "execution_count": 10,
   "id": "0115a815",
   "metadata": {},
   "outputs": [
    {
     "data": {
      "image/png": "[encoded data removed]",
      "text/plain": [
       "<Figure size 507.852x144.48 with 1 Axes>"
      ]
     },
     "execution_count": 10,
     "metadata": {},
     "output_type": "execute_result"
    }
   ],
   "source": [
    "# View in terms of elementary objects...\n",
    "qnn.ansatz.decompose().draw(output='mpl')"
   ]
  },
  {
   "cell_type": "code",
   "execution_count": 11,
   "id": "451ec297",
   "metadata": {},
   "outputs": [
    {
     "data": {
      "text/plain": [
       "PauliSumOp(SparsePauliOp(['ZZ'],\n",
       "              coeffs=[1.+0.j]), coeff=1.0)"
      ]
     },
     "execution_count": 11,
     "metadata": {},
     "output_type": "execute_result"
    }
   ],
   "source": [
    "# Finally, we explore the observable element\n",
    "qnn.observable"
   ]
  },
  {
   "cell_type": "markdown",
   "id": "2b9a839b",
   "metadata": {},
   "source": [
    "First, we explore the Ansatz:\n",
    "\n",
    "## Real Amplitudes\n",
    "\n",
    "The RealAmplitude is a heuristic trial wave function. This is used across different amplications and aims to mix the qubits. \n",
    "\n",
    "The circuit is composed of layers of Y-rotation and control nots (entanglement).\n",
    "\n",
    "Let us explore this circuit on its own:\n",
    "\n"
   ]
  },
  {
   "cell_type": "code",
   "execution_count": 12,
   "id": "abbfed7f",
   "metadata": {},
   "outputs": [],
   "source": [
    "from qiskit.circuit.library import RealAmplitudes \n",
    "ansatz = RealAmplitudes(num_qubits=3, reps=2,insert_barriers=True)"
   ]
  },
  {
   "cell_type": "code",
   "execution_count": 13,
   "id": "1d2fe0f7",
   "metadata": {},
   "outputs": [
    {
     "data": {
      "image/png": "[encoded data removed]",
      "text/plain": [
       "<Figure size 387.597x204.68 with 1 Axes>"
      ]
     },
     "execution_count": 13,
     "metadata": {},
     "output_type": "execute_result"
    }
   ],
   "source": [
    "ansatz.draw(output='mpl')"
   ]
  },
  {
   "cell_type": "code",
   "execution_count": 14,
   "id": "ba7631b4",
   "metadata": {},
   "outputs": [
    {
     "data": {
      "image/png": "[encoded data removed]",
      "text/plain": [
       "<Figure size 869.197x204.68 with 1 Axes>"
      ]
     },
     "execution_count": 14,
     "metadata": {},
     "output_type": "execute_result"
    }
   ],
   "source": [
    "ansatz.decompose().draw(output='mpl')"
   ]
  },
  {
   "cell_type": "code",
   "execution_count": 15,
   "id": "136e0615",
   "metadata": {},
   "outputs": [
    {
     "data": {
      "image/png": "[encoded data removed]",
      "text/plain": [
       "<Figure size 748.797x204.68 with 1 Axes>"
      ]
     },
     "execution_count": 15,
     "metadata": {},
     "output_type": "execute_result"
    }
   ],
   "source": [
    "ansatz = RealAmplitudes(num_qubits=3, reps=2,insert_barriers=True, entanglement='linear')\n",
    "ansatz.decompose().draw(output='mpl')"
   ]
  },
  {
   "cell_type": "code",
   "execution_count": 16,
   "id": "c6dbc6e5",
   "metadata": {},
   "outputs": [
    {
     "data": {
      "image/png": "[encoded data removed]",
      "text/plain": [
       "<Figure size 447.797x264.88 with 1 Axes>"
      ]
     },
     "execution_count": 16,
     "metadata": {},
     "output_type": "execute_result"
    }
   ],
   "source": [
    "# We can fine-tune the entanglement\n",
    "ansatz = RealAmplitudes(num_qubits=4, reps=1,insert_barriers=True, entanglement=[[0,2],[1,3]])\n",
    "ansatz.decompose().draw(output='mpl')"
   ]
  },
  {
   "cell_type": "markdown",
   "id": "c09007c4",
   "metadata": {},
   "source": [
    "We can specify the topology of our quantum circuit. If our intention is to create the intertwined \"network\", which resembles the neural network, the RealAmplitudes class is suitable.  \n",
    "\n"
   ]
  },
  {
   "cell_type": "code",
   "execution_count": 17,
   "id": "dcc8d10d",
   "metadata": {},
   "outputs": [
    {
     "data": {
      "text/plain": [
       "[ParameterVectorElement(θ[0]),\n",
       " ParameterVectorElement(θ[1]),\n",
       " ParameterVectorElement(θ[2]),\n",
       " ParameterVectorElement(θ[3]),\n",
       " ParameterVectorElement(θ[4]),\n",
       " ParameterVectorElement(θ[5]),\n",
       " ParameterVectorElement(θ[6]),\n",
       " ParameterVectorElement(θ[7])]"
      ]
     },
     "execution_count": 17,
     "metadata": {},
     "output_type": "execute_result"
    }
   ],
   "source": [
    "ansatz.ordered_parameters"
   ]
  },
  {
   "cell_type": "markdown",
   "id": "5fd2538c",
   "metadata": {},
   "source": [
    "We will be finding the parameters during the optimisation procedure...\n",
    "\n"
   ]
  },
  {
   "cell_type": "markdown",
   "id": "8dbdcb51",
   "metadata": {},
   "source": [
    "## Observable\n",
    "\n",
    "The last element is observable.\n"
   ]
  },
  {
   "cell_type": "code",
   "execution_count": 18,
   "id": "4f0b62e4",
   "metadata": {},
   "outputs": [
    {
     "data": {
      "text/plain": [
       "PauliSumOp(SparsePauliOp(['ZZ'],\n",
       "              coeffs=[1.+0.j]), coeff=1.0)"
      ]
     },
     "execution_count": 18,
     "metadata": {},
     "output_type": "execute_result"
    }
   ],
   "source": [
    "# Finally, we explore the observable element\n",
    "qnn.observable"
   ]
  },
  {
   "cell_type": "markdown",
   "id": "b1773ac4",
   "metadata": {},
   "source": [
    "PauliSumOp -- sum of Pauli operators ('ZZ') with real valued coef 1+0j, multiplied by 1 at the end. \n"
   ]
  },
  {
   "cell_type": "markdown",
   "id": "791448ab",
   "metadata": {},
   "source": [
    "# Constructing the Estimating Workflow\n",
    "\n"
   ]
  },
  {
   "cell_type": "code",
   "execution_count": 19,
   "id": "e85d9df8",
   "metadata": {},
   "outputs": [],
   "source": [
    "# define the two-layer QNN -- regenerating it again\n",
    "qnn = TwoLayerQNN(X.shape[1], quantum_instance=backendSim)"
   ]
  },
  {
   "cell_type": "code",
   "execution_count": 20,
   "id": "2b587a5f",
   "metadata": {},
   "outputs": [
    {
     "data": {
      "text/plain": [
       "2"
      ]
     },
     "execution_count": 20,
     "metadata": {},
     "output_type": "execute_result"
    }
   ],
   "source": [
    "# We can extract some important parameters\n",
    "qnn.num_inputs"
   ]
  },
  {
   "cell_type": "code",
   "execution_count": 21,
   "id": "09432767",
   "metadata": {},
   "outputs": [
    {
     "data": {
      "text/plain": [
       "8"
      ]
     },
     "execution_count": 21,
     "metadata": {},
     "output_type": "execute_result"
    }
   ],
   "source": [
    "qnn.num_weights"
   ]
  },
  {
   "cell_type": "code",
   "execution_count": 22,
   "id": "af4b54f2",
   "metadata": {},
   "outputs": [],
   "source": [
    "# We use another elements of the qiskit utility library (generate random weights)\n",
    "from qiskit.utils import algorithm_globals\n",
    "algorithm_globals.random_seed = 42"
   ]
  },
  {
   "cell_type": "code",
   "execution_count": 23,
   "id": "a8032b5d",
   "metadata": {},
   "outputs": [
    {
     "data": {
      "text/plain": [
       "array([0.77395605, 0.43887844, 0.85859792, 0.69736803, 0.09417735,\n",
       "       0.97562235, 0.7611397 , 0.78606431])"
      ]
     },
     "execution_count": 23,
     "metadata": {},
     "output_type": "execute_result"
    }
   ],
   "source": [
    "# We can use any other way to generate random numbers\n",
    "algorithm_globals.random.random(qnn.num_weights)"
   ]
  },
  {
   "cell_type": "code",
   "execution_count": 24,
   "id": "daae4c98",
   "metadata": {},
   "outputs": [],
   "source": [
    "random_weights=algorithm_globals.random.random(qnn.num_weights)"
   ]
  },
  {
   "cell_type": "markdown",
   "id": "98f94039",
   "metadata": {},
   "source": [
    "In order to calibrate the model, we need to be able to perform a forward pass (evaluate data point(s)) and then pass the data back."
   ]
  },
  {
   "cell_type": "code",
   "execution_count": 25,
   "id": "0cc83753",
   "metadata": {},
   "outputs": [
    {
     "data": {
      "text/plain": [
       "array([ 1.70860042, -0.59003473])"
      ]
     },
     "execution_count": 25,
     "metadata": {},
     "output_type": "execute_result"
    }
   ],
   "source": [
    "# We pass real data through\n",
    "X_train[0,:]"
   ]
  },
  {
   "cell_type": "code",
   "execution_count": 26,
   "id": "bdb30dfc",
   "metadata": {},
   "outputs": [
    {
     "data": {
      "text/plain": [
       "array([[0.05273437]])"
      ]
     },
     "execution_count": 26,
     "metadata": {},
     "output_type": "execute_result"
    }
   ],
   "source": [
    "qnn.forward(X_train[0,:],random_weights)"
   ]
  },
  {
   "cell_type": "code",
   "execution_count": 27,
   "id": "75cc7bc1",
   "metadata": {},
   "outputs": [
    {
     "data": {
      "text/plain": [
       "array([[0.06445312],\n",
       "       [0.24023438]])"
      ]
     },
     "execution_count": 27,
     "metadata": {},
     "output_type": "execute_result"
    }
   ],
   "source": [
    "# We can pass batch of data\n",
    "qnn.forward(X_train[:2,:],random_weights)"
   ]
  },
  {
   "cell_type": "code",
   "execution_count": 28,
   "id": "5a5270a2",
   "metadata": {},
   "outputs": [
    {
     "data": {
      "text/plain": [
       "(None,\n",
       " array([[[-0.10253906,  0.24804688,  0.0078125 ,  0.68554688,\n",
       "          -0.10351562,  0.3671875 , -0.20996094,  0.51464844]]]))"
      ]
     },
     "execution_count": 28,
     "metadata": {},
     "output_type": "execute_result"
    }
   ],
   "source": [
    "qnn.backward(X_train[0,:], random_weights)"
   ]
  },
  {
   "cell_type": "code",
   "execution_count": 29,
   "id": "4d5f1558",
   "metadata": {},
   "outputs": [
    {
     "data": {
      "text/plain": [
       "array([0.12811363, 0.45038594, 0.37079802, 0.92676499, 0.64386512,\n",
       "       0.82276161, 0.4434142 , 0.22723872])"
      ]
     },
     "execution_count": 29,
     "metadata": {},
     "output_type": "execute_result"
    }
   ],
   "source": [
    "# ... and original weights coming in as an input\n",
    "random_weights"
   ]
  },
  {
   "cell_type": "markdown",
   "id": "721aa8be",
   "metadata": {},
   "source": [
    "### ... towards the learning\n",
    "\n",
    "We have forward and backward passes.\n",
    "\n",
    "If we add an optimiser, we can iterate the passes through the data to minimise a specified loss function (we use implemented options as much as possible).\n",
    "\n",
    "When building neural netwroks in keras, we can add callback function, which manages iteration process (we can add annealing, stop rules etc). The qiskit implementation of the NN classifier (regression) allows us to add the callback function as well.\n"
   ]
  },
  {
   "cell_type": "code",
   "execution_count": 30,
   "id": "08a7c024",
   "metadata": {},
   "outputs": [],
   "source": [
    "from IPython.display import clear_output\n",
    "\n",
    "# we use template one which plots the iteration process.\n",
    "def callback_graph(weights, obj_func_eval):\n",
    "    clear_output(wait=True)\n",
    "    # This needs to be created outside !\n",
    "    objective_func_vals.append(obj_func_eval)\n",
    "    plt.title(\"Optimisation process\")\n",
    "    plt.xlabel(\"Iteration No\")\n",
    "    plt.ylabel(\"Objective function value\")\n",
    "    plt.plot(range(len(objective_func_vals)), objective_func_vals)\n",
    "    plt.show()"
   ]
  },
  {
   "cell_type": "code",
   "execution_count": 31,
   "id": "9ab5887c",
   "metadata": {},
   "outputs": [],
   "source": [
    "# We need to construct the classifier from the elements we have\n",
    "from qiskit_machine_learning.algorithms.classifiers import NeuralNetworkClassifier\n",
    "\n",
    "# We need optimiser functions, we will use two implemented \n",
    "from qiskit.algorithms.optimizers import COBYLA, L_BFGS_B\n",
    "\n",
    "qnnClassifier = NeuralNetworkClassifier(qnn, optimizer=COBYLA(), callback=callback_graph)"
   ]
  },
  {
   "cell_type": "markdown",
   "id": "f04bceb8",
   "metadata": {},
   "source": [
    "### Optimisers\n",
    "\n",
    "* L_BFGS_B -- Limited-memory BFGS Bound optimizer.\n",
    "\n",
    "* COBYLA -- Constrained Optimization By Linear Approximation optimizer.\n",
    "\n",
    "* ADAM -- Adam and AMSGRAD optimizers.\n",
    "\n",
    "* SciPyOptimizer -- A general Qiskit Optimizer wrapping scipy.optimize.minimize.\n",
    "\n",
    "... among others"
   ]
  },
  {
   "cell_type": "code",
   "execution_count": 32,
   "id": "cf2b5585",
   "metadata": {},
   "outputs": [
    {
     "data": {
      "image/png": "[encoded data removed]",
      "text/plain": [
       "<Figure size 432x288 with 1 Axes>"
      ]
     },
     "metadata": {
      "needs_background": "light"
     },
     "output_type": "display_data"
    },
    {
     "data": {
      "text/plain": [
       "<qiskit_machine_learning.algorithms.classifiers.neural_network_classifier.NeuralNetworkClassifier at 0x7fb762ed7850>"
      ]
     },
     "execution_count": 32,
     "metadata": {},
     "output_type": "execute_result"
    }
   ],
   "source": [
    "# empty object for the callback function\n",
    "objective_func_vals = []\n",
    "\n",
    "# Figure\n",
    "fig, ax = plt.subplots(figsize=(8, 4))\n",
    "\n",
    "# fit \n",
    "qnnClassifier.fit(X_train, y_train)\n"
   ]
  },
  {
   "cell_type": "code",
   "execution_count": 33,
   "id": "7898d941",
   "metadata": {},
   "outputs": [
    {
     "data": {
      "text/plain": [
       "0.35"
      ]
     },
     "execution_count": 33,
     "metadata": {},
     "output_type": "execute_result"
    }
   ],
   "source": [
    "qnnClassifier.score(X, y)"
   ]
  },
  {
   "cell_type": "markdown",
   "id": "304f0070",
   "metadata": {},
   "source": [
    "With different optimiser..."
   ]
  },
  {
   "cell_type": "code",
   "execution_count": 34,
   "id": "c26d72a3",
   "metadata": {},
   "outputs": [
    {
     "data": {
      "image/png": "[encoded data removed]",
      "text/plain": [
       "<Figure size 432x288 with 1 Axes>"
      ]
     },
     "metadata": {
      "needs_background": "light"
     },
     "output_type": "display_data"
    },
    {
     "data": {
      "text/plain": [
       "0.4"
      ]
     },
     "execution_count": 34,
     "metadata": {},
     "output_type": "execute_result"
    }
   ],
   "source": [
    "qnnClassifier2 = NeuralNetworkClassifier(qnn, optimizer=L_BFGS_B(), callback=callback_graph)\n",
    "# empty object for the callback function\n",
    "objective_func_vals = []\n",
    "\n",
    "# Figure\n",
    "fig, ax = plt.subplots(figsize=(8, 4))\n",
    "\n",
    "# fit \n",
    "qnnClassifier2.fit(X_train, y_train)\n",
    "qnnClassifier2.score(X, y)"
   ]
  },
  {
   "cell_type": "code",
   "execution_count": 35,
   "id": "b58fa233",
   "metadata": {},
   "outputs": [
    {
     "data": {
      "text/plain": [
       "0.4"
      ]
     },
     "execution_count": 35,
     "metadata": {},
     "output_type": "execute_result"
    }
   ],
   "source": [
    "# Out of sample prediction\n",
    "y_predict = qnnClassifier2.predict(X_test)\n",
    "\n",
    "# Out of sample score\n",
    "qnnClassifier2.score(X_test, y_test)\n"
   ]
  },
  {
   "cell_type": "markdown",
   "id": "a795c005",
   "metadata": {},
   "source": [
    "We can run number of numerical exercises, we can create our own network topology\n",
    "\n",
    "TwoLayerQNN has these default values, we can override them\n",
    "\n",
    "* feature_map=None,\n",
    "\n",
    "* ansatz=None,\n",
    "    * This may be off interest for driving the depth of the network\n",
    "\n",
    "* observable=None\n"
   ]
  },
  {
   "cell_type": "code",
   "execution_count": 36,
   "id": "5ae45357",
   "metadata": {},
   "outputs": [
    {
     "data": {
      "image/png": "[encoded data removed]",
      "text/plain": [
       "<Figure size 507.852x144.48 with 1 Axes>"
      ]
     },
     "execution_count": 36,
     "metadata": {},
     "output_type": "execute_result"
    }
   ],
   "source": [
    "# We can fine-tune the entanglement\n",
    "ansatzQnn = RealAmplitudes(num_qubits=X.shape[1], reps=3)\n",
    "ansatzQnn.decompose().draw(output='mpl')"
   ]
  },
  {
   "cell_type": "code",
   "execution_count": 37,
   "id": "4d95babb",
   "metadata": {},
   "outputs": [],
   "source": [
    "qnn3 = TwoLayerQNN(X.shape[1], ansatz=ansatzQnn, quantum_instance=backendSim)"
   ]
  },
  {
   "cell_type": "code",
   "execution_count": 38,
   "id": "642162ad",
   "metadata": {},
   "outputs": [
    {
     "data": {
      "image/png": "[encoded data removed]",
      "text/plain": [
       "<Figure size 432x288 with 1 Axes>"
      ]
     },
     "metadata": {
      "needs_background": "light"
     },
     "output_type": "display_data"
    },
    {
     "data": {
      "text/plain": [
       "0.375"
      ]
     },
     "execution_count": 38,
     "metadata": {},
     "output_type": "execute_result"
    }
   ],
   "source": [
    "qnnClassifier3 = NeuralNetworkClassifier(qnn3, optimizer=L_BFGS_B(), callback=callback_graph)\n",
    "# empty object for the callback function\n",
    "objective_func_vals = []\n",
    "\n",
    "# Figure\n",
    "fig, ax = plt.subplots(figsize=(8, 4))\n",
    "\n",
    "# fit \n",
    "qnnClassifier3.fit(X_train, y_train)\n",
    "qnnClassifier3.score(X, y)"
   ]
  },
  {
   "cell_type": "markdown",
   "id": "3d2eec87",
   "metadata": {},
   "source": [
    "***\n",
    "Given we can specify entanglement between different qubits, we can mimic the NN for picture recognition ...\n",
    "***"
   ]
  },
  {
   "cell_type": "markdown",
   "id": "ce6555cb",
   "metadata": {},
   "source": [
    "***\n",
    "## Multidimensional input\n",
    "\n",
    "Let us illustrate multidimensional input.\n",
    "***"
   ]
  },
  {
   "cell_type": "code",
   "execution_count": 39,
   "id": "6017892a",
   "metadata": {},
   "outputs": [],
   "source": [
    "from sklearn.datasets import make_classification\n",
    "Xx, yx = make_classification(n_samples=40, n_features=4, random_state=0)\n",
    "Xx_train, Xx_test, yx_train, yx_test = train_test_split(Xx, yx, stratify=yx, random_state=0)\n",
    "\n"
   ]
  },
  {
   "cell_type": "code",
   "execution_count": 40,
   "id": "52da852d",
   "metadata": {},
   "outputs": [
    {
     "data": {
      "text/plain": [
       "array([[ 0.11132084,  1.61556036,  1.55618371,  0.68424183],\n",
       "       [-0.47678361, -0.39970521, -1.4703221 ,  1.1488029 ],\n",
       "       [ 0.31968562,  1.14674592,  1.6860224 , -0.22044629],\n",
       "       [-0.09468434,  1.24267725,  0.76139696,  1.05535409],\n",
       "       [-0.0756485 ,  1.02156095,  0.63120374,  0.86114912]])"
      ]
     },
     "execution_count": 40,
     "metadata": {},
     "output_type": "execute_result"
    }
   ],
   "source": [
    "Xx_train[:5,:]"
   ]
  },
  {
   "cell_type": "code",
   "execution_count": 41,
   "id": "666c780e",
   "metadata": {},
   "outputs": [
    {
     "ename": "QiskitMachineLearningError",
     "evalue": "'Input data has incorrect shape, last dimension is not equal to the number of inputs: 2, but got: 4.'",
     "output_type": "error",
     "traceback": [
      "\u001b[0;31m---------------------------------------------------------------------------\u001b[0m",
      "\u001b[0;31mQiskitMachineLearningError\u001b[0m                Traceback (most recent call last)",
      "\u001b[0;32m/var/folders/jt/q5vq7x852qs55m26mblz_vy00000gn/T/ipykernel_17212/3638187008.py\u001b[0m in \u001b[0;36m<module>\u001b[0;34m\u001b[0m\n\u001b[1;32m      9\u001b[0m \u001b[0;34m\u001b[0m\u001b[0m\n\u001b[1;32m     10\u001b[0m \u001b[0;31m# fit\u001b[0m\u001b[0;34m\u001b[0m\u001b[0;34m\u001b[0m\u001b[0;34m\u001b[0m\u001b[0m\n\u001b[0;32m---> 11\u001b[0;31m \u001b[0mqnnClassifier4\u001b[0m\u001b[0;34m.\u001b[0m\u001b[0mfit\u001b[0m\u001b[0;34m(\u001b[0m\u001b[0mXx_train\u001b[0m\u001b[0;34m,\u001b[0m \u001b[0myx_train\u001b[0m\u001b[0;34m)\u001b[0m\u001b[0;34m\u001b[0m\u001b[0;34m\u001b[0m\u001b[0m\n\u001b[0m\u001b[1;32m     12\u001b[0m \u001b[0mqnnClassifier4\u001b[0m\u001b[0;34m.\u001b[0m\u001b[0mscore\u001b[0m\u001b[0;34m(\u001b[0m\u001b[0mXx_train\u001b[0m\u001b[0;34m,\u001b[0m \u001b[0myx_train\u001b[0m\u001b[0;34m)\u001b[0m\u001b[0;34m\u001b[0m\u001b[0;34m\u001b[0m\u001b[0m\n",
      "\u001b[0;32m~/opt/anaconda3/envs/qiskit/lib/python3.8/site-packages/qiskit_machine_learning/algorithms/classifiers/neural_network_classifier.py\u001b[0m in \u001b[0;36mfit\u001b[0;34m(self, X, y)\u001b[0m\n\u001b[1;32m    105\u001b[0m         \u001b[0mobjective\u001b[0m \u001b[0;34m=\u001b[0m \u001b[0mself\u001b[0m\u001b[0;34m.\u001b[0m\u001b[0m_get_objective\u001b[0m\u001b[0;34m(\u001b[0m\u001b[0mfunction\u001b[0m\u001b[0;34m)\u001b[0m\u001b[0;34m\u001b[0m\u001b[0;34m\u001b[0m\u001b[0m\n\u001b[1;32m    106\u001b[0m \u001b[0;34m\u001b[0m\u001b[0m\n\u001b[0;32m--> 107\u001b[0;31m         self._fit_result = self._optimizer.minimize(\n\u001b[0m\u001b[1;32m    108\u001b[0m             \u001b[0mfun\u001b[0m\u001b[0;34m=\u001b[0m\u001b[0mobjective\u001b[0m\u001b[0;34m,\u001b[0m\u001b[0;34m\u001b[0m\u001b[0;34m\u001b[0m\u001b[0m\n\u001b[1;32m    109\u001b[0m             \u001b[0mx0\u001b[0m\u001b[0;34m=\u001b[0m\u001b[0mself\u001b[0m\u001b[0;34m.\u001b[0m\u001b[0m_choose_initial_point\u001b[0m\u001b[0;34m(\u001b[0m\u001b[0;34m)\u001b[0m\u001b[0;34m,\u001b[0m\u001b[0;34m\u001b[0m\u001b[0;34m\u001b[0m\u001b[0m\n",
      "\u001b[0;32m~/opt/anaconda3/envs/qiskit/lib/python3.8/site-packages/qiskit/algorithms/optimizers/scipy_optimizer.py\u001b[0m in \u001b[0;36mminimize\u001b[0;34m(self, fun, x0, jac, bounds)\u001b[0m\n\u001b[1;32m    127\u001b[0m             \u001b[0mjac\u001b[0m \u001b[0;34m=\u001b[0m \u001b[0mself\u001b[0m\u001b[0;34m.\u001b[0m\u001b[0m_wrap_gradient\u001b[0m\u001b[0;34m(\u001b[0m\u001b[0mjac\u001b[0m\u001b[0;34m)\u001b[0m\u001b[0;34m\u001b[0m\u001b[0;34m\u001b[0m\u001b[0m\n\u001b[1;32m    128\u001b[0m \u001b[0;34m\u001b[0m\u001b[0m\n\u001b[0;32m--> 129\u001b[0;31m         raw_result = minimize(\n\u001b[0m\u001b[1;32m    130\u001b[0m             \u001b[0mfun\u001b[0m\u001b[0;34m=\u001b[0m\u001b[0mfun\u001b[0m\u001b[0;34m,\u001b[0m\u001b[0;34m\u001b[0m\u001b[0;34m\u001b[0m\u001b[0m\n\u001b[1;32m    131\u001b[0m             \u001b[0mx0\u001b[0m\u001b[0;34m=\u001b[0m\u001b[0mx0\u001b[0m\u001b[0;34m,\u001b[0m\u001b[0;34m\u001b[0m\u001b[0;34m\u001b[0m\u001b[0m\n",
      "\u001b[0;32m~/opt/anaconda3/envs/qiskit/lib/python3.8/site-packages/scipy/optimize/_minimize.py\u001b[0m in \u001b[0;36mminimize\u001b[0;34m(fun, x0, args, method, jac, hess, hessp, bounds, constraints, tol, callback, options)\u001b[0m\n\u001b[1;32m    679\u001b[0m                                  **options)\n\u001b[1;32m    680\u001b[0m     \u001b[0;32melif\u001b[0m \u001b[0mmeth\u001b[0m \u001b[0;34m==\u001b[0m \u001b[0;34m'l-bfgs-b'\u001b[0m\u001b[0;34m:\u001b[0m\u001b[0;34m\u001b[0m\u001b[0;34m\u001b[0m\u001b[0m\n\u001b[0;32m--> 681\u001b[0;31m         res = _minimize_lbfgsb(fun, x0, args, jac, bounds,\n\u001b[0m\u001b[1;32m    682\u001b[0m                                callback=callback, **options)\n\u001b[1;32m    683\u001b[0m     \u001b[0;32melif\u001b[0m \u001b[0mmeth\u001b[0m \u001b[0;34m==\u001b[0m \u001b[0;34m'tnc'\u001b[0m\u001b[0;34m:\u001b[0m\u001b[0;34m\u001b[0m\u001b[0;34m\u001b[0m\u001b[0m\n",
      "\u001b[0;32m~/opt/anaconda3/envs/qiskit/lib/python3.8/site-packages/scipy/optimize/_lbfgsb_py.py\u001b[0m in \u001b[0;36m_minimize_lbfgsb\u001b[0;34m(fun, x0, args, jac, bounds, disp, maxcor, ftol, gtol, eps, maxfun, maxiter, iprint, callback, maxls, finite_diff_rel_step, **unknown_options)\u001b[0m\n\u001b[1;32m    306\u001b[0m             \u001b[0miprint\u001b[0m \u001b[0;34m=\u001b[0m \u001b[0mdisp\u001b[0m\u001b[0;34m\u001b[0m\u001b[0;34m\u001b[0m\u001b[0m\n\u001b[1;32m    307\u001b[0m \u001b[0;34m\u001b[0m\u001b[0m\n\u001b[0;32m--> 308\u001b[0;31m     sf = _prepare_scalar_function(fun, x0, jac=jac, args=args, epsilon=eps,\n\u001b[0m\u001b[1;32m    309\u001b[0m                                   \u001b[0mbounds\u001b[0m\u001b[0;34m=\u001b[0m\u001b[0mnew_bounds\u001b[0m\u001b[0;34m,\u001b[0m\u001b[0;34m\u001b[0m\u001b[0;34m\u001b[0m\u001b[0m\n\u001b[1;32m    310\u001b[0m                                   finite_diff_rel_step=finite_diff_rel_step)\n",
      "\u001b[0;32m~/opt/anaconda3/envs/qiskit/lib/python3.8/site-packages/scipy/optimize/_optimize.py\u001b[0m in \u001b[0;36m_prepare_scalar_function\u001b[0;34m(fun, x0, jac, args, bounds, epsilon, finite_diff_rel_step, hess)\u001b[0m\n\u001b[1;32m    261\u001b[0m     \u001b[0;31m# ScalarFunction caches. Reuse of fun(x) during grad\u001b[0m\u001b[0;34m\u001b[0m\u001b[0;34m\u001b[0m\u001b[0;34m\u001b[0m\u001b[0m\n\u001b[1;32m    262\u001b[0m     \u001b[0;31m# calculation reduces overall function evaluations.\u001b[0m\u001b[0;34m\u001b[0m\u001b[0;34m\u001b[0m\u001b[0;34m\u001b[0m\u001b[0m\n\u001b[0;32m--> 263\u001b[0;31m     sf = ScalarFunction(fun, x0, args, grad, hess,\n\u001b[0m\u001b[1;32m    264\u001b[0m                         finite_diff_rel_step, bounds, epsilon=epsilon)\n\u001b[1;32m    265\u001b[0m \u001b[0;34m\u001b[0m\u001b[0m\n",
      "\u001b[0;32m~/opt/anaconda3/envs/qiskit/lib/python3.8/site-packages/scipy/optimize/_differentiable_functions.py\u001b[0m in \u001b[0;36m__init__\u001b[0;34m(self, fun, x0, args, grad, hess, finite_diff_rel_step, finite_diff_bounds, epsilon)\u001b[0m\n\u001b[1;32m    156\u001b[0m \u001b[0;34m\u001b[0m\u001b[0m\n\u001b[1;32m    157\u001b[0m         \u001b[0mself\u001b[0m\u001b[0;34m.\u001b[0m\u001b[0m_update_fun_impl\u001b[0m \u001b[0;34m=\u001b[0m \u001b[0mupdate_fun\u001b[0m\u001b[0;34m\u001b[0m\u001b[0;34m\u001b[0m\u001b[0m\n\u001b[0;32m--> 158\u001b[0;31m         \u001b[0mself\u001b[0m\u001b[0;34m.\u001b[0m\u001b[0m_update_fun\u001b[0m\u001b[0;34m(\u001b[0m\u001b[0;34m)\u001b[0m\u001b[0;34m\u001b[0m\u001b[0;34m\u001b[0m\u001b[0m\n\u001b[0m\u001b[1;32m    159\u001b[0m \u001b[0;34m\u001b[0m\u001b[0m\n\u001b[1;32m    160\u001b[0m         \u001b[0;31m# Gradient evaluation\u001b[0m\u001b[0;34m\u001b[0m\u001b[0;34m\u001b[0m\u001b[0;34m\u001b[0m\u001b[0m\n",
      "\u001b[0;32m~/opt/anaconda3/envs/qiskit/lib/python3.8/site-packages/scipy/optimize/_differentiable_functions.py\u001b[0m in \u001b[0;36m_update_fun\u001b[0;34m(self)\u001b[0m\n\u001b[1;32m    249\u001b[0m     \u001b[0;32mdef\u001b[0m \u001b[0m_update_fun\u001b[0m\u001b[0;34m(\u001b[0m\u001b[0mself\u001b[0m\u001b[0;34m)\u001b[0m\u001b[0;34m:\u001b[0m\u001b[0;34m\u001b[0m\u001b[0;34m\u001b[0m\u001b[0m\n\u001b[1;32m    250\u001b[0m         \u001b[0;32mif\u001b[0m \u001b[0;32mnot\u001b[0m \u001b[0mself\u001b[0m\u001b[0;34m.\u001b[0m\u001b[0mf_updated\u001b[0m\u001b[0;34m:\u001b[0m\u001b[0;34m\u001b[0m\u001b[0;34m\u001b[0m\u001b[0m\n\u001b[0;32m--> 251\u001b[0;31m             \u001b[0mself\u001b[0m\u001b[0;34m.\u001b[0m\u001b[0m_update_fun_impl\u001b[0m\u001b[0;34m(\u001b[0m\u001b[0;34m)\u001b[0m\u001b[0;34m\u001b[0m\u001b[0;34m\u001b[0m\u001b[0m\n\u001b[0m\u001b[1;32m    252\u001b[0m             \u001b[0mself\u001b[0m\u001b[0;34m.\u001b[0m\u001b[0mf_updated\u001b[0m \u001b[0;34m=\u001b[0m \u001b[0;32mTrue\u001b[0m\u001b[0;34m\u001b[0m\u001b[0;34m\u001b[0m\u001b[0m\n\u001b[1;32m    253\u001b[0m \u001b[0;34m\u001b[0m\u001b[0m\n",
      "\u001b[0;32m~/opt/anaconda3/envs/qiskit/lib/python3.8/site-packages/scipy/optimize/_differentiable_functions.py\u001b[0m in \u001b[0;36mupdate_fun\u001b[0;34m()\u001b[0m\n\u001b[1;32m    153\u001b[0m \u001b[0;34m\u001b[0m\u001b[0m\n\u001b[1;32m    154\u001b[0m         \u001b[0;32mdef\u001b[0m \u001b[0mupdate_fun\u001b[0m\u001b[0;34m(\u001b[0m\u001b[0;34m)\u001b[0m\u001b[0;34m:\u001b[0m\u001b[0;34m\u001b[0m\u001b[0;34m\u001b[0m\u001b[0m\n\u001b[0;32m--> 155\u001b[0;31m             \u001b[0mself\u001b[0m\u001b[0;34m.\u001b[0m\u001b[0mf\u001b[0m \u001b[0;34m=\u001b[0m \u001b[0mfun_wrapped\u001b[0m\u001b[0;34m(\u001b[0m\u001b[0mself\u001b[0m\u001b[0;34m.\u001b[0m\u001b[0mx\u001b[0m\u001b[0;34m)\u001b[0m\u001b[0;34m\u001b[0m\u001b[0;34m\u001b[0m\u001b[0m\n\u001b[0m\u001b[1;32m    156\u001b[0m \u001b[0;34m\u001b[0m\u001b[0m\n\u001b[1;32m    157\u001b[0m         \u001b[0mself\u001b[0m\u001b[0;34m.\u001b[0m\u001b[0m_update_fun_impl\u001b[0m \u001b[0;34m=\u001b[0m \u001b[0mupdate_fun\u001b[0m\u001b[0;34m\u001b[0m\u001b[0;34m\u001b[0m\u001b[0m\n",
      "\u001b[0;32m~/opt/anaconda3/envs/qiskit/lib/python3.8/site-packages/scipy/optimize/_differentiable_functions.py\u001b[0m in \u001b[0;36mfun_wrapped\u001b[0;34m(x)\u001b[0m\n\u001b[1;32m    135\u001b[0m             \u001b[0;31m# Overwriting results in undefined behaviour because\u001b[0m\u001b[0;34m\u001b[0m\u001b[0;34m\u001b[0m\u001b[0;34m\u001b[0m\u001b[0m\n\u001b[1;32m    136\u001b[0m             \u001b[0;31m# fun(self.x) will change self.x, with the two no longer linked.\u001b[0m\u001b[0;34m\u001b[0m\u001b[0;34m\u001b[0m\u001b[0;34m\u001b[0m\u001b[0m\n\u001b[0;32m--> 137\u001b[0;31m             \u001b[0mfx\u001b[0m \u001b[0;34m=\u001b[0m \u001b[0mfun\u001b[0m\u001b[0;34m(\u001b[0m\u001b[0mnp\u001b[0m\u001b[0;34m.\u001b[0m\u001b[0mcopy\u001b[0m\u001b[0;34m(\u001b[0m\u001b[0mx\u001b[0m\u001b[0;34m)\u001b[0m\u001b[0;34m,\u001b[0m \u001b[0;34m*\u001b[0m\u001b[0margs\u001b[0m\u001b[0;34m)\u001b[0m\u001b[0;34m\u001b[0m\u001b[0;34m\u001b[0m\u001b[0m\n\u001b[0m\u001b[1;32m    138\u001b[0m             \u001b[0;31m# Make sure the function returns a true scalar\u001b[0m\u001b[0;34m\u001b[0m\u001b[0;34m\u001b[0m\u001b[0;34m\u001b[0m\u001b[0m\n\u001b[1;32m    139\u001b[0m             \u001b[0;32mif\u001b[0m \u001b[0;32mnot\u001b[0m \u001b[0mnp\u001b[0m\u001b[0;34m.\u001b[0m\u001b[0misscalar\u001b[0m\u001b[0;34m(\u001b[0m\u001b[0mfx\u001b[0m\u001b[0;34m)\u001b[0m\u001b[0;34m:\u001b[0m\u001b[0;34m\u001b[0m\u001b[0;34m\u001b[0m\u001b[0m\n",
      "\u001b[0;32m~/opt/anaconda3/envs/qiskit/lib/python3.8/site-packages/qiskit_machine_learning/algorithms/trainable_model.py\u001b[0m in \u001b[0;36mobjective\u001b[0;34m(objective_weights)\u001b[0m\n\u001b[1;32m    225\u001b[0m \u001b[0;34m\u001b[0m\u001b[0m\n\u001b[1;32m    226\u001b[0m         \u001b[0;32mdef\u001b[0m \u001b[0mobjective\u001b[0m\u001b[0;34m(\u001b[0m\u001b[0mobjective_weights\u001b[0m\u001b[0;34m)\u001b[0m\u001b[0;34m:\u001b[0m\u001b[0;34m\u001b[0m\u001b[0;34m\u001b[0m\u001b[0m\n\u001b[0;32m--> 227\u001b[0;31m             \u001b[0mobjective_value\u001b[0m \u001b[0;34m=\u001b[0m \u001b[0mfunction\u001b[0m\u001b[0;34m.\u001b[0m\u001b[0mobjective\u001b[0m\u001b[0;34m(\u001b[0m\u001b[0mobjective_weights\u001b[0m\u001b[0;34m)\u001b[0m\u001b[0;34m\u001b[0m\u001b[0;34m\u001b[0m\u001b[0m\n\u001b[0m\u001b[1;32m    228\u001b[0m             \u001b[0mself\u001b[0m\u001b[0;34m.\u001b[0m\u001b[0m_callback\u001b[0m\u001b[0;34m(\u001b[0m\u001b[0mobjective_weights\u001b[0m\u001b[0;34m,\u001b[0m \u001b[0mobjective_value\u001b[0m\u001b[0;34m)\u001b[0m\u001b[0;34m\u001b[0m\u001b[0;34m\u001b[0m\u001b[0m\n\u001b[1;32m    229\u001b[0m             \u001b[0;32mreturn\u001b[0m \u001b[0mobjective_value\u001b[0m\u001b[0;34m\u001b[0m\u001b[0;34m\u001b[0m\u001b[0m\n",
      "\u001b[0;32m~/opt/anaconda3/envs/qiskit/lib/python3.8/site-packages/qiskit_machine_learning/algorithms/objective_functions.py\u001b[0m in \u001b[0;36mobjective\u001b[0;34m(self, weights)\u001b[0m\n\u001b[1;32m    111\u001b[0m     \u001b[0;32mdef\u001b[0m \u001b[0mobjective\u001b[0m\u001b[0;34m(\u001b[0m\u001b[0mself\u001b[0m\u001b[0;34m,\u001b[0m \u001b[0mweights\u001b[0m\u001b[0;34m:\u001b[0m \u001b[0mnp\u001b[0m\u001b[0;34m.\u001b[0m\u001b[0mndarray\u001b[0m\u001b[0;34m)\u001b[0m \u001b[0;34m->\u001b[0m \u001b[0mfloat\u001b[0m\u001b[0;34m:\u001b[0m\u001b[0;34m\u001b[0m\u001b[0;34m\u001b[0m\u001b[0m\n\u001b[1;32m    112\u001b[0m         \u001b[0;31m# predict is of shape (N, 1), where N is a number of samples\u001b[0m\u001b[0;34m\u001b[0m\u001b[0;34m\u001b[0m\u001b[0;34m\u001b[0m\u001b[0m\n\u001b[0;32m--> 113\u001b[0;31m         \u001b[0mpredict\u001b[0m \u001b[0;34m=\u001b[0m \u001b[0mself\u001b[0m\u001b[0;34m.\u001b[0m\u001b[0m_neural_network_forward\u001b[0m\u001b[0;34m(\u001b[0m\u001b[0mweights\u001b[0m\u001b[0;34m)\u001b[0m\u001b[0;34m\u001b[0m\u001b[0;34m\u001b[0m\u001b[0m\n\u001b[0m\u001b[1;32m    114\u001b[0m         \u001b[0mtarget\u001b[0m \u001b[0;34m=\u001b[0m \u001b[0mnp\u001b[0m\u001b[0;34m.\u001b[0m\u001b[0marray\u001b[0m\u001b[0;34m(\u001b[0m\u001b[0mself\u001b[0m\u001b[0;34m.\u001b[0m\u001b[0m_y\u001b[0m\u001b[0;34m)\u001b[0m\u001b[0;34m.\u001b[0m\u001b[0mreshape\u001b[0m\u001b[0;34m(\u001b[0m\u001b[0mpredict\u001b[0m\u001b[0;34m.\u001b[0m\u001b[0mshape\u001b[0m\u001b[0;34m)\u001b[0m\u001b[0;34m\u001b[0m\u001b[0;34m\u001b[0m\u001b[0m\n\u001b[1;32m    115\u001b[0m         \u001b[0;31m# float(...) is for mypy compliance\u001b[0m\u001b[0;34m\u001b[0m\u001b[0;34m\u001b[0m\u001b[0;34m\u001b[0m\u001b[0m\n",
      "\u001b[0;32m~/opt/anaconda3/envs/qiskit/lib/python3.8/site-packages/qiskit_machine_learning/algorithms/objective_functions.py\u001b[0m in \u001b[0;36m_neural_network_forward\u001b[0;34m(self, weights)\u001b[0m\n\u001b[1;32m     98\u001b[0m         ):\n\u001b[1;32m     99\u001b[0m             \u001b[0;31m# compute forward and cache the results for re-use in backward\u001b[0m\u001b[0;34m\u001b[0m\u001b[0;34m\u001b[0m\u001b[0;34m\u001b[0m\u001b[0m\n\u001b[0;32m--> 100\u001b[0;31m             \u001b[0mself\u001b[0m\u001b[0;34m.\u001b[0m\u001b[0m_last_forward\u001b[0m \u001b[0;34m=\u001b[0m \u001b[0mself\u001b[0m\u001b[0;34m.\u001b[0m\u001b[0m_neural_network\u001b[0m\u001b[0;34m.\u001b[0m\u001b[0mforward\u001b[0m\u001b[0;34m(\u001b[0m\u001b[0mself\u001b[0m\u001b[0;34m.\u001b[0m\u001b[0m_X\u001b[0m\u001b[0;34m,\u001b[0m \u001b[0mweights\u001b[0m\u001b[0;34m)\u001b[0m\u001b[0;34m\u001b[0m\u001b[0;34m\u001b[0m\u001b[0m\n\u001b[0m\u001b[1;32m    101\u001b[0m             \u001b[0;31m# a copy avoids keeping a reference to the same array, so we are sure we have\u001b[0m\u001b[0;34m\u001b[0m\u001b[0;34m\u001b[0m\u001b[0;34m\u001b[0m\u001b[0m\n\u001b[1;32m    102\u001b[0m             \u001b[0;31m# different arrays on the next iteration.\u001b[0m\u001b[0;34m\u001b[0m\u001b[0;34m\u001b[0m\u001b[0;34m\u001b[0m\u001b[0m\n",
      "\u001b[0;32m~/opt/anaconda3/envs/qiskit/lib/python3.8/site-packages/qiskit_machine_learning/neural_networks/neural_network.py\u001b[0m in \u001b[0;36mforward\u001b[0;34m(self, input_data, weights)\u001b[0m\n\u001b[1;32m    196\u001b[0m             \u001b[0mThe\u001b[0m \u001b[0mresult\u001b[0m \u001b[0mof\u001b[0m \u001b[0mthe\u001b[0m \u001b[0mneural\u001b[0m \u001b[0mnetwork\u001b[0m \u001b[0mof\u001b[0m \u001b[0mthe\u001b[0m \u001b[0mshape\u001b[0m \u001b[0;34m(\u001b[0m\u001b[0moutput_shape\u001b[0m\u001b[0;34m)\u001b[0m\u001b[0;34m.\u001b[0m\u001b[0;34m\u001b[0m\u001b[0;34m\u001b[0m\u001b[0m\n\u001b[1;32m    197\u001b[0m         \"\"\"\n\u001b[0;32m--> 198\u001b[0;31m         \u001b[0minput_\u001b[0m\u001b[0;34m,\u001b[0m \u001b[0mshape\u001b[0m \u001b[0;34m=\u001b[0m \u001b[0mself\u001b[0m\u001b[0;34m.\u001b[0m\u001b[0m_validate_input\u001b[0m\u001b[0;34m(\u001b[0m\u001b[0minput_data\u001b[0m\u001b[0;34m)\u001b[0m\u001b[0;34m\u001b[0m\u001b[0;34m\u001b[0m\u001b[0m\n\u001b[0m\u001b[1;32m    199\u001b[0m         \u001b[0mweights_\u001b[0m \u001b[0;34m=\u001b[0m \u001b[0mself\u001b[0m\u001b[0;34m.\u001b[0m\u001b[0m_validate_weights\u001b[0m\u001b[0;34m(\u001b[0m\u001b[0mweights\u001b[0m\u001b[0;34m)\u001b[0m\u001b[0;34m\u001b[0m\u001b[0;34m\u001b[0m\u001b[0m\n\u001b[1;32m    200\u001b[0m         \u001b[0moutput_data\u001b[0m \u001b[0;34m=\u001b[0m \u001b[0mself\u001b[0m\u001b[0;34m.\u001b[0m\u001b[0m_forward\u001b[0m\u001b[0;34m(\u001b[0m\u001b[0minput_\u001b[0m\u001b[0;34m,\u001b[0m \u001b[0mweights_\u001b[0m\u001b[0;34m)\u001b[0m\u001b[0;34m\u001b[0m\u001b[0;34m\u001b[0m\u001b[0m\n",
      "\u001b[0;32m~/opt/anaconda3/envs/qiskit/lib/python3.8/site-packages/qiskit_machine_learning/neural_networks/neural_network.py\u001b[0m in \u001b[0;36m_validate_input\u001b[0;34m(self, input_data)\u001b[0m\n\u001b[1;32m    129\u001b[0m \u001b[0;34m\u001b[0m\u001b[0m\n\u001b[1;32m    130\u001b[0m         \u001b[0;32mif\u001b[0m \u001b[0mshape\u001b[0m\u001b[0;34m[\u001b[0m\u001b[0;34m-\u001b[0m\u001b[0;36m1\u001b[0m\u001b[0;34m]\u001b[0m \u001b[0;34m!=\u001b[0m \u001b[0mself\u001b[0m\u001b[0;34m.\u001b[0m\u001b[0m_num_inputs\u001b[0m\u001b[0;34m:\u001b[0m\u001b[0;34m\u001b[0m\u001b[0;34m\u001b[0m\u001b[0m\n\u001b[0;32m--> 131\u001b[0;31m             raise QiskitMachineLearningError(\n\u001b[0m\u001b[1;32m    132\u001b[0m                 \u001b[0;34mf\"Input data has incorrect shape, last dimension \"\u001b[0m\u001b[0;34m\u001b[0m\u001b[0;34m\u001b[0m\u001b[0m\n\u001b[1;32m    133\u001b[0m                 \u001b[0;34mf\"is not equal to the number of inputs: \"\u001b[0m\u001b[0;34m\u001b[0m\u001b[0;34m\u001b[0m\u001b[0m\n",
      "\u001b[0;31mQiskitMachineLearningError\u001b[0m: 'Input data has incorrect shape, last dimension is not equal to the number of inputs: 2, but got: 4.'"
     ]
    },
    {
     "data": {
      "image/png": "[encoded data removed]",
      "text/plain": [
       "<Figure size 576x288 with 1 Axes>"
      ]
     },
     "metadata": {
      "needs_background": "light"
     },
     "output_type": "display_data"
    }
   ],
   "source": [
    "qnn4 = TwoLayerQNN(X.shape[1],  quantum_instance=backendSim)\n",
    "\n",
    "qnnClassifier4 = NeuralNetworkClassifier(qnn4, optimizer=L_BFGS_B(), callback=callback_graph)\n",
    "# empty object for the callback function\n",
    "objective_func_vals = []\n",
    "\n",
    "# Figure\n",
    "fig, ax = plt.subplots(figsize=(8, 4))\n",
    "\n",
    "# fit \n",
    "qnnClassifier4.fit(Xx_train, yx_train)\n",
    "qnnClassifier4.score(Xx_train, yx_train)\n"
   ]
  },
  {
   "cell_type": "markdown",
   "id": "bd3c33de",
   "metadata": {},
   "source": [
    "## Another way to construct QNN\n",
    "\n",
    "We can create a QNN from a parametrised quantum circuit (circuit with operations on qubits, parametrised). The circuit is used to generate samples and the QNN is assessed. \n",
    "\n",
    "This framework requires from user to generate the circuit. \n",
    "\n",
    "The difference is in the last component -- observable. We do not specify it here, but we specify in the qnn wrapper how we interpret outcome.\n"
   ]
  },
  {
   "cell_type": "code",
   "execution_count": 42,
   "id": "f5d35798",
   "metadata": {},
   "outputs": [
    {
     "data": {
      "image/png": "[encoded data removed]",
      "text/plain": [
       "<Figure size 688.597x264.88 with 1 Axes>"
      ]
     },
     "execution_count": 42,
     "metadata": {},
     "output_type": "execute_result"
    }
   ],
   "source": [
    "# Define Feature map, Pauli-Z evolution circuit \n",
    "from qiskit.circuit.library import ZZFeatureMap\n",
    "\n",
    "featureMap= ZZFeatureMap(Xx_train.shape[1])\n",
    "\n",
    "# Circuit -- we ise Real Amplitudes again\n",
    "ansatz = RealAmplitudes(Xx_train.shape[1], reps=2)\n",
    "\n",
    "# Import basic object from the Qiskit\n",
    "from qiskit import QuantumCircuit\n",
    "\n",
    "qc = QuantumCircuit(Xx_train.shape[1])\n",
    "qc.append(featureMap, range(Xx_train.shape[1]))\n",
    "qc.append(ansatz, range(Xx_train.shape[1]))\n",
    "qc.decompose().draw(output=\"mpl\")"
   ]
  },
  {
   "cell_type": "code",
   "execution_count": 43,
   "id": "848b66a1",
   "metadata": {},
   "outputs": [],
   "source": [
    "# We need to interpret the outcome (array of 0's and 1's for classification -> we define a probability to measure \"1\")\n",
    "\n",
    "def parity(x):\n",
    "    return \"{:b}\".format(x).count(\"1\") % 2"
   ]
  },
  {
   "cell_type": "code",
   "execution_count": 44,
   "id": "dd8ee1e3",
   "metadata": {},
   "outputs": [],
   "source": [
    "from qiskit_machine_learning.neural_networks import CircuitQNN\n",
    "\n",
    "# We define the qnn based on the circuit\n",
    "qnnCircuit = CircuitQNN(\n",
    "    circuit=qc,\n",
    "    input_params=featureMap.parameters,\n",
    "    weight_params=ansatz.parameters,\n",
    "    interpret=parity,\n",
    "    output_shape=2,\n",
    "    quantum_instance=simulator,\n",
    ")"
   ]
  },
  {
   "cell_type": "code",
   "execution_count": 45,
   "id": "57caed14",
   "metadata": {},
   "outputs": [],
   "source": [
    "# We need to wrap the circuit into a classifier, using the same callback function\n",
    "\n",
    "qnnCircuitClassifier = NeuralNetworkClassifier(\n",
    "    neural_network=qnnCircuit, optimizer=COBYLA(), callback=callback_graph\n",
    ")"
   ]
  },
  {
   "cell_type": "code",
   "execution_count": 46,
   "id": "063c1a20",
   "metadata": {},
   "outputs": [
    {
     "data": {
      "image/png": "[encoded data removed]",
      "text/plain": [
       "<Figure size 432x288 with 1 Axes>"
      ]
     },
     "metadata": {
      "needs_background": "light"
     },
     "output_type": "display_data"
    },
    {
     "data": {
      "text/plain": [
       "0.7"
      ]
     },
     "execution_count": 46,
     "metadata": {},
     "output_type": "execute_result"
    }
   ],
   "source": [
    "# empty object for the callback function\n",
    "objective_func_vals = []\n",
    "\n",
    "# Figure\n",
    "fig, ax = plt.subplots(figsize=(8, 4))\n",
    "\n",
    "# fit \n",
    "qnnCircuitClassifier.fit(Xx_train, yx_train)\n",
    "qnnCircuitClassifier.score(Xx_train, yx_train)"
   ]
  },
  {
   "cell_type": "code",
   "execution_count": 47,
   "id": "6de79438",
   "metadata": {},
   "outputs": [
    {
     "data": {
      "text/plain": [
       "0.5"
      ]
     },
     "execution_count": 47,
     "metadata": {},
     "output_type": "execute_result"
    }
   ],
   "source": [
    "# Out of sample evaluation\n",
    "qnnCircuitClassifier.score(Xx_test, yx_test)"
   ]
  },
  {
   "cell_type": "markdown",
   "id": "23a89d06",
   "metadata": {},
   "source": [
    "***\n",
    "What if we have classification with d-classes?\n",
    "***"
   ]
  },
  {
   "cell_type": "code",
   "execution_count": 48,
   "id": "d7257276",
   "metadata": {},
   "outputs": [],
   "source": [
    "X3, y3 = make_classification(n_samples=40, n_features=4,n_clusters_per_class=1, n_classes=3,random_state=0)\n",
    "X3_train, X3_test, y3_train, y3_test = train_test_split(X3, y3, stratify=y3, random_state=0)\n",
    "\n"
   ]
  },
  {
   "cell_type": "code",
   "execution_count": 49,
   "id": "79bb552c",
   "metadata": {},
   "outputs": [
    {
     "data": {
      "text/plain": [
       "array([[-0.07655627,  0.95270767,  0.57414971,  0.82073083],\n",
       "       [ 0.31929269, -0.01251403,  0.76139696, -0.94464591],\n",
       "       [-0.15169212,  1.12470757,  0.5296779 ,  1.1488029 ],\n",
       "       [ 0.33832854, -0.23363032,  0.63120374, -1.13885088],\n",
       "       [ 0.05230424,  1.55432435,  1.36481591,  0.81908303]])"
      ]
     },
     "execution_count": 49,
     "metadata": {},
     "output_type": "execute_result"
    }
   ],
   "source": [
    "X3_train[:5,:]"
   ]
  },
  {
   "cell_type": "code",
   "execution_count": 50,
   "id": "fd320a4e",
   "metadata": {},
   "outputs": [
    {
     "data": {
      "text/plain": [
       "array([1, 2, 1, 2, 1, 1, 0, 2, 1, 2])"
      ]
     },
     "execution_count": 50,
     "metadata": {},
     "output_type": "execute_result"
    }
   ],
   "source": [
    "y3_train[:10]"
   ]
  },
  {
   "cell_type": "code",
   "execution_count": 51,
   "id": "e12fa21b",
   "metadata": {},
   "outputs": [
    {
     "data": {
      "image/png": "[encoded data removed]",
      "text/plain": [
       "<Figure size 432x288 with 1 Axes>"
      ]
     },
     "metadata": {
      "needs_background": "light"
     },
     "output_type": "display_data"
    },
    {
     "data": {
      "text/plain": [
       "0.43333333333333335"
      ]
     },
     "execution_count": 51,
     "metadata": {},
     "output_type": "execute_result"
    }
   ],
   "source": [
    "featureMap3= ZZFeatureMap(X3_train.shape[1])\n",
    "\n",
    "# Circuit -- we ise Real Amplitudes again\n",
    "ansatz3 = RealAmplitudes(X3_train.shape[1], reps=2)\n",
    "\n",
    "qc3 = QuantumCircuit(X3_train.shape[1])\n",
    "qc3.append(featureMap3, range(X3_train.shape[1]))\n",
    "qc3.append(ansatz3, range(X3_train.shape[1]))\n",
    "qc3.decompose().draw(output=\"mpl\")\n",
    "\n",
    "qnnCircuit3 = CircuitQNN(\n",
    "    circuit=qc3,\n",
    "    input_params=featureMap3.parameters,\n",
    "    weight_params=ansatz3.parameters,\n",
    "    interpret=parity,\n",
    "    output_shape=3,\n",
    "    quantum_instance=simulator,\n",
    ")\n",
    "\n",
    "qnnCircuitClassifier3 = NeuralNetworkClassifier(\n",
    "    neural_network=qnnCircuit3, optimizer=COBYLA(), callback=callback_graph\n",
    ")\n",
    "\n",
    "# empty object for the callback function\n",
    "objective_func_vals = []\n",
    "\n",
    "# Figure\n",
    "fig, ax = plt.subplots(figsize=(8, 4))\n",
    "\n",
    "# fit \n",
    "qnnCircuitClassifier3.fit(X3_train, y3_train)\n",
    "qnnCircuitClassifier3.score(X3_train, y3_train)"
   ]
  },
  {
   "cell_type": "code",
   "execution_count": 52,
   "id": "68829207",
   "metadata": {},
   "outputs": [
    {
     "data": {
      "text/plain": [
       "array([0, 1, 1, 1, 1, 1, 0, 1, 0, 1, 0, 1, 1, 1, 1, 0, 1, 1, 1, 1, 1, 1,\n",
       "       0, 0, 1, 1, 1, 0, 0, 0])"
      ]
     },
     "execution_count": 52,
     "metadata": {},
     "output_type": "execute_result"
    }
   ],
   "source": [
    "# Predict\n",
    "qnnCircuitClassifier3.predict(X3_train)"
   ]
  },
  {
   "cell_type": "markdown",
   "id": "f905e4c4",
   "metadata": {},
   "source": [
    "***\n",
    "The shape is not enough, we need to extend parity to multiple classes. What is the form?\n",
    "\n",
    "Alternatively, we can use another function, Variational Quantum Classifier. This allows us to specify loss function (in the case of multi-class classification, it is cross-entropy).\n",
    "\n",
    "***"
   ]
  },
  {
   "cell_type": "code",
   "execution_count": 53,
   "id": "b91c1ab8",
   "metadata": {},
   "outputs": [],
   "source": [
    "# We need one-hot encoded classes\n",
    "y3_train_hot = np.zeros((y3_train.shape[0], 3))\n",
    "for i in range(y3_train.shape[0]):\n",
    "    y3_train_hot[i, y3_train[i]] = 1\n",
    "    \n",
    "# We need one-hot encoded classes\n",
    "y3_test_hot = np.zeros((y3_test.shape[0], 3))\n",
    "for i in range(y3_test.shape[0]):\n",
    "    y3_test_hot[i, y3_test[i]] = 1"
   ]
  },
  {
   "cell_type": "code",
   "execution_count": 54,
   "id": "11848758",
   "metadata": {},
   "outputs": [
    {
     "data": {
      "text/plain": [
       "array([[0., 1., 0.],\n",
       "       [0., 0., 1.],\n",
       "       [0., 1., 0.],\n",
       "       [0., 0., 1.],\n",
       "       [0., 1., 0.]])"
      ]
     },
     "execution_count": 54,
     "metadata": {},
     "output_type": "execute_result"
    }
   ],
   "source": [
    "y3_train_hot[:5,:]"
   ]
  },
  {
   "cell_type": "code",
   "execution_count": 55,
   "id": "e369e730",
   "metadata": {},
   "outputs": [],
   "source": [
    "featureMap4 = ZZFeatureMap(X3_train.shape[1])\n",
    "ansatz4 = RealAmplitudes(X3_train.shape[1], reps=2)\n",
    "\n",
    "\n",
    "from qiskit_machine_learning.algorithms.classifiers import  VQC\n",
    "# construct variational quantum classifier\n",
    "vqc = VQC(\n",
    "    feature_map=featureMap4,\n",
    "    ansatz=ansatz4,\n",
    "    loss=\"cross_entropy\",\n",
    "    optimizer=COBYLA(),\n",
    "    quantum_instance=simulator,\n",
    "    callback=callback_graph,\n",
    ")"
   ]
  },
  {
   "cell_type": "code",
   "execution_count": 56,
   "id": "92e25a13",
   "metadata": {},
   "outputs": [
    {
     "data": {
      "image/png": "[encoded data removed]",
      "text/plain": [
       "<Figure size 432x288 with 1 Axes>"
      ]
     },
     "metadata": {
      "needs_background": "light"
     },
     "output_type": "display_data"
    },
    {
     "data": {
      "text/plain": [
       "0.4666666666666667"
      ]
     },
     "execution_count": 56,
     "metadata": {},
     "output_type": "execute_result"
    }
   ],
   "source": [
    "# empty array\n",
    "objective_func_vals = []\n",
    "\n",
    "# fit \n",
    "vqc.fit(X3_train, y3_train_hot)\n",
    "\n",
    "# score classifier\n",
    "vqc.score(X3_train, y3_train_hot)"
   ]
  },
  {
   "cell_type": "code",
   "execution_count": 57,
   "id": "9c68583e",
   "metadata": {},
   "outputs": [
    {
     "data": {
      "text/plain": [
       "array([[0., 1., 0.],\n",
       "       [0., 0., 1.],\n",
       "       [0., 1., 0.],\n",
       "       [0., 0., 1.],\n",
       "       [0., 1., 0.],\n",
       "       [0., 0., 1.],\n",
       "       [0., 0., 1.],\n",
       "       [1., 0., 0.],\n",
       "       [0., 1., 0.],\n",
       "       [1., 0., 0.]])"
      ]
     },
     "execution_count": 57,
     "metadata": {},
     "output_type": "execute_result"
    }
   ],
   "source": [
    "# prediction has the correct shape\n",
    "vqc.predict(X3_test)"
   ]
  },
  {
   "cell_type": "markdown",
   "id": "17557368",
   "metadata": {},
   "source": [
    "***\n",
    "# Regressions\n",
    "\n",
    "Let us progress with regression problem. \n",
    "\n",
    "We use regression analogue to Variational Quantum Classifier -- Variational Quantum Regressor. \n",
    "\n",
    "We will use the data we have employed for kernel ridge.\n",
    "\n",
    "***"
   ]
  },
  {
   "cell_type": "code",
   "execution_count": 58,
   "id": "9244d11d",
   "metadata": {},
   "outputs": [],
   "source": [
    "rng = np.random.RandomState(0)\n",
    "\n",
    "# Generate sample data, smaller\n",
    "X = 5 * rng.rand(50, 1)\n",
    "y = np.sin(X).ravel()\n",
    "noise = np.random.normal(0,0.1,50)\n",
    "\n",
    "y=y+noise\n",
    "# Add noise to targets\n",
    "#y[::5] += 1 * (0.5 - rng.rand(X.shape[0] // 5))\n",
    "\n",
    "X_plot = np.linspace(0, 5, 50)[:, None]\n",
    "\n",
    "X_train, X_test, y_train, y_test = train_test_split(X, y, test_size=0.3, random_state=42)"
   ]
  },
  {
   "cell_type": "code",
   "execution_count": 59,
   "id": "50584a82",
   "metadata": {},
   "outputs": [
    {
     "data": {
      "image/png": "[encoded data removed]",
      "text/plain": [
       "<Figure size 432x288 with 1 Axes>"
      ]
     },
     "metadata": {
      "needs_background": "light"
     },
     "output_type": "display_data"
    }
   ],
   "source": [
    "# Plot the data\n",
    "plt.scatter(X, y, label = \"Kernel Ridge data -- smaller draw\")\n",
    "\n",
    "# Display a figure.\n",
    "plt.show()"
   ]
  },
  {
   "cell_type": "code",
   "execution_count": 60,
   "id": "70ef8ea2",
   "metadata": {},
   "outputs": [],
   "source": [
    "from qiskit_machine_learning.algorithms.regressors import  VQR"
   ]
  },
  {
   "cell_type": "code",
   "execution_count": 61,
   "id": "82165d42",
   "metadata": {},
   "outputs": [
    {
     "ename": "ValueError",
     "evalue": "The ZZFeatureMap contains 2-local interactions and cannot be defined for less than 2 qubits. You provided 1.",
     "output_type": "error",
     "traceback": [
      "\u001b[0;31m---------------------------------------------------------------------------\u001b[0m",
      "\u001b[0;31mValueError\u001b[0m                                Traceback (most recent call last)",
      "\u001b[0;32m/var/folders/jt/q5vq7x852qs55m26mblz_vy00000gn/T/ipykernel_17212/2819550589.py\u001b[0m in \u001b[0;36m<module>\u001b[0;34m\u001b[0m\n\u001b[0;32m----> 1\u001b[0;31m \u001b[0mfeatureMap5\u001b[0m \u001b[0;34m=\u001b[0m \u001b[0mZZFeatureMap\u001b[0m\u001b[0;34m(\u001b[0m\u001b[0mX_train\u001b[0m\u001b[0;34m.\u001b[0m\u001b[0mshape\u001b[0m\u001b[0;34m[\u001b[0m\u001b[0;36m1\u001b[0m\u001b[0;34m]\u001b[0m\u001b[0;34m)\u001b[0m\u001b[0;34m\u001b[0m\u001b[0;34m\u001b[0m\u001b[0m\n\u001b[0m\u001b[1;32m      2\u001b[0m \u001b[0mansatz5\u001b[0m \u001b[0;34m=\u001b[0m \u001b[0mRealAmplitudes\u001b[0m\u001b[0;34m(\u001b[0m\u001b[0mX_train\u001b[0m\u001b[0;34m.\u001b[0m\u001b[0mshape\u001b[0m\u001b[0;34m[\u001b[0m\u001b[0;36m1\u001b[0m\u001b[0;34m]\u001b[0m\u001b[0;34m,\u001b[0m \u001b[0mreps\u001b[0m\u001b[0;34m=\u001b[0m\u001b[0;36m2\u001b[0m\u001b[0;34m)\u001b[0m\u001b[0;34m\u001b[0m\u001b[0;34m\u001b[0m\u001b[0m\n\u001b[1;32m      3\u001b[0m \u001b[0;34m\u001b[0m\u001b[0m\n\u001b[1;32m      4\u001b[0m vqr = VQR(\n\u001b[1;32m      5\u001b[0m     \u001b[0mfeature_map\u001b[0m\u001b[0;34m=\u001b[0m\u001b[0mfeatureMap5\u001b[0m\u001b[0;34m,\u001b[0m\u001b[0;34m\u001b[0m\u001b[0;34m\u001b[0m\u001b[0m\n",
      "\u001b[0;32m~/opt/anaconda3/envs/qiskit/lib/python3.8/site-packages/qiskit/circuit/library/data_preparation/zz_feature_map.py\u001b[0m in \u001b[0;36m__init__\u001b[0;34m(self, feature_dimension, reps, entanglement, data_map_func, insert_barriers, name)\u001b[0m\n\u001b[1;32m     82\u001b[0m         \"\"\"\n\u001b[1;32m     83\u001b[0m         \u001b[0;32mif\u001b[0m \u001b[0mfeature_dimension\u001b[0m \u001b[0;34m<\u001b[0m \u001b[0;36m2\u001b[0m\u001b[0;34m:\u001b[0m\u001b[0;34m\u001b[0m\u001b[0;34m\u001b[0m\u001b[0m\n\u001b[0;32m---> 84\u001b[0;31m             raise ValueError(\n\u001b[0m\u001b[1;32m     85\u001b[0m                 \u001b[0;34m\"The ZZFeatureMap contains 2-local interactions and cannot be \"\u001b[0m\u001b[0;34m\u001b[0m\u001b[0;34m\u001b[0m\u001b[0m\n\u001b[1;32m     86\u001b[0m                 \u001b[0;34mf\"defined for less than 2 qubits. You provided {feature_dimension}.\"\u001b[0m\u001b[0;34m\u001b[0m\u001b[0;34m\u001b[0m\u001b[0m\n",
      "\u001b[0;31mValueError\u001b[0m: The ZZFeatureMap contains 2-local interactions and cannot be defined for less than 2 qubits. You provided 1."
     ]
    }
   ],
   "source": [
    "featureMap5 = ZZFeatureMap(X_train.shape[1])\n",
    "ansatz5 = RealAmplitudes(X_train.shape[1], reps=2)\n",
    "\n",
    "vqr = VQR(\n",
    "    feature_map=featureMap5,\n",
    "    ansatz=ansatz5,\n",
    "    optimizer=L_BFGS_B(),\n",
    "    quantum_instance=simulator,\n",
    "    callback=callback_graph,\n",
    ")"
   ]
  },
  {
   "cell_type": "code",
   "execution_count": 62,
   "id": "71c585d6",
   "metadata": {},
   "outputs": [],
   "source": [
    "from qiskit.circuit import Parameter\n",
    "\n",
    "# We need to define single-qubit feature map\n",
    "paramX = Parameter(\"x\")\n",
    "featureMapSingle = QuantumCircuit(1, name=\"featureMap\")\n",
    "featureMapSingle.ry(paramX, 0)\n",
    "\n",
    "# ...and ansatz\n",
    "paramY = Parameter(\"y\")\n",
    "ansatzSingle = QuantumCircuit(1, name=\"ansatz\")\n",
    "ansatzSingle.ry(paramY, 0)\n",
    "\n",
    "vqr = VQR(\n",
    "    feature_map=featureMapSingle,\n",
    "    ansatz=ansatzSingle,\n",
    "    optimizer=L_BFGS_B(),\n",
    "    quantum_instance=simulator,\n",
    "    callback=callback_graph,\n",
    ")"
   ]
  },
  {
   "cell_type": "code",
   "execution_count": 63,
   "id": "9e2067c9",
   "metadata": {},
   "outputs": [
    {
     "data": {
      "image/png": "[encoded data removed]",
      "text/plain": [
       "<Figure size 432x288 with 1 Axes>"
      ]
     },
     "metadata": {
      "needs_background": "light"
     },
     "output_type": "display_data"
    },
    {
     "data": {
      "text/plain": [
       "0.973237252725365"
      ]
     },
     "execution_count": 63,
     "metadata": {},
     "output_type": "execute_result"
    }
   ],
   "source": [
    "# empty array\n",
    "objective_func_vals = []\n",
    "\n",
    "# fit \n",
    "vqr.fit(X_train, y_train)\n",
    "\n",
    "# score result\n",
    "vqr.score(X_train, y_train)"
   ]
  },
  {
   "cell_type": "code",
   "execution_count": 64,
   "id": "6f55a500",
   "metadata": {},
   "outputs": [
    {
     "data": {
      "image/png": "[encoded data removed]",
      "text/plain": [
       "<Figure size 432x288 with 1 Axes>"
      ]
     },
     "metadata": {
      "needs_background": "light"
     },
     "output_type": "display_data"
    }
   ],
   "source": [
    "# predict\n",
    "y_predict = vqr.predict(X_test)\n",
    "\n",
    "# plot \n",
    "plt.scatter(X_test.ravel(), y_predict.ravel(),label=\"Fit\")\n",
    "\n",
    "# plot \n",
    "plt.scatter(X_test.ravel(), y_test.ravel(),label=\"Data\")\n",
    "plt.legend()\n",
    "\n",
    "plt.show()"
   ]
  },
  {
   "cell_type": "code",
   "execution_count": 65,
   "id": "6c9a5c1f",
   "metadata": {},
   "outputs": [
    {
     "data": {
      "text/plain": [
       "0.9843749576580635"
      ]
     },
     "execution_count": 65,
     "metadata": {},
     "output_type": "execute_result"
    }
   ],
   "source": [
    "# score result\n",
    "vqr.score(X_test, y_test)"
   ]
  },
  {
   "cell_type": "markdown",
   "id": "76e07466",
   "metadata": {},
   "source": [
    "***\n",
    "\n",
    "We have explored another quantum-enhanced method for classification and regression.\n",
    "\n",
    "The kernel is not the only quantum enhancement, we vary a circuit itself.\n",
    "\n",
    "***"
   ]
  },
  {
   "cell_type": "code",
   "execution_count": null,
   "id": "98aca21d",
   "metadata": {},
   "outputs": [],
   "source": []
  },
  {
   "cell_type": "code",
   "execution_count": null,
   "id": "4653db84",
   "metadata": {},
   "outputs": [],
   "source": []
  },
  {
   "cell_type": "code",
   "execution_count": null,
   "id": "7301150e",
   "metadata": {},
   "outputs": [],
   "source": []
  },
  {
   "cell_type": "code",
   "execution_count": null,
   "id": "82021644",
   "metadata": {},
   "outputs": [],
   "source": []
  }
 ],
 "metadata": {
  "kernelspec": {
   "display_name": "Python 3 (ipykernel)",
   "language": "python",
   "name": "python3"
  },
  "language_info": {
   "codemirror_mode": {
    "name": "ipython",
    "version": 3
   },
   "file_extension": ".py",
   "mimetype": "text/x-python",
   "name": "python",
   "nbconvert_exporter": "python",
   "pygments_lexer": "ipython3",
   "version": "3.8.12"
  }
 },
 "nbformat": 4,
 "nbformat_minor": 5
}
