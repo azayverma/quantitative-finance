{
 "cells": [
  {
   "cell_type": "markdown",
   "id": "9033bbc2",
   "metadata": {},
   "source": [
    "# Solving Linear Systems of Equations using HHL\n",
    "\n",
    "In this block we:\n",
    "\n",
    "    * ... illustrate the concepts of the HHL in practice\n",
    "    * ... decompose some elements on which the HHL is based upon\n",
    "\n",
    "***"
   ]
  },
  {
   "cell_type": "markdown",
   "id": "1a51ed46",
   "metadata": {},
   "source": [
    "... usual declarations"
   ]
  },
  {
   "cell_type": "code",
   "execution_count": 1,
   "id": "7b393ea0",
   "metadata": {},
   "outputs": [],
   "source": [
    "# Import numpy & usual libraries, check the qiskit version etc.\n",
    "import numpy as np\n",
    "\n",
    "# Import basic object from the Qiskit\n",
    "from qiskit import QuantumCircuit\n",
    "from qiskit import Aer,BasicAer\n",
    "from qiskit import execute\n",
    "\n",
    "# We will need these two\n",
    "from qiskit.utils import QuantumInstance\n",
    "from qiskit_machine_learning.kernels import QuantumKernel\n",
    "\n",
    "# Load account from the disk\n",
    "from qiskit import IBMQ\n",
    "IBMQ.load_account() \n",
    "\n",
    "# We will need this for plots\n",
    "from qiskit.visualization import plot_histogram,plot_bloch_multivector"
   ]
  },
  {
   "cell_type": "code",
   "execution_count": 2,
   "id": "4284f46b",
   "metadata": {},
   "outputs": [
    {
     "data": {
      "text/html": [
       "<h3>Version Information</h3><table><tr><th>Qiskit Software</th><th>Version</th></tr><tr><td><code>qiskit-terra</code></td><td>0.19.2</td></tr><tr><td><code>qiskit-aer</code></td><td>0.10.3</td></tr><tr><td><code>qiskit-ignis</code></td><td>0.7.0</td></tr><tr><td><code>qiskit-ibmq-provider</code></td><td>0.18.3</td></tr><tr><td><code>qiskit</code></td><td>0.34.2</td></tr><tr><td><code>qiskit-machine-learning</code></td><td>0.3.1</td></tr><tr><th>System information</th></tr><tr><td>Python version</td><td>3.8.12</td></tr><tr><td>Python compiler</td><td>Clang 10.0.0 </td></tr><tr><td>Python build</td><td>default, Oct 12 2021 06:23:56</td></tr><tr><td>OS</td><td>Darwin</td></tr><tr><td>CPUs</td><td>4</td></tr><tr><td>Memory (Gb)</td><td>8.0</td></tr><tr><td colspan='2'>Mon Mar 28 23:53:27 2022 BST</td></tr></table>"
      ],
      "text/plain": [
       "<IPython.core.display.HTML object>"
      ]
     },
     "metadata": {},
     "output_type": "display_data"
    },
    {
     "data": {
      "text/html": [
       "<div style='width: 100%; background-color:#d5d9e0;padding-left: 10px; padding-bottom: 10px; padding-right: 10px; padding-top: 5px'><h3>This code is a part of Qiskit</h3><p>&copy; Copyright IBM 2017, 2022.</p><p>This code is licensed under the Apache License, Version 2.0. You may<br>obtain a copy of this license in the LICENSE.txt file in the root directory<br> of this source tree or at http://www.apache.org/licenses/LICENSE-2.0.<p>Any modifications or derivative works of this code must retain this<br>copyright notice, and modified files need to carry a notice indicating<br>that they have been altered from the originals.</p></div>"
      ],
      "text/plain": [
       "<IPython.core.display.HTML object>"
      ]
     },
     "metadata": {},
     "output_type": "display_data"
    }
   ],
   "source": [
    "# Check the version of the qiskit you use\n",
    "\n",
    "# Compared to previous class, I have installed the up-to-date version\n",
    "import qiskit.tools.jupyter\n",
    "%qiskit_version_table\n",
    "%qiskit_copyright"
   ]
  },
  {
   "cell_type": "code",
   "execution_count": 3,
   "id": "8abc59fe",
   "metadata": {},
   "outputs": [
    {
     "name": "stderr",
     "output_type": "stream",
     "text": [
      "ibmqfactory.load_account:WARNING:2022-03-28 23:53:28,671: Credentials are already in use. The existing account in the session will be replaced.\n"
     ]
    }
   ],
   "source": [
    "# Ideal simulator\n",
    "simulator = Aer.get_backend('qasm_simulator')\n",
    "\n",
    "# Real-like simulator\n",
    "from qiskit.providers.aer.noise import NoiseModel\n",
    "\n",
    "# Choose a particuler quantum computer \n",
    "provider = IBMQ.load_account()\n",
    "backend = provider.get_backend('ibmq_belem')\n",
    "\n",
    "# We derive the noise model from the chosen quantum computer\n",
    "noise_model = NoiseModel.from_backend(backend)\n",
    "\n",
    "# Further, we assume the specific qauntum computer:\n",
    "# Get coupling map from backend\n",
    "coupling_map = backend.configuration().coupling_map\n",
    "\n",
    "# Get basis gates from noise model\n",
    "basis_gates = noise_model.basis_gates\n",
    "\n",
    "# define backend (simulator)\n",
    "backendSim = QuantumInstance(\n",
    "    BasicAer.get_backend(\"qasm_simulator\"), shots=1024\n",
    ")\n",
    "\n",
    "# define backend (simulator with specific noise)\n",
    "backendSimWithNoise = QuantumInstance(\n",
    "    Aer.get_backend(\"qasm_simulator\"), \n",
    "    coupling_map=coupling_map,\n",
    "                 basis_gates=basis_gates,\n",
    "                 noise_model=noise_model,\n",
    "                shots=1024\n",
    ")"
   ]
  },
  {
   "cell_type": "markdown",
   "id": "3511fc13",
   "metadata": {},
   "source": [
    "***\n",
    "\n",
    "Our objective is to solve system of linear equations using the HHL. \n",
    "\n",
    "We start with classical solution and then compare it to quantum one. \n",
    "\n",
    "* Our objective is to illustrate the algorithm we have described, we do not aim to get a proof of numerical speed up.\n",
    "\n",
    "\n",
    "***"
   ]
  },
  {
   "cell_type": "code",
   "execution_count": 4,
   "id": "9227ba1a",
   "metadata": {},
   "outputs": [],
   "source": [
    "from qiskit.algorithms.linear_solvers.matrices import TridiagonalToeplitz\n",
    "\n",
    "matrix = TridiagonalToeplitz(2, 1, 1 / 3)"
   ]
  },
  {
   "cell_type": "code",
   "execution_count": 5,
   "id": "748da2e6",
   "metadata": {},
   "outputs": [
    {
     "data": {
      "text/plain": [
       "array([[1.        , 0.33333333, 0.        , 0.        ],\n",
       "       [0.33333333, 1.        , 0.33333333, 0.        ],\n",
       "       [0.        , 0.33333333, 1.        , 0.33333333],\n",
       "       [0.        , 0.        , 0.33333333, 1.        ]])"
      ]
     },
     "execution_count": 5,
     "metadata": {},
     "output_type": "execute_result"
    }
   ],
   "source": [
    "matrix.matrix"
   ]
  },
  {
   "cell_type": "markdown",
   "id": "55b23ac4",
   "metadata": {},
   "source": [
    "### Parameters of the Matrix\n",
    "\n",
    "num_state_qubits: int,\n",
    "main_diag: float,\n",
    "off_diag: float,\n",
    "tolerance: float = 1e-2,\n",
    "evolution_time: float = 1.0,\n",
    "trotter_steps: int = 1,\n",
    "name: str = \"tridi\",\n",
    "\n",
    "We have specified matrix with 2 qubits, dim 4x4, with 1 diagonal and 1/3 on the below/above diagonal axis.\n"
   ]
  },
  {
   "cell_type": "markdown",
   "id": "3956cd13",
   "metadata": {},
   "source": [
    "***\n",
    "## Classical Solution\n",
    "\n",
    "Let us first solve:\n",
    "\n",
    "$$\n",
    "A x = b\n",
    "$$\n",
    "\n",
    "using classical tools. We use the qiskit wrapper to numpy solver.\n",
    "***"
   ]
  },
  {
   "cell_type": "code",
   "execution_count": 6,
   "id": "6a1f54ce",
   "metadata": {},
   "outputs": [],
   "source": [
    "from qiskit.algorithms.linear_solvers.numpy_linear_solver import NumPyLinearSolver"
   ]
  },
  {
   "cell_type": "code",
   "execution_count": 7,
   "id": "fa2f99e3",
   "metadata": {},
   "outputs": [
    {
     "data": {
      "text/plain": [
       "array([ 0.17114659, -0.35940783,  0.54766908, -0.73593032])"
      ]
     },
     "execution_count": 7,
     "metadata": {},
     "output_type": "execute_result"
    }
   ],
   "source": [
    "# We specify RHS\n",
    "\n",
    "right_hand_side = [1.0, -2.1, 3.2, -4.3]\n",
    "\n",
    "# and normalise it\n",
    "\n",
    "rhs = right_hand_side / np.linalg.norm(right_hand_side)\n",
    "rhs"
   ]
  },
  {
   "cell_type": "code",
   "execution_count": 8,
   "id": "1487300d",
   "metadata": {},
   "outputs": [
    {
     "data": {
      "text/plain": [
       "array([ 0.48263337, -0.93446036,  1.24252422, -1.15010506])"
      ]
     },
     "execution_count": 8,
     "metadata": {},
     "output_type": "execute_result"
    }
   ],
   "source": [
    "classical_solution = NumPyLinearSolver().solve(matrix.matrix, rhs)\n",
    "\n",
    "classical_solution.state"
   ]
  },
  {
   "cell_type": "code",
   "execution_count": 9,
   "id": "a7c99221",
   "metadata": {},
   "outputs": [
    {
     "data": {
      "text/plain": [
       "array([ 0.17114659, -0.35940783,  0.54766908, -0.73593032])"
      ]
     },
     "execution_count": 9,
     "metadata": {},
     "output_type": "execute_result"
    }
   ],
   "source": [
    "# We can verify the solution\n",
    "\n",
    "np.matmul(matrix.matrix, classical_solution.state)"
   ]
  },
  {
   "cell_type": "code",
   "execution_count": 10,
   "id": "563fcbd1",
   "metadata": {},
   "outputs": [
    {
     "data": {
      "text/plain": [
       "array([ 0.48263337, -0.93446036,  1.24252422, -1.15010506])"
      ]
     },
     "execution_count": 10,
     "metadata": {},
     "output_type": "execute_result"
    }
   ],
   "source": [
    "# numpy solution without wrapper\n",
    "\n",
    "np.linalg.solve(matrix.matrix, rhs)"
   ]
  },
  {
   "cell_type": "markdown",
   "id": "950de4bb",
   "metadata": {},
   "source": [
    "***\n",
    "We can solve the simple system of linear equations using the classical resources.\n",
    "\n",
    "*** "
   ]
  },
  {
   "cell_type": "markdown",
   "id": "e35009f0",
   "metadata": {},
   "source": [
    "***\n",
    "## Quantum Solution\n",
    "\n",
    "... using HHL\n",
    "***"
   ]
  },
  {
   "cell_type": "code",
   "execution_count": 11,
   "id": "dab04bb3",
   "metadata": {},
   "outputs": [],
   "source": [
    "from qiskit.algorithms.linear_solvers.hhl import HHL\n",
    "\n",
    "from qiskit.algorithms.linear_solvers.observables import MatrixFunctional\n",
    "\n",
    "# We already have TridiagonalToeplitz\n"
   ]
  },
  {
   "cell_type": "markdown",
   "id": "f1fa0281",
   "metadata": {},
   "source": [
    "***\n",
    "We need to specify observable, as we do not observe the solution directly but as a function of the solution:\n",
    "\n",
    "F(x):=⟨x|M|x⟩.\n",
    "\n",
    "Matrix Functional -- is also tridiagonal matrix\n",
    "\n",
    " \n",
    "main_diag: The main diagonal of the tridiagonal Toeplitz symmetric matrix to compute\n",
    "                the functional.\n",
    "off_diag: The off diagonal of the tridiagonal Toeplitz symmetric matrix to compute\n",
    "                the functional.\n",
    "\n",
    "***"
   ]
  },
  {
   "cell_type": "code",
   "execution_count": 12,
   "id": "24f4def3",
   "metadata": {},
   "outputs": [],
   "source": [
    "observable = MatrixFunctional(1, 1 / 2)"
   ]
  },
  {
   "cell_type": "code",
   "execution_count": 13,
   "id": "0ba693b9",
   "metadata": {},
   "outputs": [
    {
     "data": {
      "text/plain": [
       "<qiskit.circuit.instructionset.InstructionSet at 0x7fa7f3290500>"
      ]
     },
     "execution_count": 13,
     "metadata": {},
     "output_type": "execute_result"
    }
   ],
   "source": [
    "# We specify the quantum circuit to solve HHL \n",
    "# Contrary to other lessons, we do not aim to decompose the circuit.\n",
    "\n",
    "num_qubits = matrix.num_state_qubits\n",
    "qc = QuantumCircuit(num_qubits)\n",
    "qc.isometry(rhs, list(range(num_qubits)), None)\n"
   ]
  },
  {
   "cell_type": "code",
   "execution_count": 14,
   "id": "acb85225",
   "metadata": {},
   "outputs": [
    {
     "data": {
      "image/png": "[encoded data removed]",
      "text/plain": [
       "<Figure size 206.852x144.48 with 1 Axes>"
      ]
     },
     "execution_count": 14,
     "metadata": {},
     "output_type": "execute_result"
    }
   ],
   "source": [
    "qc.draw('mpl')"
   ]
  },
  {
   "cell_type": "code",
   "execution_count": 15,
   "id": "d8464c1a",
   "metadata": {},
   "outputs": [
    {
     "data": {
      "image/png": "[encoded data removed]",
      "text/plain": [
       "<Figure size 267.052x144.48 with 1 Axes>"
      ]
     },
     "execution_count": 15,
     "metadata": {},
     "output_type": "execute_result"
    }
   ],
   "source": [
    "qc.decompose().draw('mpl')"
   ]
  },
  {
   "cell_type": "code",
   "execution_count": 16,
   "id": "f918569c",
   "metadata": {},
   "outputs": [],
   "source": [
    "# Initialise the HHL algorithm\n",
    "hhl = HHL()"
   ]
  },
  {
   "cell_type": "code",
   "execution_count": 17,
   "id": "1006b60d",
   "metadata": {},
   "outputs": [],
   "source": [
    "# We solve the algorithm\n",
    "solution = hhl.solve(matrix, qc, observable)\n"
   ]
  },
  {
   "cell_type": "code",
   "execution_count": 18,
   "id": "46492952",
   "metadata": {},
   "outputs": [
    {
     "data": {
      "text/plain": [
       "0.9115476377217351"
      ]
     },
     "execution_count": 18,
     "metadata": {},
     "output_type": "execute_result"
    }
   ],
   "source": [
    "# Observable\n",
    "solution.observable"
   ]
  },
  {
   "cell_type": "markdown",
   "id": "886dcc3a",
   "metadata": {},
   "source": [
    "***\n",
    "What this means?\n",
    "\n",
    "***"
   ]
  },
  {
   "cell_type": "code",
   "execution_count": 19,
   "id": "7b1d4453",
   "metadata": {},
   "outputs": [
    {
     "data": {
      "text/plain": [
       "array([[1. , 0.5, 0. , 0. ],\n",
       "       [0.5, 1. , 0.5, 0. ],\n",
       "       [0. , 0.5, 1. , 0.5],\n",
       "       [0. , 0. , 0.5, 1. ]])"
      ]
     },
     "execution_count": 19,
     "metadata": {},
     "output_type": "execute_result"
    }
   ],
   "source": [
    "matrixObservable = TridiagonalToeplitz(2, 1, 1 / 2)\n",
    "matrixObservable.matrix"
   ]
  },
  {
   "cell_type": "code",
   "execution_count": 20,
   "id": "fe2395c7",
   "metadata": {},
   "outputs": [
    {
     "data": {
      "text/plain": [
       "0.931634446397188"
      ]
     },
     "execution_count": 20,
     "metadata": {},
     "output_type": "execute_result"
    }
   ],
   "source": [
    "np.matmul(classical_solution.state,np.matmul(matrixObservable.matrix,classical_solution.state))"
   ]
  },
  {
   "cell_type": "markdown",
   "id": "830fc3f6",
   "metadata": {},
   "source": [
    "***\n",
    "We get very close solution!\n",
    "\n",
    "Let us use different observable!\n",
    "***"
   ]
  },
  {
   "cell_type": "code",
   "execution_count": 21,
   "id": "358b8268",
   "metadata": {},
   "outputs": [
    {
     "data": {
      "text/plain": [
       "3.9446886364773524"
      ]
     },
     "execution_count": 21,
     "metadata": {},
     "output_type": "execute_result"
    }
   ],
   "source": [
    "observable2 = MatrixFunctional(1, 0)\n",
    "solution2 = hhl.solve(matrix, qc, observable2)\n",
    "\n",
    "solution2.observable"
   ]
  },
  {
   "cell_type": "code",
   "execution_count": 22,
   "id": "adf0678a",
   "metadata": {},
   "outputs": [
    {
     "data": {
      "text/plain": [
       "3.9727592267135314"
      ]
     },
     "execution_count": 22,
     "metadata": {},
     "output_type": "execute_result"
    }
   ],
   "source": [
    "np.dot(classical_solution.state,classical_solution.state)"
   ]
  },
  {
   "cell_type": "markdown",
   "id": "d3030b85",
   "metadata": {},
   "source": [
    "***\n",
    "Again, very good agreement!\n",
    "***"
   ]
  },
  {
   "cell_type": "code",
   "execution_count": 23,
   "id": "d1c42d0c",
   "metadata": {},
   "outputs": [
    {
     "name": "stdout",
     "output_type": "stream",
     "text": [
      "       ┌──────────────┐┌──────┐        ┌─────────┐\n",
      "q12_0: ┤0             ├┤4     ├────────┤4        ├\n",
      "       │  circuit-410 ││      │        │         │\n",
      "q12_1: ┤1             ├┤5     ├────────┤5        ├\n",
      "       └──────────────┘│      │┌──────┐│         │\n",
      "q13_0: ────────────────┤0     ├┤3     ├┤0        ├\n",
      "                       │      ││      ││         │\n",
      "q13_1: ────────────────┤1 QPE ├┤2     ├┤1 QPE_dg ├\n",
      "                       │      ││      ││         │\n",
      "q13_2: ────────────────┤2     ├┤1     ├┤2        ├\n",
      "                       │      ││  1/x ││         │\n",
      "q13_3: ────────────────┤3     ├┤0     ├┤3        ├\n",
      "                       │      ││      ││         │\n",
      "   a1: ────────────────┤6     ├┤      ├┤6        ├\n",
      "                       └──────┘│      │└─────────┘\n",
      "  q14: ────────────────────────┤4     ├───────────\n",
      "                               └──────┘           \n"
     ]
    }
   ],
   "source": [
    "print(solution.state)"
   ]
  },
  {
   "cell_type": "markdown",
   "id": "be7006fc",
   "metadata": {},
   "source": [
    "***\n",
    "\n",
    "* Classical solution .state returned the solution\n",
    "\n",
    "* Quantum solution .state returns quantum circuit which prepared the solution!\n",
    "\n",
    "\n",
    "***"
   ]
  },
  {
   "cell_type": "code",
   "execution_count": 24,
   "id": "4f17a245",
   "metadata": {},
   "outputs": [
    {
     "name": "stdout",
     "output_type": "stream",
     "text": [
      "[ 7.73345785e-02+7.75407312e-02j -9.41115742e-02-9.39004268e-02j\n",
      "  5.97600595e-03+5.77984263e-03j  2.39311393e-01+2.39110235e-01j\n",
      "  4.14341348e-03-4.28318088e-03j -4.49792446e-03+4.40583627e-03j\n",
      " -3.55382787e-03+3.63661939e-03j  5.74971867e-03-5.61781129e-03j\n",
      "  2.69214170e-03-3.33512771e-03j -4.52031446e-03+4.15003229e-03j\n",
      " -1.54405625e-03+1.92731032e-03j  7.69927936e-03-7.04671269e-03j\n",
      " -1.73972990e-03-2.22797252e-03j -7.72504249e-04-1.03857477e-03j\n",
      "  1.01532281e-04+3.79455482e-04j -5.27232770e-04-3.12701810e-05j\n",
      "  2.35005280e-02-2.34762729e-02j -1.29377006e-02+1.29449134e-02j\n",
      " -1.42118517e-02+1.42108766e-02j  2.27586152e-02-2.27835994e-02j\n",
      "  8.67182459e-03+8.69715938e-03j -4.68959071e-03-4.67067295e-03j\n",
      " -6.23042018e-03-6.25027849e-03j  6.17289167e-03+6.14757437e-03j\n",
      "  1.30984295e-02+1.32480844e-02j -6.62956040e-03-6.55033449e-03j\n",
      " -8.75197846e-03-8.87830098e-03j  9.75571079e-03+9.57729785e-03j\n",
      "  8.59819531e-05-2.08723131e-04j -1.74379493e-04+1.12979676e-04j\n",
      "  1.11141548e-03-9.99204508e-04j  2.16540114e-03-2.01285604e-03j\n",
      " -7.27526328e-05+9.45693036e-06j  2.87948516e-03-2.96235039e-03j\n",
      " -6.50177906e-04+6.74334571e-04j -8.99436801e-04+9.43162985e-04j\n",
      " -1.86386569e-04-2.09108292e-04j  3.16088395e-03+3.15246159e-03j\n",
      " -1.33584047e-03-1.28847823e-03j -7.39320017e-03-7.32989183e-03j\n",
      "  3.07903761e-03+2.87747785e-03j  1.21919159e-03+1.11527053e-03j\n",
      " -3.58674020e-03-3.43250048e-03j -4.34817475e-03-4.11122061e-03j\n",
      " -1.50569371e-03+1.62826821e-03j  1.68698090e-03-1.66847597e-03j\n",
      "  3.74266681e-03-3.90457844e-03j  1.73091741e-03-1.93585951e-03j\n",
      " -1.51048647e-02-1.50883462e-02j  9.66819162e-03+9.64629875e-03j\n",
      "  9.67279142e-03+9.62365296e-03j -1.45580740e-02-1.45847619e-02j\n",
      "  1.24990936e-02-1.25414806e-02j -4.37671037e-03+4.34438432e-03j\n",
      " -7.08418725e-03+7.09244965e-03j  8.20887805e-03-8.19528659e-03j\n",
      "  1.00345731e-02-1.01887264e-02j -3.37384805e-03+3.25173595e-03j\n",
      " -4.68510557e-03+4.70929960e-03j  8.00902625e-03-7.92499321e-03j\n",
      " -1.44566965e-03-1.58426743e-03j  3.64115468e-03+3.49918963e-03j\n",
      "  2.37266874e-03+2.34117834e-03j -3.60308923e-03-3.55658303e-03j\n",
      "  0.00000000e+00+0.00000000e+00j  0.00000000e+00+0.00000000e+00j\n",
      "  0.00000000e+00+0.00000000e+00j  0.00000000e+00+0.00000000e+00j\n",
      "  0.00000000e+00+0.00000000e+00j  0.00000000e+00+0.00000000e+00j\n",
      "  0.00000000e+00+0.00000000e+00j  0.00000000e+00+0.00000000e+00j\n",
      "  0.00000000e+00+0.00000000e+00j  0.00000000e+00+0.00000000e+00j\n",
      "  0.00000000e+00+0.00000000e+00j  0.00000000e+00+0.00000000e+00j\n",
      "  0.00000000e+00+0.00000000e+00j  0.00000000e+00+0.00000000e+00j\n",
      "  0.00000000e+00+0.00000000e+00j  0.00000000e+00+0.00000000e+00j\n",
      "  0.00000000e+00+0.00000000e+00j  0.00000000e+00+0.00000000e+00j\n",
      "  0.00000000e+00+0.00000000e+00j  0.00000000e+00+0.00000000e+00j\n",
      "  0.00000000e+00+0.00000000e+00j  0.00000000e+00+0.00000000e+00j\n",
      "  0.00000000e+00+0.00000000e+00j  0.00000000e+00+0.00000000e+00j\n",
      "  0.00000000e+00+0.00000000e+00j  0.00000000e+00+0.00000000e+00j\n",
      "  0.00000000e+00+0.00000000e+00j  0.00000000e+00+0.00000000e+00j\n",
      "  0.00000000e+00+0.00000000e+00j  0.00000000e+00+0.00000000e+00j\n",
      "  0.00000000e+00+0.00000000e+00j  0.00000000e+00+0.00000000e+00j\n",
      "  0.00000000e+00+0.00000000e+00j  0.00000000e+00+0.00000000e+00j\n",
      "  0.00000000e+00+0.00000000e+00j  0.00000000e+00+0.00000000e+00j\n",
      "  0.00000000e+00+0.00000000e+00j  0.00000000e+00+0.00000000e+00j\n",
      "  0.00000000e+00+0.00000000e+00j  0.00000000e+00+0.00000000e+00j\n",
      "  0.00000000e+00+0.00000000e+00j  0.00000000e+00+0.00000000e+00j\n",
      "  0.00000000e+00+0.00000000e+00j  0.00000000e+00+0.00000000e+00j\n",
      "  0.00000000e+00+0.00000000e+00j  0.00000000e+00+0.00000000e+00j\n",
      "  0.00000000e+00+0.00000000e+00j  0.00000000e+00+0.00000000e+00j\n",
      "  0.00000000e+00+0.00000000e+00j  0.00000000e+00+0.00000000e+00j\n",
      "  0.00000000e+00+0.00000000e+00j  0.00000000e+00+0.00000000e+00j\n",
      "  0.00000000e+00+0.00000000e+00j  0.00000000e+00+0.00000000e+00j\n",
      "  0.00000000e+00+0.00000000e+00j  0.00000000e+00+0.00000000e+00j\n",
      "  0.00000000e+00+0.00000000e+00j  0.00000000e+00+0.00000000e+00j\n",
      "  0.00000000e+00+0.00000000e+00j  0.00000000e+00+0.00000000e+00j\n",
      "  0.00000000e+00+0.00000000e+00j  0.00000000e+00+0.00000000e+00j\n",
      "  0.00000000e+00+0.00000000e+00j  0.00000000e+00+0.00000000e+00j\n",
      " -1.63313034e-01-1.63413455e-01j  3.06167274e-01+3.06051404e-01j\n",
      " -4.02932635e-01-4.02863111e-01j  3.68496344e-01+3.68581316e-01j\n",
      "  2.00986392e-03-1.70030096e-03j  8.42839613e-04-5.87346407e-04j\n",
      " -3.90097814e-03+3.68467371e-03j -5.68615529e-03+5.38670218e-03j\n",
      "  8.18999929e-04-2.23043353e-04j  5.34657134e-03-4.93053223e-03j\n",
      " -1.38558211e-03+9.50229628e-04j -1.04227110e-02+9.80833647e-03j\n",
      " -1.18586682e-02-1.14296450e-02j  7.18998953e-03+7.47890649e-03j\n",
      "  4.89455421e-03+4.55329877e-03j -1.58603908e-02-1.63087412e-02j\n",
      " -1.86940817e-02+1.87294506e-02j  1.30392663e-02-1.30080806e-02j\n",
      "  1.25048553e-02-1.25780736e-02j -2.06871501e-02+2.06401534e-02j\n",
      " -1.43933106e-02-1.43641694e-02j  6.49374663e-03+6.52346070e-03j\n",
      "  5.70507732e-03+5.67133401e-03j -1.59483515e-02-1.59750660e-02j\n",
      " -2.34290485e-02-2.34239499e-02j  1.18832686e-02+1.19013045e-02j\n",
      "  1.21925532e-02+1.22124874e-02j -2.31937015e-02-2.31648829e-02j\n",
      "  9.61604667e-03-9.53385514e-03j -2.02373751e-03+2.04879527e-03j\n",
      " -7.27995217e-03+7.14919237e-03j  8.78409981e-04-1.00989125e-03j\n",
      " -5.15636814e-03+5.16879357e-03j  5.69855919e-03-5.70720871e-03j\n",
      "  5.25292286e-03-5.30749822e-03j -9.91459997e-03+9.88109957e-03j\n",
      " -1.02313523e-02-1.01056682e-02j  4.78567519e-03+4.92581924e-03j\n",
      "  2.23630505e-03+2.25911745e-03j -1.49909798e-02-1.50155573e-02j\n",
      " -7.98487863e-03-7.75855119e-03j  1.65445510e-03+1.82438195e-03j\n",
      "  3.88937898e-03+3.75847659e-03j -5.00614167e-03-5.20425528e-03j\n",
      "  1.68301331e-03-1.84188464e-03j  3.17816258e-03-3.34669282e-03j\n",
      " -3.47409966e-03+3.51981262e-03j -9.72408706e-03+9.86760540e-03j\n",
      " -8.42953565e-03-8.40509552e-03j  1.31012827e-03+1.35852347e-03j\n",
      "  2.08006073e-03+2.07348421e-03j -8.72863779e-03-8.75060083e-03j\n",
      "  5.13994095e-03-5.18894480e-03j  2.00170675e-03-2.10688140e-03j\n",
      " -3.46695480e-03+3.37594066e-03j -4.19308440e-03+4.15283539e-03j\n",
      " -8.11238089e-03+8.16698788e-03j  5.18567430e-03-5.18048790e-03j\n",
      "  2.94279359e-03-2.99791312e-03j -1.21926905e-02+1.21556551e-02j\n",
      " -1.94534344e-02-1.93283775e-02j  7.72832324e-03+7.84741777e-03j\n",
      "  8.70714004e-03+8.69443777e-03j -1.83580781e-02-1.84072390e-02j\n",
      "  0.00000000e+00+0.00000000e+00j  0.00000000e+00+0.00000000e+00j\n",
      "  0.00000000e+00+0.00000000e+00j  0.00000000e+00+0.00000000e+00j\n",
      "  0.00000000e+00+0.00000000e+00j  0.00000000e+00+0.00000000e+00j\n",
      "  0.00000000e+00+0.00000000e+00j  0.00000000e+00+0.00000000e+00j\n",
      "  0.00000000e+00+0.00000000e+00j  0.00000000e+00+0.00000000e+00j\n",
      "  0.00000000e+00+0.00000000e+00j  0.00000000e+00+0.00000000e+00j\n",
      "  0.00000000e+00+0.00000000e+00j  0.00000000e+00+0.00000000e+00j\n",
      "  0.00000000e+00+0.00000000e+00j  0.00000000e+00+0.00000000e+00j\n",
      "  0.00000000e+00+0.00000000e+00j  0.00000000e+00+0.00000000e+00j\n",
      "  0.00000000e+00+0.00000000e+00j  0.00000000e+00+0.00000000e+00j\n",
      "  0.00000000e+00+0.00000000e+00j  0.00000000e+00+0.00000000e+00j\n",
      "  0.00000000e+00+0.00000000e+00j  0.00000000e+00+0.00000000e+00j\n",
      "  0.00000000e+00+0.00000000e+00j  0.00000000e+00+0.00000000e+00j\n",
      "  0.00000000e+00+0.00000000e+00j  0.00000000e+00+0.00000000e+00j\n",
      "  0.00000000e+00+0.00000000e+00j  0.00000000e+00+0.00000000e+00j\n",
      "  0.00000000e+00+0.00000000e+00j  0.00000000e+00+0.00000000e+00j\n",
      "  0.00000000e+00+0.00000000e+00j  0.00000000e+00+0.00000000e+00j\n",
      "  0.00000000e+00+0.00000000e+00j  0.00000000e+00+0.00000000e+00j\n",
      "  0.00000000e+00+0.00000000e+00j  0.00000000e+00+0.00000000e+00j\n",
      "  0.00000000e+00+0.00000000e+00j  0.00000000e+00+0.00000000e+00j\n",
      "  0.00000000e+00+0.00000000e+00j  0.00000000e+00+0.00000000e+00j\n",
      "  0.00000000e+00+0.00000000e+00j  0.00000000e+00+0.00000000e+00j\n",
      "  0.00000000e+00+0.00000000e+00j  0.00000000e+00+0.00000000e+00j\n",
      "  0.00000000e+00+0.00000000e+00j  0.00000000e+00+0.00000000e+00j\n",
      "  0.00000000e+00+0.00000000e+00j  0.00000000e+00+0.00000000e+00j\n",
      "  0.00000000e+00+0.00000000e+00j  0.00000000e+00+0.00000000e+00j\n",
      "  0.00000000e+00+0.00000000e+00j  0.00000000e+00+0.00000000e+00j\n",
      "  0.00000000e+00+0.00000000e+00j  0.00000000e+00+0.00000000e+00j\n",
      "  0.00000000e+00+0.00000000e+00j  0.00000000e+00+0.00000000e+00j\n",
      "  0.00000000e+00+0.00000000e+00j  0.00000000e+00+0.00000000e+00j\n",
      "  0.00000000e+00+0.00000000e+00j  0.00000000e+00+0.00000000e+00j\n",
      "  0.00000000e+00+0.00000000e+00j  0.00000000e+00+0.00000000e+00j]\n"
     ]
    }
   ],
   "source": [
    "from qiskit.quantum_info import Statevector\n",
    "\n",
    "stateVector = Statevector(solution.state).data\n",
    "\n",
    "print(stateVector)"
   ]
  },
  {
   "cell_type": "markdown",
   "id": "a9496051",
   "metadata": {},
   "source": [
    "***\n",
    "Extracting the solution for exact 2x2 case:\n",
    "\n",
    "***"
   ]
  },
  {
   "cell_type": "code",
   "execution_count": 25,
   "id": "32f3d021",
   "metadata": {},
   "outputs": [],
   "source": [
    "matrixSmall = TridiagonalToeplitz(1, 1, -1 / 3)\n",
    "vector = np.array([1, 0])\n"
   ]
  },
  {
   "cell_type": "code",
   "execution_count": 26,
   "id": "32ec6710",
   "metadata": {},
   "outputs": [
    {
     "data": {
      "text/plain": [
       "array([[ 1.        , -0.33333333],\n",
       "       [-0.33333333,  1.        ]])"
      ]
     },
     "execution_count": 26,
     "metadata": {},
     "output_type": "execute_result"
    }
   ],
   "source": [
    "matrixSmall.matrix"
   ]
  },
  {
   "cell_type": "code",
   "execution_count": 27,
   "id": "be7bad90",
   "metadata": {},
   "outputs": [],
   "source": [
    "solutionSmall = HHL().solve(matrixSmall, vector)"
   ]
  },
  {
   "cell_type": "code",
   "execution_count": 28,
   "id": "b2226928",
   "metadata": {},
   "outputs": [
    {
     "name": "stdout",
     "output_type": "stream",
     "text": [
      "[ 4.33012702e-01-4.56921438e-17j -4.33012702e-01-5.79891570e-16j\n",
      " -6.81286880e-17+1.21130180e-16j  9.19392076e-17+1.46276192e-16j\n",
      " -2.84034821e-16+3.18005055e-16j  1.53964102e-16+4.56921438e-17j\n",
      "  1.50274614e-16-8.43311379e-17j  2.68031548e-16+4.56921438e-17j\n",
      " -2.25835328e-16+6.47049822e-17j -3.17703567e-17+6.25277055e-16j\n",
      "  3.30974725e-16+6.47049822e-17j -2.27588711e-16+1.68662276e-17j\n",
      "  2.03693583e-16+4.44655091e-17j -2.92215546e-16-4.20122396e-17j\n",
      "  4.80791253e-17+4.44655091e-17j -5.54410596e-18-2.23860839e-17j\n",
      "  7.50000000e-01-9.01576529e-17j  2.50000000e-01+3.74736911e-16j\n",
      "  2.13973408e-16-4.92493845e-16j -2.98012594e-16+2.39193773e-17j\n",
      " -5.74836793e-17-7.18501295e-16j -1.69203376e-16-2.69246324e-16j\n",
      "  3.02521756e-16+2.13741102e-16j  2.81620466e-16+5.21319762e-17j\n",
      " -1.30181712e-16-4.31162109e-16j -7.58235538e-17-1.80928623e-16j\n",
      "  1.41158930e-16+4.96787067e-17j  8.03327159e-17+3.06658683e-18j\n",
      "  5.31300993e-17+4.01722875e-17j  3.19622425e-16-2.02394731e-17j\n",
      "  3.48987315e-17-4.21042372e-16j  2.01791147e-17+1.88288432e-16j]\n"
     ]
    }
   ],
   "source": [
    "stateVector = Statevector(solutionSmall.state).data\n",
    "\n",
    "# Extract the right vector components. \n",
    "\n",
    "print(stateVector)"
   ]
  },
  {
   "cell_type": "markdown",
   "id": "9ade2f4a",
   "metadata": {},
   "source": [
    "***\n",
    "We can find the solution (0.75, 0.25)\n",
    "***"
   ]
  },
  {
   "cell_type": "code",
   "execution_count": 29,
   "id": "a3c30693",
   "metadata": {},
   "outputs": [],
   "source": [
    "classSolutionSmall = NumPyLinearSolver().solve(matrixSmall.matrix, vector / np.linalg.norm(vector))"
   ]
  },
  {
   "cell_type": "code",
   "execution_count": 30,
   "id": "d7397e8d",
   "metadata": {},
   "outputs": [
    {
     "data": {
      "text/plain": [
       "array([1.125, 0.375])"
      ]
     },
     "execution_count": 30,
     "metadata": {},
     "output_type": "execute_result"
    }
   ],
   "source": [
    "classSolutionSmall.state"
   ]
  },
  {
   "cell_type": "markdown",
   "id": "4c21bff4",
   "metadata": {},
   "source": [
    "***\n",
    "# Quantum Phase Estimation\n",
    "\n",
    "The Quantum Phase Estimator is a circuit that estimates the phase of a unitary operator $U$.\n",
    "\n",
    "The problem solved is as follows:\n",
    "\n",
    "$$\n",
    "U|\\Psi>=e^{2\\pi i \\theta}|Psi>\\,,\n",
    "$$\n",
    "\n",
    "where $|\\Psi>$ is an eigenvector and $e^{2\\pi i \\theta}$ is the corresponding eigenvalue.\n",
    "\n",
    "We build the QPE on the example:\n",
    "\n",
    "We consider $T$-gate:\n",
    "\n",
    "$$\n",
    "T|1>= e^{i\\frac{\\pi}{4}}|1>= e^{i 2 \\pi\\frac{1}{4}}|1>\n",
    "$$\n",
    "\n",
    "The expression for $\\Theta$ gives:\n",
    "\n",
    "$$\n",
    "\\Theta=\\frac{1}{8}\n",
    "$$\n",
    "\n",
    "\n",
    "\n",
    "\n",
    "\n",
    "***"
   ]
  },
  {
   "cell_type": "code",
   "execution_count": 31,
   "id": "8a3339ae",
   "metadata": {},
   "outputs": [],
   "source": [
    "# We need to define n-qubits for counting register\n",
    "# Plus one qubit to store |Psi>, this will be initialised as |1> as T|1>=exp(i pi /4)|1>\n",
    "\n",
    "nQubits = 3\n",
    "\n",
    "\n",
    "# We do not need to do measurement on state with |Psi>\n",
    "qpe = QuantumCircuit(nQubits+1, nQubits)\n"
   ]
  },
  {
   "cell_type": "code",
   "execution_count": 32,
   "id": "427a88c7",
   "metadata": {},
   "outputs": [
    {
     "data": {
      "image/png": "[encoded data removed]",
      "text/plain": [
       "<Figure size 146.797x325.08 with 1 Axes>"
      ]
     },
     "execution_count": 32,
     "metadata": {},
     "output_type": "execute_result"
    }
   ],
   "source": [
    "# First, we initialise the |Psi> as |1>\n",
    "qpe.x(nQubits)\n",
    "qpe.draw('mpl')"
   ]
  },
  {
   "cell_type": "code",
   "execution_count": 33,
   "id": "275f8c02",
   "metadata": {},
   "outputs": [
    {
     "data": {
      "image/png": "[encoded data removed]",
      "text/plain": [
       "<Figure size 146.797x325.08 with 1 Axes>"
      ]
     },
     "execution_count": 33,
     "metadata": {},
     "output_type": "execute_result"
    }
   ],
   "source": [
    "# We need to apply Hadamard gates on the counting qubits\n",
    "for i in range(nQubits):\n",
    "    qpe.h(i)\n",
    "qpe.draw('mpl')"
   ]
  },
  {
   "cell_type": "code",
   "execution_count": 34,
   "id": "cae09f8c",
   "metadata": {},
   "outputs": [
    {
     "data": {
      "image/png": "[encoded data removed]",
      "text/plain": [
       "<Figure size 989.597x325.08 with 1 Axes>"
      ]
     },
     "execution_count": 34,
     "metadata": {},
     "output_type": "execute_result"
    }
   ],
   "source": [
    "# We apply controlled unitary operation with pi/4 angle\n",
    "# The first counting qubit, we apply it 2^0\n",
    "# The second counting qubit, we apply it 2^1\n",
    "# The third counting qubit, we apply it 2^2\n",
    "# ...\n",
    "\n",
    "import math as math\n",
    "\n",
    "for i in range(nQubits):\n",
    "    for j in range(2**i):\n",
    "        qpe.cp(math.pi/4, i, nQubits)\n",
    "\n",
    "qpe.draw('mpl')"
   ]
  },
  {
   "cell_type": "code",
   "execution_count": 35,
   "id": "a68b7c06",
   "metadata": {},
   "outputs": [],
   "source": [
    "# We need inverse Fourier transform\n",
    "# We use the Qiskit function provided\n",
    "def qft_dagger(qc, n):\n",
    "    \"\"\"n-qubit QFTdagger the first n qubits in circ\"\"\"\n",
    "    # Don't forget the Swaps!\n",
    "    for qubit in range(n//2):\n",
    "        qc.swap(qubit, n-qubit-1)\n",
    "    for j in range(n):\n",
    "        for m in range(j):\n",
    "            qc.cp(-math.pi/float(2**(j-m)), m, j)\n",
    "        qc.h(j)"
   ]
  },
  {
   "cell_type": "code",
   "execution_count": 36,
   "id": "17e081bd",
   "metadata": {},
   "outputs": [
    {
     "data": {
      "image/png": "[encoded data removed]",
      "text/plain": [
       "<Figure size 1049.8x325.08 with 1 Axes>"
      ]
     },
     "execution_count": 36,
     "metadata": {},
     "output_type": "execute_result"
    }
   ],
   "source": [
    "# We add barier (for visual considerations):\n",
    "qpe.barrier()\n",
    "qpe.draw('mpl')"
   ]
  },
  {
   "cell_type": "code",
   "execution_count": 37,
   "id": "e1150634",
   "metadata": {},
   "outputs": [],
   "source": [
    "# Inverse Quantum Fourier Transform\n",
    "qft_dagger(qpe, nQubits)"
   ]
  },
  {
   "cell_type": "code",
   "execution_count": 38,
   "id": "13e64959",
   "metadata": {},
   "outputs": [
    {
     "data": {
      "image/png": "[encoded data removed]",
      "text/plain": [
       "<Figure size 1591.6x686.28 with 1 Axes>"
      ]
     },
     "execution_count": 38,
     "metadata": {},
     "output_type": "execute_result"
    }
   ],
   "source": [
    "# Add measurement\n",
    "qpe.barrier()\n",
    "for i in range(nQubits):\n",
    "    qpe.measure(i,i)\n",
    "    \n",
    "qpe.draw('mpl')"
   ]
  },
  {
   "cell_type": "markdown",
   "id": "e42b87b2",
   "metadata": {},
   "source": [
    "***\n",
    "We have circuit, so we can perform measurement:\n",
    "\n",
    "***"
   ]
  },
  {
   "cell_type": "code",
   "execution_count": 39,
   "id": "654e348f",
   "metadata": {},
   "outputs": [
    {
     "data": {
      "image/png": "[encoded data removed]",
      "text/plain": [
       "<Figure size 1591.6x686.28 with 1 Axes>"
      ]
     },
     "execution_count": 39,
     "metadata": {},
     "output_type": "execute_result"
    }
   ],
   "source": [
    "# We transpile the circuit\n",
    "from qiskit import transpile\n",
    "\n",
    "tQpe = transpile(qpe, simulator)\n",
    "tQpe.draw('mpl')"
   ]
  },
  {
   "cell_type": "code",
   "execution_count": 40,
   "id": "1a058489",
   "metadata": {},
   "outputs": [],
   "source": [
    "from qiskit import assemble\n",
    "results = simulator.run(assemble(tQpe, shots=1024)).result()"
   ]
  },
  {
   "cell_type": "code",
   "execution_count": 41,
   "id": "122c4fd1",
   "metadata": {},
   "outputs": [
    {
     "data": {
      "image/png": "[encoded data removed]",
      "text/plain": [
       "<Figure size 504x360 with 1 Axes>"
      ]
     },
     "execution_count": 41,
     "metadata": {},
     "output_type": "execute_result"
    }
   ],
   "source": [
    "plot_histogram(results.get_counts())"
   ]
  },
  {
   "cell_type": "markdown",
   "id": "85ae56b5",
   "metadata": {},
   "source": [
    "***\n",
    "$2^{nQubits} \\Theta = 1$\n",
    "\n",
    "which gives us:\n",
    "\n",
    "$\\Theta=\\frac{1}{8}$\n",
    "\n",
    "As expected!\n",
    "\n",
    "We can try this with different number of nQubits!\n",
    "\n",
    "The conversions is:\n",
    "\n",
    "$$\n",
    "int('xxxxx', 2)/2^{nQubits}\n",
    "$$\n",
    "\n",
    "where 'xxxxx' is register with largest number of counts, base=2.\n",
    "\n",
    "***"
   ]
  },
  {
   "cell_type": "code",
   "execution_count": 42,
   "id": "577a3ea2",
   "metadata": {},
   "outputs": [
    {
     "data": {
      "text/plain": [
       "{'001': 1024}"
      ]
     },
     "execution_count": 42,
     "metadata": {},
     "output_type": "execute_result"
    }
   ],
   "source": [
    "counts = results.get_counts()\n",
    "counts"
   ]
  },
  {
   "cell_type": "code",
   "execution_count": null,
   "id": "8a830657",
   "metadata": {},
   "outputs": [],
   "source": []
  },
  {
   "cell_type": "markdown",
   "id": "2944bb47",
   "metadata": {},
   "source": [
    "***\n",
    "## Pi Estimation\n",
    "\n",
    "Qiskit example.\n",
    "\n",
    "We use QPE to estimate $\\pi$ (using the nice qiskit example).\n",
    "\n",
    "The problem is as follows:\n",
    "\n",
    "$$\n",
    "p(\\Theta)|1>=e^{i\\Theta}|1>\\,.\n",
    "$$\n",
    "\n",
    "If we choose $\\Theta=1$, we can get estimate of $\\pi$. We use the qiskit code for this estimation:\n",
    "\n",
    "***"
   ]
  },
  {
   "cell_type": "code",
   "execution_count": 43,
   "id": "1262dbd9",
   "metadata": {},
   "outputs": [
    {
     "name": "stdout",
     "output_type": "stream",
     "text": [
      "Job Status: job has successfully run\n",
      "2 qubits, pi ≈ 2.0\n",
      "Job Status: job has successfully run\n",
      "3 qubits, pi ≈ 4.0\n",
      "Job Status: job has successfully run\n",
      "4 qubits, pi ≈ 2.6666666666666665\n",
      "Job Status: job has successfully run\n",
      "5 qubits, pi ≈ 3.2\n",
      "Job Status: job has successfully run\n",
      "6 qubits, pi ≈ 3.2\n",
      "Job Status: job has successfully run\n",
      "7 qubits, pi ≈ 3.2\n",
      "Job Status: job has successfully run\n",
      "8 qubits, pi ≈ 3.1219512195121952\n",
      "Job Status: job has successfully run\n",
      "9 qubits, pi ≈ 3.1604938271604937\n",
      "Job Status: job has successfully run\n",
      "10 qubits, pi ≈ 3.1411042944785277\n",
      "Job Status: job has successfully run\n",
      "11 qubits, pi ≈ 3.1411042944785277\n",
      "Job Status: job has successfully run\n",
      "12 qubits, pi ≈ 3.1411042944785277\n"
     ]
    }
   ],
   "source": [
    "# pi\n",
    "pi = np.pi\n",
    "\n",
    "from qiskit.tools.monitor import job_monitor\n",
    "\n",
    "# we wrap the circuit preparation to a function\n",
    "def qpe_pre(circ_, n_qubits):\n",
    "    circ_.h(range(n_qubits))\n",
    "    circ_.x(n_qubits)\n",
    "\n",
    "    for x in reversed(range(n_qubits)):\n",
    "        for _ in range(2**(n_qubits-1-x)):\n",
    "            circ_.cp(1, n_qubits-1-x, n_qubits)\n",
    "\n",
    "# running the circuit\n",
    "def run_job(circ, backend, shots=1024, optimization_level=0):\n",
    "    t_circ = transpile(circ, backend, optimization_level=optimization_level)\n",
    "    qobj = assemble(t_circ, shots=shots)\n",
    "    job = backend.run(qobj)\n",
    "    job_monitor(job)\n",
    "    return job.result().get_counts()\n",
    "\n",
    "# Pi estimator\n",
    "def get_pi_estimate(n_qubits):\n",
    "\n",
    "    # create the circuit\n",
    "    circ = QuantumCircuit(n_qubits + 1, n_qubits)\n",
    "    # create the input state\n",
    "    qpe_pre(circ, n_qubits)\n",
    "    # apply a barrier\n",
    "    circ.barrier()\n",
    "    # apply the inverse fourier transform\n",
    "    qft_dagger(circ, n_qubits)\n",
    "    # apply  a barrier\n",
    "    circ.barrier()\n",
    "    # measure all but the last qubits\n",
    "    circ.measure(range(n_qubits), range(n_qubits))\n",
    "\n",
    "    # run the job and get the results\n",
    "    counts = run_job(circ, backend=simulator, shots=10000, optimization_level=0)\n",
    "    # print(counts) \n",
    "\n",
    "    # get the count that occurred most frequently\n",
    "    max_counts_result = max(counts, key=counts.get)\n",
    "    max_counts_result = int(max_counts_result, 2)\n",
    "    \n",
    "    # solve for pi from the measured counts\n",
    "    theta = max_counts_result/2**n_qubits\n",
    "    return (1./(2*theta))\n",
    "\n",
    "# We run estimations\n",
    "nqs = list(range(2,12+1))\n",
    "pi_estimates = []\n",
    "for nq in nqs:\n",
    "    thisnq_pi_estimate = get_pi_estimate(nq)\n",
    "    pi_estimates.append(thisnq_pi_estimate)\n",
    "    print(f\"{nq} qubits, pi ≈ {thisnq_pi_estimate}\")"
   ]
  },
  {
   "cell_type": "code",
   "execution_count": 44,
   "id": "da25fdd7",
   "metadata": {},
   "outputs": [
    {
     "data": {
      "image/png": "[encoded data removed]",
      "text/plain": [
       "<Figure size 432x288 with 1 Axes>"
      ]
     },
     "metadata": {
      "needs_background": "light"
     },
     "output_type": "display_data"
    }
   ],
   "source": [
    "import matplotlib.pyplot as plotter\n",
    "\n",
    "plotter.plot(nqs, [pi]*len(nqs), '--r')\n",
    "plotter.plot(nqs, pi_estimates, '.-', markersize=12)\n",
    "plotter.xlim([1.5, 12.5])\n",
    "plotter.ylim([1.5, 4.5])\n",
    "plotter.legend(['$\\pi$', 'estimate of $\\pi$'])\n",
    "plotter.xlabel('Number of qubits', fontdict={'size':20})\n",
    "plotter.ylabel('$\\pi$ and estimate of $\\pi$', fontdict={'size':20})\n",
    "plotter.tick_params(axis='x', labelsize=12)\n",
    "plotter.tick_params(axis='y', labelsize=12)\n",
    "plotter.show()"
   ]
  },
  {
   "cell_type": "code",
   "execution_count": null,
   "id": "c966cb8c",
   "metadata": {},
   "outputs": [],
   "source": []
  },
  {
   "cell_type": "code",
   "execution_count": null,
   "id": "03d76359",
   "metadata": {},
   "outputs": [],
   "source": []
  }
 ],
 "metadata": {
  "kernelspec": {
   "display_name": "Python 3 (ipykernel)",
   "language": "python",
   "name": "python3"
  },
  "language_info": {
   "codemirror_mode": {
    "name": "ipython",
    "version": 3
   },
   "file_extension": ".py",
   "mimetype": "text/x-python",
   "name": "python",
   "nbconvert_exporter": "python",
   "pygments_lexer": "ipython3",
   "version": "3.8.12"
  }
 },
 "nbformat": 4,
 "nbformat_minor": 5
}
